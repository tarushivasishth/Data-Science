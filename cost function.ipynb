{
 "cells": [
  {
   "cell_type": "code",
   "execution_count": 1,
   "id": "2fa30952-05f0-4953-aac3-746ab6d19985",
   "metadata": {},
   "outputs": [],
   "source": [
    "import numpy as np\n",
    "y_pred = np.array([1,1,0,0,1])\n",
    "y_true = np.array([0.3,0.7,1,0,0.5])\n",
    "import warnings\n",
    "warnings.filterwarnings('ignore')"
   ]
  },
  {
   "cell_type": "code",
   "execution_count": 2,
   "id": "e608a411-3c9e-406c-9d72-d02569b7ac75",
   "metadata": {},
   "outputs": [],
   "source": [
    "# mae with core python\n",
    "def mae(y_true,y_predicted):\n",
    "    total_error = 0\n",
    "    for yt,yp in zip(y_true,y_predicted):\n",
    "        total_error += abs(yt - yp)\n",
    "    mae = total_error/len(y_true)\n",
    "    print(\"Total error: \",total_error)\n",
    "    print(\"mae: \",mae)"
   ]
  },
  {
   "cell_type": "code",
   "execution_count": 3,
   "id": "4b80ad84-5ff0-4791-ba0a-0e7ae6d56c00",
   "metadata": {},
   "outputs": [
    {
     "name": "stdout",
     "output_type": "stream",
     "text": [
      "Total error:  2.5\n",
      "mae:  0.5\n"
     ]
    }
   ],
   "source": [
    "mae(y_true,y_pred)"
   ]
  },
  {
   "cell_type": "code",
   "execution_count": 4,
   "id": "ce4b266c-873e-423d-9824-4dd0c24ef1c4",
   "metadata": {},
   "outputs": [
    {
     "data": {
      "text/plain": [
       "0.5"
      ]
     },
     "execution_count": 4,
     "metadata": {},
     "output_type": "execute_result"
    }
   ],
   "source": [
    "np.mean(np.abs(y_true - y_pred))"
   ]
  },
  {
   "cell_type": "code",
   "execution_count": 5,
   "id": "4e044438-898a-4bd6-9c4e-e6eda31b694e",
   "metadata": {},
   "outputs": [
    {
     "data": {
      "text/plain": [
       "nan"
      ]
     },
     "execution_count": 5,
     "metadata": {},
     "output_type": "execute_result"
    }
   ],
   "source": [
    "# log loss with core python\n",
    "-np.mean(y_true * np.log(y_pred) + (1-y_true) * np.log(1-y_pred)) #nan becoz log(1)=0 and log(0)='inf'"
   ]
  },
  {
   "cell_type": "code",
   "execution_count": 6,
   "id": "98fa937a-0b53-42f5-a337-223a3fd41422",
   "metadata": {},
   "outputs": [
    {
     "data": {
      "text/plain": [
       "array([  0.,   0., -inf, -inf,   0.])"
      ]
     },
     "execution_count": 6,
     "metadata": {},
     "output_type": "execute_result"
    }
   ],
   "source": [
    "np.log(y_pred)\n",
    "# for solving this issue, we can replace 0 with a value very close to 0 like 1e-15 and replace 1 with value very close to 1 like 0.9999999"
   ]
  },
  {
   "cell_type": "code",
   "execution_count": 7,
   "id": "67f4cd33-3521-4065-8362-53034722c6af",
   "metadata": {},
   "outputs": [
    {
     "data": {
      "text/plain": [
       "[1, 1, 1e-15, 1e-15, 1]"
      ]
     },
     "execution_count": 7,
     "metadata": {},
     "output_type": "execute_result"
    }
   ],
   "source": [
    "epsilon = 1e-15\n",
    "y_pred_new = [max(i,epsilon) for i in y_pred]\n",
    "y_pred_new"
   ]
  },
  {
   "cell_type": "code",
   "execution_count": 8,
   "id": "6d2ea9e6-61c0-4a51-b63d-eaa51fba7b9e",
   "metadata": {},
   "outputs": [],
   "source": [
    "y_pred_new = [min(i,1-epsilon) for i in y_pred_new]\n",
    "y_pred_new = np.array(y_pred_new)"
   ]
  },
  {
   "cell_type": "code",
   "execution_count": 9,
   "id": "5814bca1-a3b1-40b5-b508-6e6bd2713422",
   "metadata": {},
   "outputs": [
    {
     "data": {
      "text/plain": [
       "17.2696280766844"
      ]
     },
     "execution_count": 9,
     "metadata": {},
     "output_type": "execute_result"
    }
   ],
   "source": [
    "-np.mean(y_true * np.log(y_pred_new) + (1-y_true) * np.log(1-y_pred_new))"
   ]
  },
  {
   "cell_type": "code",
   "execution_count": 4,
   "id": "24a46376-d5ef-4fbe-8983-2242fad6dc52",
   "metadata": {},
   "outputs": [],
   "source": [
    "def log_loss(y_true,y_predicted):\n",
    "    epsilon = 1e-15\n",
    "    y_pred_new = [max(i,epsilon) for i in y_pred]\n",
    "    y_pred_new = [min(i,1-epsilon) for i in y_pred_new]\n",
    "    y_pred_new = np.array(y_pred_new)\n",
    "    return -np.mean(y_true * np.log(y_pred_new) + (1-y_true) * np.log(1-y_pred_new))"
   ]
  },
  {
   "cell_type": "code",
   "execution_count": 5,
   "id": "994bf12e-77b3-4b08-b849-71c9ddd026fe",
   "metadata": {},
   "outputs": [
    {
     "data": {
      "text/plain": [
       "17.2696280766844"
      ]
     },
     "execution_count": 5,
     "metadata": {},
     "output_type": "execute_result"
    }
   ],
   "source": [
    "log_loss(y_true,y_pred)"
   ]
  },
  {
   "cell_type": "markdown",
   "id": "d9009e60-d94e-4938-9071-f225aec9b5aa",
   "metadata": {},
   "source": [
    "# Exercise"
   ]
  },
  {
   "cell_type": "code",
   "execution_count": 16,
   "id": "01662a30-4090-4c9d-8bfe-47ba485db5a0",
   "metadata": {},
   "outputs": [],
   "source": [
    "# mse with python implementation\n",
    "def mse(y_true,y_pred):\n",
    "    total_error = 0\n",
    "    for yt,yp in zip(y_true,y_pred):\n",
    "        total_error += (yt - yp)**2\n",
    "    mse = total_error/len(y_pred)\n",
    "    print(\"Total error: \",total_error)\n",
    "    print(\"mse: \",mse)"
   ]
  },
  {
   "cell_type": "code",
   "execution_count": 17,
   "id": "68bafe40-1465-4776-9d61-cecb5f3ab01c",
   "metadata": {},
   "outputs": [
    {
     "name": "stdout",
     "output_type": "stream",
     "text": [
      "Total error:  1.83\n",
      "mse:  0.366\n"
     ]
    }
   ],
   "source": [
    "mse(y_true,y_pred)"
   ]
  },
  {
   "cell_type": "code",
   "execution_count": 18,
   "id": "1fd11cd4-c689-4cce-98f9-b70fbd4b6a39",
   "metadata": {},
   "outputs": [
    {
     "data": {
      "text/plain": [
       "0.366"
      ]
     },
     "execution_count": 18,
     "metadata": {},
     "output_type": "execute_result"
    }
   ],
   "source": [
    "np.mean(np.square(y_true - y_pred))"
   ]
  },
  {
   "cell_type": "code",
   "execution_count": null,
   "id": "76ac24fe-4682-4800-b7bf-fde7feadd161",
   "metadata": {},
   "outputs": [],
   "source": []
  }
 ],
 "metadata": {
  "kernelspec": {
   "display_name": "Python 3 (ipykernel)",
   "language": "python",
   "name": "python3"
  },
  "language_info": {
   "codemirror_mode": {
    "name": "ipython",
    "version": 3
   },
   "file_extension": ".py",
   "mimetype": "text/x-python",
   "name": "python",
   "nbconvert_exporter": "python",
   "pygments_lexer": "ipython3",
   "version": "3.11.4"
  }
 },
 "nbformat": 4,
 "nbformat_minor": 5
}
