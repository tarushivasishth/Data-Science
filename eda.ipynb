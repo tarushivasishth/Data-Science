{
 "cells": [
  {
   "cell_type": "code",
   "execution_count": 125,
   "id": "56adf960-652a-400c-9bca-ae84d7d96159",
   "metadata": {},
   "outputs": [],
   "source": [
    "import numpy as np\n",
    "import pandas as pd\n",
    "import matplotlib.pyplot as plt\n",
    "import seaborn as sns"
   ]
  },
  {
   "cell_type": "code",
   "execution_count": 3,
   "id": "74f69988-50dd-444a-9ba6-7a2dda98b141",
   "metadata": {},
   "outputs": [],
   "source": [
    "housing_df = pd.read_csv(r\"C:\\Users\\DeveshNarain\\Downloads\\housing_data.csv\")"
   ]
  },
  {
   "cell_type": "code",
   "execution_count": 4,
   "id": "685af34a-0d0a-4f1b-8c32-79becf36cacf",
   "metadata": {},
   "outputs": [],
   "source": [
    "experiment_df = pd.read_csv(r\"C:\\Users\\DeveshNarain\\Downloads\\experiment_data.csv\")"
   ]
  },
  {
   "cell_type": "code",
   "execution_count": 5,
   "id": "3e11accb-3b6d-4e4f-a41a-990d67afdcdd",
   "metadata": {},
   "outputs": [],
   "source": [
    "sales_df = pd.read_csv(r\"C:\\Users\\DeveshNarain\\Downloads\\sales_data.csv\")"
   ]
  },
  {
   "cell_type": "markdown",
   "id": "4efb897d-305f-47c3-9a32-340c0c200cbb",
   "metadata": {},
   "source": [
    "# Case Study-1: Numpy"
   ]
  },
  {
   "cell_type": "code",
   "execution_count": 6,
   "id": "94832e29-4d64-4c50-a017-6b1fa87965b2",
   "metadata": {},
   "outputs": [
    {
     "data": {
      "text/html": [
       "<div>\n",
       "<style scoped>\n",
       "    .dataframe tbody tr th:only-of-type {\n",
       "        vertical-align: middle;\n",
       "    }\n",
       "\n",
       "    .dataframe tbody tr th {\n",
       "        vertical-align: top;\n",
       "    }\n",
       "\n",
       "    .dataframe thead th {\n",
       "        text-align: right;\n",
       "    }\n",
       "</style>\n",
       "<table border=\"1\" class=\"dataframe\">\n",
       "  <thead>\n",
       "    <tr style=\"text-align: right;\">\n",
       "      <th></th>\n",
       "      <th>Time</th>\n",
       "      <th>Temperature</th>\n",
       "      <th>Pressure</th>\n",
       "      <th>Voltage</th>\n",
       "    </tr>\n",
       "  </thead>\n",
       "  <tbody>\n",
       "    <tr>\n",
       "      <th>0</th>\n",
       "      <td>1</td>\n",
       "      <td>32.585458</td>\n",
       "      <td>100672.109551</td>\n",
       "      <td>0.257675</td>\n",
       "    </tr>\n",
       "    <tr>\n",
       "      <th>1</th>\n",
       "      <td>2</td>\n",
       "      <td>29.454905</td>\n",
       "      <td>100146.262234</td>\n",
       "      <td>3.275788</td>\n",
       "    </tr>\n",
       "    <tr>\n",
       "      <th>2</th>\n",
       "      <td>3</td>\n",
       "      <td>33.205826</td>\n",
       "      <td>100661.234855</td>\n",
       "      <td>0.524109</td>\n",
       "    </tr>\n",
       "    <tr>\n",
       "      <th>3</th>\n",
       "      <td>4</td>\n",
       "      <td>29.189780</td>\n",
       "      <td>100957.675967</td>\n",
       "      <td>4.871600</td>\n",
       "    </tr>\n",
       "    <tr>\n",
       "      <th>4</th>\n",
       "      <td>5</td>\n",
       "      <td>32.373740</td>\n",
       "      <td>100517.236175</td>\n",
       "      <td>0.500899</td>\n",
       "    </tr>\n",
       "    <tr>\n",
       "      <th>...</th>\n",
       "      <td>...</td>\n",
       "      <td>...</td>\n",
       "      <td>...</td>\n",
       "      <td>...</td>\n",
       "    </tr>\n",
       "    <tr>\n",
       "      <th>95</th>\n",
       "      <td>96</td>\n",
       "      <td>26.867714</td>\n",
       "      <td>100745.655324</td>\n",
       "      <td>4.522021</td>\n",
       "    </tr>\n",
       "    <tr>\n",
       "      <th>96</th>\n",
       "      <td>97</td>\n",
       "      <td>25.862345</td>\n",
       "      <td>100957.393759</td>\n",
       "      <td>3.785517</td>\n",
       "    </tr>\n",
       "    <tr>\n",
       "      <th>97</th>\n",
       "      <td>98</td>\n",
       "      <td>31.890402</td>\n",
       "      <td>100674.715712</td>\n",
       "      <td>3.799873</td>\n",
       "    </tr>\n",
       "    <tr>\n",
       "      <th>98</th>\n",
       "      <td>99</td>\n",
       "      <td>27.752584</td>\n",
       "      <td>100750.103364</td>\n",
       "      <td>3.157785</td>\n",
       "    </tr>\n",
       "    <tr>\n",
       "      <th>99</th>\n",
       "      <td>100</td>\n",
       "      <td>28.265005</td>\n",
       "      <td>100300.616321</td>\n",
       "      <td>1.064473</td>\n",
       "    </tr>\n",
       "  </tbody>\n",
       "</table>\n",
       "<p>100 rows × 4 columns</p>\n",
       "</div>"
      ],
      "text/plain": [
       "    Time  Temperature       Pressure   Voltage\n",
       "0      1    32.585458  100672.109551  0.257675\n",
       "1      2    29.454905  100146.262234  3.275788\n",
       "2      3    33.205826  100661.234855  0.524109\n",
       "3      4    29.189780  100957.675967  4.871600\n",
       "4      5    32.373740  100517.236175  0.500899\n",
       "..   ...          ...            ...       ...\n",
       "95    96    26.867714  100745.655324  4.522021\n",
       "96    97    25.862345  100957.393759  3.785517\n",
       "97    98    31.890402  100674.715712  3.799873\n",
       "98    99    27.752584  100750.103364  3.157785\n",
       "99   100    28.265005  100300.616321  1.064473\n",
       "\n",
       "[100 rows x 4 columns]"
      ]
     },
     "execution_count": 6,
     "metadata": {},
     "output_type": "execute_result"
    }
   ],
   "source": [
    "experiment_df"
   ]
  },
  {
   "cell_type": "code",
   "execution_count": 13,
   "id": "fd5edb27-d698-4f0b-8c7c-6ed94e04ed54",
   "metadata": {},
   "outputs": [
    {
     "name": "stdout",
     "output_type": "stream",
     "text": [
      "Mean of:-\n",
      "temperature: 30.11900745767473\n",
      "pressure: 100528.63961961013\n",
      "voltage: 2.512764785067566\n"
     ]
    }
   ],
   "source": [
    "temp_mean = np.mean(experiment_df['Temperature'])\n",
    "pressure_mean = np.mean(experiment_df['Pressure'])\n",
    "voltage_mean = np.mean(experiment_df['Voltage'])\n",
    "print(f\"Mean of:-\\ntemperature: {temp_mean}\\npressure: {pressure_mean}\\nvoltage: {voltage_mean}\")"
   ]
  },
  {
   "cell_type": "code",
   "execution_count": 14,
   "id": "1950f3b9-8b63-4db4-8e04-720020b2a183",
   "metadata": {},
   "outputs": [
    {
     "name": "stdout",
     "output_type": "stream",
     "text": [
      "Median of:-\n",
      "temperature: 30.17481938107327\n",
      "pressure: 100561.30443290944\n",
      "voltage: 2.4856420854130743\n"
     ]
    }
   ],
   "source": [
    "temp_median = np.median(experiment_df['Temperature'])\n",
    "pressure_median = np.median(experiment_df['Pressure'])\n",
    "voltage_median = np.median(experiment_df['Voltage'])\n",
    "print(f\"Median of:-\\ntemperature: {temp_median}\\npressure: {pressure_median}\\nvoltage: {voltage_median}\")"
   ]
  },
  {
   "cell_type": "code",
   "execution_count": 15,
   "id": "6ae03850-b6ec-44c6-bc76-c48df66d22be",
   "metadata": {},
   "outputs": [
    {
     "name": "stdout",
     "output_type": "stream",
     "text": [
      "Standard Deviation of:-\n",
      "temperature: 2.837661921224409\n",
      "pressure: 288.6617760609894\n",
      "voltage: 1.4521508538847694\n"
     ]
    }
   ],
   "source": [
    "temp_std = np.std(experiment_df['Temperature'])\n",
    "pressure_std = np.std(experiment_df['Pressure'])\n",
    "voltage_std = np.std(experiment_df['Voltage'])\n",
    "print(f\"Standard Deviation of:-\\ntemperature: {temp_std}\\npressure: {pressure_std}\\nvoltage: {voltage_std}\")"
   ]
  },
  {
   "cell_type": "code",
   "execution_count": 18,
   "id": "b6d7b648-4709-47f1-82e3-8aacafff2f0d",
   "metadata": {},
   "outputs": [
    {
     "name": "stdout",
     "output_type": "stream",
     "text": [
      "Range of:-\n",
      "temperature: 9.902602342799462\n",
      "pressure: 947.9183838249592\n",
      "voltage: 4.8824785783205815\n"
     ]
    }
   ],
   "source": [
    "temp_range = np.ptp(experiment_df['Temperature'])\n",
    "pressure_range = np.ptp(experiment_df['Pressure'])\n",
    "voltage_range = np.ptp(experiment_df['Voltage'])\n",
    "print(f\"Range of:-\\ntemperature: {temp_range}\\npressure: {pressure_range}\\nvoltage: {voltage_range}\")"
   ]
  },
  {
   "cell_type": "code",
   "execution_count": 21,
   "id": "abbd8c21-b4a8-49fc-8b6e-73d4cb8db315",
   "metadata": {},
   "outputs": [
    {
     "data": {
      "text/plain": [
       "array([[1.        , 1.        , 1.        , ..., 0.9999996 , 0.99999957,\n",
       "        0.99999955],\n",
       "       [1.        , 1.        , 1.        , ..., 0.99999961, 0.99999958,\n",
       "        0.99999956],\n",
       "       [1.        , 1.        , 1.        , ..., 0.99999961, 0.99999958,\n",
       "        0.99999956],\n",
       "       ...,\n",
       "       [0.9999996 , 0.99999961, 0.99999961, ..., 1.        , 1.        ,\n",
       "        1.        ],\n",
       "       [0.99999957, 0.99999958, 0.99999958, ..., 1.        , 1.        ,\n",
       "        1.        ],\n",
       "       [0.99999955, 0.99999956, 0.99999956, ..., 1.        , 1.        ,\n",
       "        1.        ]])"
      ]
     },
     "execution_count": 21,
     "metadata": {},
     "output_type": "execute_result"
    }
   ],
   "source": [
    "np.corrcoef(experiment_df)"
   ]
  },
  {
   "cell_type": "code",
   "execution_count": 42,
   "id": "32070184-3d14-407f-8958-cc2ad1ceca2f",
   "metadata": {},
   "outputs": [
    {
     "data": {
      "image/png": "[encoded data removed]",
      "text/plain": [
       "<Figure size 640x480 with 1 Axes>"
      ]
     },
     "metadata": {},
     "output_type": "display_data"
    }
   ],
   "source": [
    "plt.scatter(experiment_df['Temperature'],experiment_df['Time'],linewidth=0.5,color='r',label=\"temperature\")\n",
    "plt.scatter(experiment_df['Voltage'],experiment_df['Time'],linewidth=0.5,color='g',label=\"voltage\")\n",
    "# plt.scatter(experiment_df['Pressure'],experiment_df['Time'],linewidth=0.5,color='y',label=\"pressure\")\n",
    "plt.xlabel(\"time\")\n",
    "plt.ylabel(\"temp\")\n",
    "plt.title(\"temp vs time\")\n",
    "plt.legend()\n",
    "plt.show()"
   ]
  },
  {
   "cell_type": "code",
   "execution_count": 44,
   "id": "775e39b0-60bd-4ef3-bc85-a55f7b61504e",
   "metadata": {},
   "outputs": [
    {
     "data": {
      "image/png": "[encoded data removed]",
      "text/plain": [
       "<Figure size 640x480 with 1 Axes>"
      ]
     },
     "metadata": {},
     "output_type": "display_data"
    }
   ],
   "source": [
    "plt.bar(experiment_df['Pressure'],experiment_df['Time'],color='g')\n",
    "plt.xlabel(\"time\")\n",
    "plt.ylabel(\"pressure\")\n",
    "plt.title(\"pressure vs time\")\n",
    "plt.grid(True)\n",
    "plt.show()"
   ]
  },
  {
   "cell_type": "markdown",
   "id": "d2b56d90-7d70-403e-ae85-0e56a7dae763",
   "metadata": {},
   "source": [
    "# Case Study-2: Pandas"
   ]
  },
  {
   "cell_type": "code",
   "execution_count": 46,
   "id": "bc9844f2-2ad2-4087-8186-d514f29098be",
   "metadata": {},
   "outputs": [
    {
     "data": {
      "text/html": [
       "<div>\n",
       "<style scoped>\n",
       "    .dataframe tbody tr th:only-of-type {\n",
       "        vertical-align: middle;\n",
       "    }\n",
       "\n",
       "    .dataframe tbody tr th {\n",
       "        vertical-align: top;\n",
       "    }\n",
       "\n",
       "    .dataframe thead th {\n",
       "        text-align: right;\n",
       "    }\n",
       "</style>\n",
       "<table border=\"1\" class=\"dataframe\">\n",
       "  <thead>\n",
       "    <tr style=\"text-align: right;\">\n",
       "      <th></th>\n",
       "      <th>Date</th>\n",
       "      <th>Product</th>\n",
       "      <th>Quantity</th>\n",
       "      <th>Price</th>\n",
       "      <th>Total</th>\n",
       "    </tr>\n",
       "  </thead>\n",
       "  <tbody>\n",
       "    <tr>\n",
       "      <th>0</th>\n",
       "      <td>2023-03-05</td>\n",
       "      <td>Product B</td>\n",
       "      <td>20</td>\n",
       "      <td>89.08</td>\n",
       "      <td>1781.60</td>\n",
       "    </tr>\n",
       "    <tr>\n",
       "      <th>1</th>\n",
       "      <td>2023-09-09</td>\n",
       "      <td>Product E</td>\n",
       "      <td>11</td>\n",
       "      <td>16.58</td>\n",
       "      <td>182.38</td>\n",
       "    </tr>\n",
       "    <tr>\n",
       "      <th>2</th>\n",
       "      <td>2023-05-14</td>\n",
       "      <td>Product A</td>\n",
       "      <td>4</td>\n",
       "      <td>19.13</td>\n",
       "      <td>76.52</td>\n",
       "    </tr>\n",
       "    <tr>\n",
       "      <th>3</th>\n",
       "      <td>2023-08-29</td>\n",
       "      <td>Product A</td>\n",
       "      <td>56</td>\n",
       "      <td>78.93</td>\n",
       "      <td>4420.08</td>\n",
       "    </tr>\n",
       "    <tr>\n",
       "      <th>4</th>\n",
       "      <td>2023-11-03</td>\n",
       "      <td>Product E</td>\n",
       "      <td>81</td>\n",
       "      <td>29.03</td>\n",
       "      <td>2351.43</td>\n",
       "    </tr>\n",
       "    <tr>\n",
       "      <th>5</th>\n",
       "      <td>2023-04-18</td>\n",
       "      <td>Product D</td>\n",
       "      <td>88</td>\n",
       "      <td>19.89</td>\n",
       "      <td>1750.32</td>\n",
       "    </tr>\n",
       "    <tr>\n",
       "      <th>6</th>\n",
       "      <td>2023-04-29</td>\n",
       "      <td>Product E</td>\n",
       "      <td>78</td>\n",
       "      <td>91.36</td>\n",
       "      <td>7126.08</td>\n",
       "    </tr>\n",
       "    <tr>\n",
       "      <th>7</th>\n",
       "      <td>2023-12-24</td>\n",
       "      <td>Product E</td>\n",
       "      <td>68</td>\n",
       "      <td>95.00</td>\n",
       "      <td>6460.00</td>\n",
       "    </tr>\n",
       "    <tr>\n",
       "      <th>8</th>\n",
       "      <td>2023-04-05</td>\n",
       "      <td>Product B</td>\n",
       "      <td>30</td>\n",
       "      <td>68.04</td>\n",
       "      <td>2041.20</td>\n",
       "    </tr>\n",
       "    <tr>\n",
       "      <th>9</th>\n",
       "      <td>2023-10-04</td>\n",
       "      <td>Product C</td>\n",
       "      <td>4</td>\n",
       "      <td>24.89</td>\n",
       "      <td>99.56</td>\n",
       "    </tr>\n",
       "  </tbody>\n",
       "</table>\n",
       "</div>"
      ],
      "text/plain": [
       "         Date    Product  Quantity  Price    Total\n",
       "0  2023-03-05  Product B        20  89.08  1781.60\n",
       "1  2023-09-09  Product E        11  16.58   182.38\n",
       "2  2023-05-14  Product A         4  19.13    76.52\n",
       "3  2023-08-29  Product A        56  78.93  4420.08\n",
       "4  2023-11-03  Product E        81  29.03  2351.43\n",
       "5  2023-04-18  Product D        88  19.89  1750.32\n",
       "6  2023-04-29  Product E        78  91.36  7126.08\n",
       "7  2023-12-24  Product E        68  95.00  6460.00\n",
       "8  2023-04-05  Product B        30  68.04  2041.20\n",
       "9  2023-10-04  Product C         4  24.89    99.56"
      ]
     },
     "execution_count": 46,
     "metadata": {},
     "output_type": "execute_result"
    }
   ],
   "source": [
    "sales_df.head(10)"
   ]
  },
  {
   "cell_type": "code",
   "execution_count": 47,
   "id": "a7d2bc42-c49e-4507-8a1b-025d512d02e0",
   "metadata": {},
   "outputs": [
    {
     "data": {
      "text/html": [
       "<div>\n",
       "<style scoped>\n",
       "    .dataframe tbody tr th:only-of-type {\n",
       "        vertical-align: middle;\n",
       "    }\n",
       "\n",
       "    .dataframe tbody tr th {\n",
       "        vertical-align: top;\n",
       "    }\n",
       "\n",
       "    .dataframe thead th {\n",
       "        text-align: right;\n",
       "    }\n",
       "</style>\n",
       "<table border=\"1\" class=\"dataframe\">\n",
       "  <thead>\n",
       "    <tr style=\"text-align: right;\">\n",
       "      <th></th>\n",
       "      <th>Date</th>\n",
       "      <th>Product</th>\n",
       "      <th>Quantity</th>\n",
       "      <th>Price</th>\n",
       "      <th>Total</th>\n",
       "    </tr>\n",
       "  </thead>\n",
       "  <tbody>\n",
       "    <tr>\n",
       "      <th>995</th>\n",
       "      <td>2023-04-09</td>\n",
       "      <td>Product D</td>\n",
       "      <td>1</td>\n",
       "      <td>69.45</td>\n",
       "      <td>69.45</td>\n",
       "    </tr>\n",
       "    <tr>\n",
       "      <th>996</th>\n",
       "      <td>2023-09-12</td>\n",
       "      <td>Product E</td>\n",
       "      <td>22</td>\n",
       "      <td>18.05</td>\n",
       "      <td>397.10</td>\n",
       "    </tr>\n",
       "    <tr>\n",
       "      <th>997</th>\n",
       "      <td>2023-04-26</td>\n",
       "      <td>Product D</td>\n",
       "      <td>97</td>\n",
       "      <td>64.03</td>\n",
       "      <td>6210.91</td>\n",
       "    </tr>\n",
       "    <tr>\n",
       "      <th>998</th>\n",
       "      <td>2023-02-05</td>\n",
       "      <td>Product D</td>\n",
       "      <td>51</td>\n",
       "      <td>71.47</td>\n",
       "      <td>3644.97</td>\n",
       "    </tr>\n",
       "    <tr>\n",
       "      <th>999</th>\n",
       "      <td>2023-07-04</td>\n",
       "      <td>Product A</td>\n",
       "      <td>61</td>\n",
       "      <td>88.85</td>\n",
       "      <td>5419.85</td>\n",
       "    </tr>\n",
       "  </tbody>\n",
       "</table>\n",
       "</div>"
      ],
      "text/plain": [
       "           Date    Product  Quantity  Price    Total\n",
       "995  2023-04-09  Product D         1  69.45    69.45\n",
       "996  2023-09-12  Product E        22  18.05   397.10\n",
       "997  2023-04-26  Product D        97  64.03  6210.91\n",
       "998  2023-02-05  Product D        51  71.47  3644.97\n",
       "999  2023-07-04  Product A        61  88.85  5419.85"
      ]
     },
     "execution_count": 47,
     "metadata": {},
     "output_type": "execute_result"
    }
   ],
   "source": [
    "sales_df.tail()"
   ]
  },
  {
   "cell_type": "code",
   "execution_count": 49,
   "id": "787a29ab-2a70-4d08-a740-82a04d8b20ae",
   "metadata": {},
   "outputs": [
    {
     "data": {
      "text/plain": [
       "Index(['Date', 'Product', 'Quantity', 'Price', 'Total'], dtype='object')"
      ]
     },
     "execution_count": 49,
     "metadata": {},
     "output_type": "execute_result"
    }
   ],
   "source": [
    "sales_df.columns"
   ]
  },
  {
   "cell_type": "code",
   "execution_count": 50,
   "id": "3019e23d-6f60-47df-979a-7ad65da9b96a",
   "metadata": {},
   "outputs": [
    {
     "data": {
      "text/plain": [
       "RangeIndex(start=0, stop=1000, step=1)"
      ]
     },
     "execution_count": 50,
     "metadata": {},
     "output_type": "execute_result"
    }
   ],
   "source": [
    "sales_df.index"
   ]
  },
  {
   "cell_type": "code",
   "execution_count": 60,
   "id": "4575520b-13ba-4958-85b5-3b4a25a37d6e",
   "metadata": {},
   "outputs": [
    {
     "data": {
      "text/html": [
       "<div>\n",
       "<style scoped>\n",
       "    .dataframe tbody tr th:only-of-type {\n",
       "        vertical-align: middle;\n",
       "    }\n",
       "\n",
       "    .dataframe tbody tr th {\n",
       "        vertical-align: top;\n",
       "    }\n",
       "\n",
       "    .dataframe thead th {\n",
       "        text-align: right;\n",
       "    }\n",
       "</style>\n",
       "<table border=\"1\" class=\"dataframe\">\n",
       "  <thead>\n",
       "    <tr style=\"text-align: right;\">\n",
       "      <th></th>\n",
       "      <th>Quantity</th>\n",
       "      <th>Price</th>\n",
       "      <th>Total</th>\n",
       "    </tr>\n",
       "  </thead>\n",
       "  <tbody>\n",
       "    <tr>\n",
       "      <th>count</th>\n",
       "      <td>1000.000000</td>\n",
       "      <td>1000.00000</td>\n",
       "      <td>1000.000000</td>\n",
       "    </tr>\n",
       "    <tr>\n",
       "      <th>mean</th>\n",
       "      <td>51.719000</td>\n",
       "      <td>55.42695</td>\n",
       "      <td>2936.958820</td>\n",
       "    </tr>\n",
       "    <tr>\n",
       "      <th>std</th>\n",
       "      <td>28.799122</td>\n",
       "      <td>26.61452</td>\n",
       "      <td>2300.939094</td>\n",
       "    </tr>\n",
       "    <tr>\n",
       "      <th>min</th>\n",
       "      <td>1.000000</td>\n",
       "      <td>10.06000</td>\n",
       "      <td>10.960000</td>\n",
       "    </tr>\n",
       "    <tr>\n",
       "      <th>25%</th>\n",
       "      <td>27.000000</td>\n",
       "      <td>31.94000</td>\n",
       "      <td>1014.760000</td>\n",
       "    </tr>\n",
       "    <tr>\n",
       "      <th>50%</th>\n",
       "      <td>53.000000</td>\n",
       "      <td>55.06000</td>\n",
       "      <td>2384.370000</td>\n",
       "    </tr>\n",
       "    <tr>\n",
       "      <th>75%</th>\n",
       "      <td>76.000000</td>\n",
       "      <td>78.81750</td>\n",
       "      <td>4554.562500</td>\n",
       "    </tr>\n",
       "    <tr>\n",
       "      <th>max</th>\n",
       "      <td>100.000000</td>\n",
       "      <td>99.97000</td>\n",
       "      <td>9690.300000</td>\n",
       "    </tr>\n",
       "  </tbody>\n",
       "</table>\n",
       "</div>"
      ],
      "text/plain": [
       "          Quantity       Price        Total\n",
       "count  1000.000000  1000.00000  1000.000000\n",
       "mean     51.719000    55.42695  2936.958820\n",
       "std      28.799122    26.61452  2300.939094\n",
       "min       1.000000    10.06000    10.960000\n",
       "25%      27.000000    31.94000  1014.760000\n",
       "50%      53.000000    55.06000  2384.370000\n",
       "75%      76.000000    78.81750  4554.562500\n",
       "max     100.000000    99.97000  9690.300000"
      ]
     },
     "execution_count": 60,
     "metadata": {},
     "output_type": "execute_result"
    }
   ],
   "source": [
    "sales_df.describe()"
   ]
  },
  {
   "cell_type": "code",
   "execution_count": 61,
   "id": "a6ba2b71-0012-4e28-a1ee-7bb4afd1e70d",
   "metadata": {},
   "outputs": [
    {
     "name": "stdout",
     "output_type": "stream",
     "text": [
      "<class 'pandas.core.frame.DataFrame'>\n",
      "RangeIndex: 1000 entries, 0 to 999\n",
      "Data columns (total 5 columns):\n",
      " #   Column    Non-Null Count  Dtype  \n",
      "---  ------    --------------  -----  \n",
      " 0   Date      1000 non-null   object \n",
      " 1   Product   1000 non-null   object \n",
      " 2   Quantity  1000 non-null   int64  \n",
      " 3   Price     1000 non-null   float64\n",
      " 4   Total     1000 non-null   float64\n",
      "dtypes: float64(2), int64(1), object(2)\n",
      "memory usage: 39.2+ KB\n"
     ]
    }
   ],
   "source": [
    "sales_df.info()"
   ]
  },
  {
   "cell_type": "code",
   "execution_count": 62,
   "id": "1eb3126c-6ab0-488f-8602-17ba7d70fbcd",
   "metadata": {},
   "outputs": [],
   "source": [
    "# dropping unnecessary column\n",
    "# sales_df.drop(['Date'],axis=1)"
   ]
  },
  {
   "cell_type": "code",
   "execution_count": 63,
   "id": "f654a3b9-8c40-4ffb-9613-1cd93693ea15",
   "metadata": {},
   "outputs": [
    {
     "data": {
      "text/html": [
       "<div>\n",
       "<style scoped>\n",
       "    .dataframe tbody tr th:only-of-type {\n",
       "        vertical-align: middle;\n",
       "    }\n",
       "\n",
       "    .dataframe tbody tr th {\n",
       "        vertical-align: top;\n",
       "    }\n",
       "\n",
       "    .dataframe thead th {\n",
       "        text-align: right;\n",
       "    }\n",
       "</style>\n",
       "<table border=\"1\" class=\"dataframe\">\n",
       "  <thead>\n",
       "    <tr style=\"text-align: right;\">\n",
       "      <th></th>\n",
       "      <th>Date</th>\n",
       "      <th>Product</th>\n",
       "      <th>Quantity</th>\n",
       "      <th>Price</th>\n",
       "      <th>Total</th>\n",
       "    </tr>\n",
       "  </thead>\n",
       "  <tbody>\n",
       "    <tr>\n",
       "      <th>0</th>\n",
       "      <td>False</td>\n",
       "      <td>False</td>\n",
       "      <td>False</td>\n",
       "      <td>False</td>\n",
       "      <td>False</td>\n",
       "    </tr>\n",
       "    <tr>\n",
       "      <th>1</th>\n",
       "      <td>False</td>\n",
       "      <td>False</td>\n",
       "      <td>False</td>\n",
       "      <td>False</td>\n",
       "      <td>False</td>\n",
       "    </tr>\n",
       "    <tr>\n",
       "      <th>2</th>\n",
       "      <td>False</td>\n",
       "      <td>False</td>\n",
       "      <td>False</td>\n",
       "      <td>False</td>\n",
       "      <td>False</td>\n",
       "    </tr>\n",
       "    <tr>\n",
       "      <th>3</th>\n",
       "      <td>False</td>\n",
       "      <td>False</td>\n",
       "      <td>False</td>\n",
       "      <td>False</td>\n",
       "      <td>False</td>\n",
       "    </tr>\n",
       "    <tr>\n",
       "      <th>4</th>\n",
       "      <td>False</td>\n",
       "      <td>False</td>\n",
       "      <td>False</td>\n",
       "      <td>False</td>\n",
       "      <td>False</td>\n",
       "    </tr>\n",
       "    <tr>\n",
       "      <th>...</th>\n",
       "      <td>...</td>\n",
       "      <td>...</td>\n",
       "      <td>...</td>\n",
       "      <td>...</td>\n",
       "      <td>...</td>\n",
       "    </tr>\n",
       "    <tr>\n",
       "      <th>995</th>\n",
       "      <td>False</td>\n",
       "      <td>False</td>\n",
       "      <td>False</td>\n",
       "      <td>False</td>\n",
       "      <td>False</td>\n",
       "    </tr>\n",
       "    <tr>\n",
       "      <th>996</th>\n",
       "      <td>False</td>\n",
       "      <td>False</td>\n",
       "      <td>False</td>\n",
       "      <td>False</td>\n",
       "      <td>False</td>\n",
       "    </tr>\n",
       "    <tr>\n",
       "      <th>997</th>\n",
       "      <td>False</td>\n",
       "      <td>False</td>\n",
       "      <td>False</td>\n",
       "      <td>False</td>\n",
       "      <td>False</td>\n",
       "    </tr>\n",
       "    <tr>\n",
       "      <th>998</th>\n",
       "      <td>False</td>\n",
       "      <td>False</td>\n",
       "      <td>False</td>\n",
       "      <td>False</td>\n",
       "      <td>False</td>\n",
       "    </tr>\n",
       "    <tr>\n",
       "      <th>999</th>\n",
       "      <td>False</td>\n",
       "      <td>False</td>\n",
       "      <td>False</td>\n",
       "      <td>False</td>\n",
       "      <td>False</td>\n",
       "    </tr>\n",
       "  </tbody>\n",
       "</table>\n",
       "<p>1000 rows × 5 columns</p>\n",
       "</div>"
      ],
      "text/plain": [
       "      Date  Product  Quantity  Price  Total\n",
       "0    False    False     False  False  False\n",
       "1    False    False     False  False  False\n",
       "2    False    False     False  False  False\n",
       "3    False    False     False  False  False\n",
       "4    False    False     False  False  False\n",
       "..     ...      ...       ...    ...    ...\n",
       "995  False    False     False  False  False\n",
       "996  False    False     False  False  False\n",
       "997  False    False     False  False  False\n",
       "998  False    False     False  False  False\n",
       "999  False    False     False  False  False\n",
       "\n",
       "[1000 rows x 5 columns]"
      ]
     },
     "execution_count": 63,
     "metadata": {},
     "output_type": "execute_result"
    }
   ],
   "source": [
    "# check for missing data\n",
    "sales_df.isna()"
   ]
  },
  {
   "cell_type": "code",
   "execution_count": 68,
   "id": "5583e91f-64e8-4da8-a576-ebbd9a775ac1",
   "metadata": {},
   "outputs": [
    {
     "data": {
      "text/plain": [
       "Date        0\n",
       "Product     0\n",
       "Quantity    0\n",
       "Price       0\n",
       "Total       0\n",
       "dtype: int64"
      ]
     },
     "execution_count": 68,
     "metadata": {},
     "output_type": "execute_result"
    }
   ],
   "source": [
    "sales_df.isna().sum()"
   ]
  },
  {
   "cell_type": "code",
   "execution_count": 69,
   "id": "01fabe2d-e187-45a0-82b9-6c83b2ee377c",
   "metadata": {},
   "outputs": [
    {
     "data": {
      "text/html": [
       "<div>\n",
       "<style scoped>\n",
       "    .dataframe tbody tr th:only-of-type {\n",
       "        vertical-align: middle;\n",
       "    }\n",
       "\n",
       "    .dataframe tbody tr th {\n",
       "        vertical-align: top;\n",
       "    }\n",
       "\n",
       "    .dataframe thead th {\n",
       "        text-align: right;\n",
       "    }\n",
       "</style>\n",
       "<table border=\"1\" class=\"dataframe\">\n",
       "  <thead>\n",
       "    <tr style=\"text-align: right;\">\n",
       "      <th></th>\n",
       "      <th>Date</th>\n",
       "      <th>Product</th>\n",
       "      <th>Quantity</th>\n",
       "      <th>Price</th>\n",
       "      <th>Total</th>\n",
       "    </tr>\n",
       "  </thead>\n",
       "  <tbody>\n",
       "    <tr>\n",
       "      <th>0</th>\n",
       "      <td>2023-03-05</td>\n",
       "      <td>Product B</td>\n",
       "      <td>20</td>\n",
       "      <td>89.08</td>\n",
       "      <td>1781.60</td>\n",
       "    </tr>\n",
       "    <tr>\n",
       "      <th>1</th>\n",
       "      <td>2023-09-09</td>\n",
       "      <td>Product E</td>\n",
       "      <td>11</td>\n",
       "      <td>16.58</td>\n",
       "      <td>182.38</td>\n",
       "    </tr>\n",
       "    <tr>\n",
       "      <th>2</th>\n",
       "      <td>2023-05-14</td>\n",
       "      <td>Product A</td>\n",
       "      <td>4</td>\n",
       "      <td>19.13</td>\n",
       "      <td>76.52</td>\n",
       "    </tr>\n",
       "    <tr>\n",
       "      <th>3</th>\n",
       "      <td>2023-08-29</td>\n",
       "      <td>Product A</td>\n",
       "      <td>56</td>\n",
       "      <td>78.93</td>\n",
       "      <td>4420.08</td>\n",
       "    </tr>\n",
       "    <tr>\n",
       "      <th>4</th>\n",
       "      <td>2023-11-03</td>\n",
       "      <td>Product E</td>\n",
       "      <td>81</td>\n",
       "      <td>29.03</td>\n",
       "      <td>2351.43</td>\n",
       "    </tr>\n",
       "  </tbody>\n",
       "</table>\n",
       "</div>"
      ],
      "text/plain": [
       "         Date    Product  Quantity  Price    Total\n",
       "0  2023-03-05  Product B        20  89.08  1781.60\n",
       "1  2023-09-09  Product E        11  16.58   182.38\n",
       "2  2023-05-14  Product A         4  19.13    76.52\n",
       "3  2023-08-29  Product A        56  78.93  4420.08\n",
       "4  2023-11-03  Product E        81  29.03  2351.43"
      ]
     },
     "execution_count": 69,
     "metadata": {},
     "output_type": "execute_result"
    }
   ],
   "source": [
    "sales_df.head()"
   ]
  },
  {
   "cell_type": "code",
   "execution_count": 70,
   "id": "2ca5854a-a45a-48d3-80da-c9776dca4bd2",
   "metadata": {},
   "outputs": [],
   "source": [
    "total_sales_revenue = sales_df['Total'].sum()"
   ]
  },
  {
   "cell_type": "code",
   "execution_count": 71,
   "id": "ab39b27f-90b5-4f71-8c92-286a063745d6",
   "metadata": {},
   "outputs": [
    {
     "data": {
      "text/plain": [
       "2936958.82"
      ]
     },
     "execution_count": 71,
     "metadata": {},
     "output_type": "execute_result"
    }
   ],
   "source": [
    "total_sales_revenue"
   ]
  },
  {
   "cell_type": "code",
   "execution_count": 78,
   "id": "d6c1d6d3-94fa-4ac6-9350-d68df548598c",
   "metadata": {},
   "outputs": [
    {
     "data": {
      "text/plain": [
       "Product C    218\n",
       "Product E    214\n",
       "Product A    196\n",
       "Product D    187\n",
       "Product B    185\n",
       "Name: Product, dtype: int64"
      ]
     },
     "execution_count": 78,
     "metadata": {},
     "output_type": "execute_result"
    }
   ],
   "source": [
    "# identifying top selling products\n",
    "sales_df['Product'].value_counts()"
   ]
  },
  {
   "cell_type": "code",
   "execution_count": 84,
   "id": "fa681a4f-1bdc-4c38-bd18-87840aaa9c24",
   "metadata": {},
   "outputs": [
    {
     "data": {
      "image/png": "[encoded data removed]",
      "text/plain": [
       "<Figure size 640x480 with 1 Axes>"
      ]
     },
     "metadata": {},
     "output_type": "display_data"
    }
   ],
   "source": [
    "plt.bar(sales_df['Product'],sales_df['Total'])\n",
    "plt.xlabel(\"Products\")\n",
    "plt.ylabel(\"Total\")\n",
    "plt.title(\"Produt vs Total bar plot\")\n",
    "plt.show()"
   ]
  },
  {
   "cell_type": "code",
   "execution_count": 89,
   "id": "5e3db184-621b-4bc8-a3ea-4b60612ed020",
   "metadata": {},
   "outputs": [
    {
     "data": {
      "text/plain": [
       "(array([218, 214, 196, 187, 185], dtype=int64),\n",
       " Index(['Product C', 'Product E', 'Product A', 'Product D', 'Product B'], dtype='object'))"
      ]
     },
     "execution_count": 89,
     "metadata": {},
     "output_type": "execute_result"
    }
   ],
   "source": [
    "slices = np.array(sales_df['Product'].value_counts())\n",
    "labels =  sales_df['Product'].value_counts().index\n",
    "slices,labels"
   ]
  },
  {
   "cell_type": "code",
   "execution_count": 93,
   "id": "bb0589a5-1d33-4e89-a403-7646be0117a3",
   "metadata": {},
   "outputs": [
    {
     "data": {
      "text/plain": [
       "([<matplotlib.patches.Wedge at 0x1eaa8c5cfd0>,\n",
       "  <matplotlib.patches.Wedge at 0x1eaa8c88b10>,\n",
       "  <matplotlib.patches.Wedge at 0x1eaa8c8a2d0>,\n",
       "  <matplotlib.patches.Wedge at 0x1eaa8c89b10>,\n",
       "  <matplotlib.patches.Wedge at 0x1eaa8bf1f10>],\n",
       " [Text(0.8519533776846626, 0.6958271640656858, 'Product C'),\n",
       "  Text(-0.49938952218422433, 0.9801071906340715, 'Product E'),\n",
       "  Text(-1.080515983906841, -0.20611940355490974, 'Product A'),\n",
       "  Text(-0.19592685739544646, -1.0824105813189118, 'Product D'),\n",
       "  Text(0.9193880929816135, -0.603925106684291, 'Product B')],\n",
       " [Text(0.4647018423734523, 0.379542089490374, '21.8%'),\n",
       "  Text(-0.2723942848277587, 0.534603922164039, '21.4%'),\n",
       "  Text(-0.5893723548582768, -0.11242876557540529, '19.6%'),\n",
       "  Text(-0.1068691949429708, -0.5904057716284973, '18.7%'),\n",
       "  Text(0.5014844143536072, -0.32941369455506775, '18.5%')])"
      ]
     },
     "execution_count": 93,
     "metadata": {},
     "output_type": "execute_result"
    },
    {
     "data": {
      "image/png": "[encoded data removed]",
      "text/plain": [
       "<Figure size 640x480 with 1 Axes>"
      ]
     },
     "metadata": {},
     "output_type": "display_data"
    }
   ],
   "source": [
    "plt.pie(slices,labels=labels,autopct='%1.1f%%')"
   ]
  },
  {
   "cell_type": "markdown",
   "id": "64642f2f-bc76-411e-bb65-b0cb21095741",
   "metadata": {},
   "source": [
    "# Case study-3: matplotlib"
   ]
  },
  {
   "cell_type": "code",
   "execution_count": 94,
   "id": "b6df7077-e1be-4e8d-88a9-808ef0e2df3f",
   "metadata": {},
   "outputs": [
    {
     "data": {
      "text/html": [
       "<div>\n",
       "<style scoped>\n",
       "    .dataframe tbody tr th:only-of-type {\n",
       "        vertical-align: middle;\n",
       "    }\n",
       "\n",
       "    .dataframe tbody tr th {\n",
       "        vertical-align: top;\n",
       "    }\n",
       "\n",
       "    .dataframe thead th {\n",
       "        text-align: right;\n",
       "    }\n",
       "</style>\n",
       "<table border=\"1\" class=\"dataframe\">\n",
       "  <thead>\n",
       "    <tr style=\"text-align: right;\">\n",
       "      <th></th>\n",
       "      <th>Size</th>\n",
       "      <th>Bedrooms</th>\n",
       "      <th>Bathrooms</th>\n",
       "      <th>Price</th>\n",
       "      <th>Location</th>\n",
       "    </tr>\n",
       "  </thead>\n",
       "  <tbody>\n",
       "    <tr>\n",
       "      <th>0</th>\n",
       "      <td>681</td>\n",
       "      <td>3</td>\n",
       "      <td>3</td>\n",
       "      <td>9448908</td>\n",
       "      <td>City E</td>\n",
       "    </tr>\n",
       "    <tr>\n",
       "      <th>1</th>\n",
       "      <td>780</td>\n",
       "      <td>5</td>\n",
       "      <td>3</td>\n",
       "      <td>2024993</td>\n",
       "      <td>City B</td>\n",
       "    </tr>\n",
       "    <tr>\n",
       "      <th>2</th>\n",
       "      <td>2842</td>\n",
       "      <td>5</td>\n",
       "      <td>2</td>\n",
       "      <td>5214383</td>\n",
       "      <td>City A</td>\n",
       "    </tr>\n",
       "    <tr>\n",
       "      <th>3</th>\n",
       "      <td>2107</td>\n",
       "      <td>5</td>\n",
       "      <td>3</td>\n",
       "      <td>2698453</td>\n",
       "      <td>City A</td>\n",
       "    </tr>\n",
       "    <tr>\n",
       "      <th>4</th>\n",
       "      <td>2481</td>\n",
       "      <td>2</td>\n",
       "      <td>1</td>\n",
       "      <td>6226268</td>\n",
       "      <td>City E</td>\n",
       "    </tr>\n",
       "  </tbody>\n",
       "</table>\n",
       "</div>"
      ],
      "text/plain": [
       "   Size  Bedrooms  Bathrooms    Price Location\n",
       "0   681         3          3  9448908   City E\n",
       "1   780         5          3  2024993   City B\n",
       "2  2842         5          2  5214383   City A\n",
       "3  2107         5          3  2698453   City A\n",
       "4  2481         2          1  6226268   City E"
      ]
     },
     "execution_count": 94,
     "metadata": {},
     "output_type": "execute_result"
    }
   ],
   "source": [
    "housing_df.head()"
   ]
  },
  {
   "cell_type": "code",
   "execution_count": 97,
   "id": "a75a69af-dc58-46f3-a5a9-245a87351948",
   "metadata": {},
   "outputs": [
    {
     "data": {
      "text/plain": [
       "(1000, 5)"
      ]
     },
     "execution_count": 97,
     "metadata": {},
     "output_type": "execute_result"
    }
   ],
   "source": [
    "housing_df.shape"
   ]
  },
  {
   "cell_type": "code",
   "execution_count": 99,
   "id": "52455916-2599-4f5c-90bf-805aead01e03",
   "metadata": {},
   "outputs": [
    {
     "data": {
      "text/plain": [
       "5000"
      ]
     },
     "execution_count": 99,
     "metadata": {},
     "output_type": "execute_result"
    }
   ],
   "source": [
    "housing_df.size"
   ]
  },
  {
   "cell_type": "code",
   "execution_count": 100,
   "id": "fd0f76fe-c3b3-4c1d-be55-0569a5ba6944",
   "metadata": {},
   "outputs": [
    {
     "data": {
      "text/html": [
       "<div>\n",
       "<style scoped>\n",
       "    .dataframe tbody tr th:only-of-type {\n",
       "        vertical-align: middle;\n",
       "    }\n",
       "\n",
       "    .dataframe tbody tr th {\n",
       "        vertical-align: top;\n",
       "    }\n",
       "\n",
       "    .dataframe thead th {\n",
       "        text-align: right;\n",
       "    }\n",
       "</style>\n",
       "<table border=\"1\" class=\"dataframe\">\n",
       "  <thead>\n",
       "    <tr style=\"text-align: right;\">\n",
       "      <th></th>\n",
       "      <th>Size</th>\n",
       "      <th>Bedrooms</th>\n",
       "      <th>Bathrooms</th>\n",
       "      <th>Price</th>\n",
       "    </tr>\n",
       "  </thead>\n",
       "  <tbody>\n",
       "    <tr>\n",
       "      <th>count</th>\n",
       "      <td>1000.000000</td>\n",
       "      <td>1000.000000</td>\n",
       "      <td>1000.000000</td>\n",
       "      <td>1.000000e+03</td>\n",
       "    </tr>\n",
       "    <tr>\n",
       "      <th>mean</th>\n",
       "      <td>1647.599000</td>\n",
       "      <td>3.996000</td>\n",
       "      <td>2.508000</td>\n",
       "      <td>5.044784e+06</td>\n",
       "    </tr>\n",
       "    <tr>\n",
       "      <th>std</th>\n",
       "      <td>780.462682</td>\n",
       "      <td>1.415623</td>\n",
       "      <td>1.095964</td>\n",
       "      <td>2.864537e+06</td>\n",
       "    </tr>\n",
       "    <tr>\n",
       "      <th>min</th>\n",
       "      <td>303.000000</td>\n",
       "      <td>2.000000</td>\n",
       "      <td>1.000000</td>\n",
       "      <td>2.005800e+04</td>\n",
       "    </tr>\n",
       "    <tr>\n",
       "      <th>25%</th>\n",
       "      <td>956.750000</td>\n",
       "      <td>3.000000</td>\n",
       "      <td>2.000000</td>\n",
       "      <td>2.514142e+06</td>\n",
       "    </tr>\n",
       "    <tr>\n",
       "      <th>50%</th>\n",
       "      <td>1634.000000</td>\n",
       "      <td>4.000000</td>\n",
       "      <td>3.000000</td>\n",
       "      <td>5.045194e+06</td>\n",
       "    </tr>\n",
       "    <tr>\n",
       "      <th>75%</th>\n",
       "      <td>2302.000000</td>\n",
       "      <td>5.000000</td>\n",
       "      <td>3.000000</td>\n",
       "      <td>7.537612e+06</td>\n",
       "    </tr>\n",
       "    <tr>\n",
       "      <th>max</th>\n",
       "      <td>3000.000000</td>\n",
       "      <td>6.000000</td>\n",
       "      <td>4.000000</td>\n",
       "      <td>9.986554e+06</td>\n",
       "    </tr>\n",
       "  </tbody>\n",
       "</table>\n",
       "</div>"
      ],
      "text/plain": [
       "              Size     Bedrooms    Bathrooms         Price\n",
       "count  1000.000000  1000.000000  1000.000000  1.000000e+03\n",
       "mean   1647.599000     3.996000     2.508000  5.044784e+06\n",
       "std     780.462682     1.415623     1.095964  2.864537e+06\n",
       "min     303.000000     2.000000     1.000000  2.005800e+04\n",
       "25%     956.750000     3.000000     2.000000  2.514142e+06\n",
       "50%    1634.000000     4.000000     3.000000  5.045194e+06\n",
       "75%    2302.000000     5.000000     3.000000  7.537612e+06\n",
       "max    3000.000000     6.000000     4.000000  9.986554e+06"
      ]
     },
     "execution_count": 100,
     "metadata": {},
     "output_type": "execute_result"
    }
   ],
   "source": [
    "housing_df.describe()"
   ]
  },
  {
   "cell_type": "code",
   "execution_count": 101,
   "id": "92c35609-64b3-4312-ac03-f69067749386",
   "metadata": {},
   "outputs": [
    {
     "name": "stdout",
     "output_type": "stream",
     "text": [
      "<class 'pandas.core.frame.DataFrame'>\n",
      "RangeIndex: 1000 entries, 0 to 999\n",
      "Data columns (total 5 columns):\n",
      " #   Column     Non-Null Count  Dtype \n",
      "---  ------     --------------  ----- \n",
      " 0   Size       1000 non-null   int64 \n",
      " 1   Bedrooms   1000 non-null   int64 \n",
      " 2   Bathrooms  1000 non-null   int64 \n",
      " 3   Price      1000 non-null   int64 \n",
      " 4   Location   1000 non-null   object\n",
      "dtypes: int64(4), object(1)\n",
      "memory usage: 39.2+ KB\n"
     ]
    }
   ],
   "source": [
    "housing_df.info()"
   ]
  },
  {
   "cell_type": "code",
   "execution_count": 102,
   "id": "f8dbdb15-e503-4f35-91bb-bdc8852bd6d1",
   "metadata": {},
   "outputs": [
    {
     "data": {
      "text/plain": [
       "Size         0\n",
       "Bedrooms     0\n",
       "Bathrooms    0\n",
       "Price        0\n",
       "Location     0\n",
       "dtype: int64"
      ]
     },
     "execution_count": 102,
     "metadata": {},
     "output_type": "execute_result"
    }
   ],
   "source": [
    "# checking for the missing values\n",
    "housing_df.isna().sum()"
   ]
  },
  {
   "cell_type": "code",
   "execution_count": 104,
   "id": "47f19d57-cad2-4078-b2ae-fe5b702596ff",
   "metadata": {},
   "outputs": [
    {
     "data": {
      "text/html": [
       "<div>\n",
       "<style scoped>\n",
       "    .dataframe tbody tr th:only-of-type {\n",
       "        vertical-align: middle;\n",
       "    }\n",
       "\n",
       "    .dataframe tbody tr th {\n",
       "        vertical-align: top;\n",
       "    }\n",
       "\n",
       "    .dataframe thead th {\n",
       "        text-align: right;\n",
       "    }\n",
       "</style>\n",
       "<table border=\"1\" class=\"dataframe\">\n",
       "  <thead>\n",
       "    <tr style=\"text-align: right;\">\n",
       "      <th></th>\n",
       "      <th>Size</th>\n",
       "      <th>Bedrooms</th>\n",
       "      <th>Bathrooms</th>\n",
       "      <th>Price</th>\n",
       "      <th>Location</th>\n",
       "    </tr>\n",
       "  </thead>\n",
       "  <tbody>\n",
       "    <tr>\n",
       "      <th>0</th>\n",
       "      <td>681</td>\n",
       "      <td>3</td>\n",
       "      <td>3</td>\n",
       "      <td>9448908</td>\n",
       "      <td>City E</td>\n",
       "    </tr>\n",
       "    <tr>\n",
       "      <th>1</th>\n",
       "      <td>780</td>\n",
       "      <td>5</td>\n",
       "      <td>3</td>\n",
       "      <td>2024993</td>\n",
       "      <td>City B</td>\n",
       "    </tr>\n",
       "    <tr>\n",
       "      <th>2</th>\n",
       "      <td>2842</td>\n",
       "      <td>5</td>\n",
       "      <td>2</td>\n",
       "      <td>5214383</td>\n",
       "      <td>City A</td>\n",
       "    </tr>\n",
       "    <tr>\n",
       "      <th>3</th>\n",
       "      <td>2107</td>\n",
       "      <td>5</td>\n",
       "      <td>3</td>\n",
       "      <td>2698453</td>\n",
       "      <td>City A</td>\n",
       "    </tr>\n",
       "    <tr>\n",
       "      <th>4</th>\n",
       "      <td>2481</td>\n",
       "      <td>2</td>\n",
       "      <td>1</td>\n",
       "      <td>6226268</td>\n",
       "      <td>City E</td>\n",
       "    </tr>\n",
       "    <tr>\n",
       "      <th>...</th>\n",
       "      <td>...</td>\n",
       "      <td>...</td>\n",
       "      <td>...</td>\n",
       "      <td>...</td>\n",
       "      <td>...</td>\n",
       "    </tr>\n",
       "    <tr>\n",
       "      <th>995</th>\n",
       "      <td>2821</td>\n",
       "      <td>3</td>\n",
       "      <td>2</td>\n",
       "      <td>49630</td>\n",
       "      <td>City C</td>\n",
       "    </tr>\n",
       "    <tr>\n",
       "      <th>996</th>\n",
       "      <td>1776</td>\n",
       "      <td>3</td>\n",
       "      <td>2</td>\n",
       "      <td>2972285</td>\n",
       "      <td>City C</td>\n",
       "    </tr>\n",
       "    <tr>\n",
       "      <th>997</th>\n",
       "      <td>1089</td>\n",
       "      <td>4</td>\n",
       "      <td>1</td>\n",
       "      <td>2022463</td>\n",
       "      <td>City E</td>\n",
       "    </tr>\n",
       "    <tr>\n",
       "      <th>998</th>\n",
       "      <td>1353</td>\n",
       "      <td>4</td>\n",
       "      <td>2</td>\n",
       "      <td>6037404</td>\n",
       "      <td>City B</td>\n",
       "    </tr>\n",
       "    <tr>\n",
       "      <th>999</th>\n",
       "      <td>314</td>\n",
       "      <td>5</td>\n",
       "      <td>1</td>\n",
       "      <td>5688598</td>\n",
       "      <td>City A</td>\n",
       "    </tr>\n",
       "  </tbody>\n",
       "</table>\n",
       "<p>1000 rows × 5 columns</p>\n",
       "</div>"
      ],
      "text/plain": [
       "     Size  Bedrooms  Bathrooms    Price Location\n",
       "0     681         3          3  9448908   City E\n",
       "1     780         5          3  2024993   City B\n",
       "2    2842         5          2  5214383   City A\n",
       "3    2107         5          3  2698453   City A\n",
       "4    2481         2          1  6226268   City E\n",
       "..    ...       ...        ...      ...      ...\n",
       "995  2821         3          2    49630   City C\n",
       "996  1776         3          2  2972285   City C\n",
       "997  1089         4          1  2022463   City E\n",
       "998  1353         4          2  6037404   City B\n",
       "999   314         5          1  5688598   City A\n",
       "\n",
       "[1000 rows x 5 columns]"
      ]
     },
     "execution_count": 104,
     "metadata": {},
     "output_type": "execute_result"
    }
   ],
   "source": [
    "housing_df"
   ]
  },
  {
   "cell_type": "code",
   "execution_count": 122,
   "id": "286de629-c292-4511-a21b-f473550953a5",
   "metadata": {},
   "outputs": [
    {
     "data": {
      "image/png": "[encoded data removed]",
      "text/plain": [
       "<Figure size 640x480 with 4 Axes>"
      ]
     },
     "metadata": {},
     "output_type": "display_data"
    }
   ],
   "source": [
    "plt.subplot(2,2,1)\n",
    "plt.scatter(housing_df['Size'],housing_df['Price'],s=10)\n",
    "plt.xlabel(\"size\")\n",
    "plt.ylabel(\"price\")\n",
    "plt.title(\"size vs price\")\n",
    "plt.subplot(2,2,2)\n",
    "plt.bar(housing_df['Bedrooms'],housing_df['Price'],color='g')\n",
    "plt.xlabel(\"bedrooms\")\n",
    "plt.ylabel(\"price\")\n",
    "plt.title(\"bedrooms vs price\")\n",
    "plt.subplot(2,2,3)\n",
    "plt.bar(housing_df['Bathrooms'],housing_df['Price'])\n",
    "plt.xlabel(\"bathrooms\")\n",
    "plt.ylabel(\"price\")\n",
    "plt.title(\"bathrooms vs price\")\n",
    "plt.subplot(2,2,4)\n",
    "plt.bar(housing_df['Location'],housing_df['Price'])\n",
    "plt.xlabel(\"location\")\n",
    "plt.ylabel(\"price\")\n",
    "plt.title(\"location vs price\")\n",
    "plt.subplots_adjust(hspace=1,wspace=1)\n",
    "plt.show()"
   ]
  },
  {
   "cell_type": "code",
   "execution_count": 123,
   "id": "a5196e76-77cc-4f1d-beb2-ce44ea60c011",
   "metadata": {},
   "outputs": [
    {
     "data": {
      "text/plain": [
       "array([[ 1.        , -0.01163126],\n",
       "       [-0.01163126,  1.        ]])"
      ]
     },
     "execution_count": 123,
     "metadata": {},
     "output_type": "execute_result"
    }
   ],
   "source": [
    "np.corrcoef(housing_df['Bedrooms'],housing_df['Price'])"
   ]
  },
  {
   "cell_type": "code",
   "execution_count": 126,
   "id": "1f2d643e-7175-4851-a990-dc607aa4592b",
   "metadata": {},
   "outputs": [
    {
     "name": "stderr",
     "output_type": "stream",
     "text": [
      "C:\\Users\\DeveshNarain\\AppData\\Local\\Temp\\ipykernel_24424\\3146943925.py:1: FutureWarning: The default value of numeric_only in DataFrame.corr is deprecated. In a future version, it will default to False. Select only valid columns or specify the value of numeric_only to silence this warning.\n",
      "  sns.heatmap(housing_df.corr())\n"
     ]
    },
    {
     "data": {
      "text/plain": [
       "<Axes: >"
      ]
     },
     "execution_count": 126,
     "metadata": {},
     "output_type": "execute_result"
    },
    {
     "data": {
      "image/png": "[encoded data removed]",
      "text/plain": [
       "<Figure size 640x480 with 2 Axes>"
      ]
     },
     "metadata": {},
     "output_type": "display_data"
    }
   ],
   "source": [
    "sns.heatmap(housing_df.corr())"
   ]
  },
  {
   "cell_type": "code",
   "execution_count": null,
   "id": "de7bc2e4-55a4-4116-a718-8260b3ced1ee",
   "metadata": {},
   "outputs": [],
   "source": []
  }
 ],
 "metadata": {
  "kernelspec": {
   "display_name": "Python 3 (ipykernel)",
   "language": "python",
   "name": "python3"
  },
  "language_info": {
   "codemirror_mode": {
    "name": "ipython",
    "version": 3
   },
   "file_extension": ".py",
   "mimetype": "text/x-python",
   "name": "python",
   "nbconvert_exporter": "python",
   "pygments_lexer": "ipython3",
   "version": "3.11.4"
  }
 },
 "nbformat": 4,
 "nbformat_minor": 5
}
