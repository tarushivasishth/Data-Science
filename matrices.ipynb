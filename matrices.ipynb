{
 "cells": [
  {
   "cell_type": "code",
   "execution_count": 16,
   "id": "1e059439-ada7-4815-bd9c-37d51996309d",
   "metadata": {},
   "outputs": [],
   "source": [
    "import numpy as np\n",
    "import pandas as pd"
   ]
  },
  {
   "cell_type": "code",
   "execution_count": 24,
   "id": "a797d252-b3ba-445a-ab66-5c3cd4f691e6",
   "metadata": {},
   "outputs": [],
   "source": [
    "revenue = np.array([[200,220,250],\n",
    "           [68,79,105],\n",
    "           [110,140,180],\n",
    "           [80,85,90]])\n",
    "usd = 83"
   ]
  },
  {
   "cell_type": "code",
   "execution_count": 25,
   "id": "7a9df6b4-87a3-4ea2-944d-cf17a679462f",
   "metadata": {},
   "outputs": [
    {
     "data": {
      "text/plain": [
       "array([[16600, 18260, 20750],\n",
       "       [ 5644,  6557,  8715],\n",
       "       [ 9130, 11620, 14940],\n",
       "       [ 6640,  7055,  7470]])"
      ]
     },
     "execution_count": 25,
     "metadata": {},
     "output_type": "execute_result"
    }
   ],
   "source": [
    "usd*revenue"
   ]
  },
  {
   "cell_type": "code",
   "execution_count": 35,
   "id": "8f46548c-3d0d-4dba-a80f-807ac119971b",
   "metadata": {},
   "outputs": [],
   "source": [
    "units_sold = np.array([[50,60,25],\n",
    "                       [10,13,5],\n",
    "                       [40,70,52]])\n",
    "price = np.array([[20,30,15]])"
   ]
  },
  {
   "cell_type": "code",
   "execution_count": 36,
   "id": "7b70bf47-4efb-4806-857e-5af212b951fd",
   "metadata": {},
   "outputs": [
    {
     "data": {
      "text/plain": [
       "array([[1900, 2640, 1430]])"
      ]
     },
     "execution_count": 36,
     "metadata": {},
     "output_type": "execute_result"
    }
   ],
   "source": [
    "np.dot(price,units_sold)"
   ]
  },
  {
   "cell_type": "code",
   "execution_count": null,
   "id": "0cb24825-6988-45b8-96e8-47969412e95e",
   "metadata": {},
   "outputs": [],
   "source": []
  }
 ],
 "metadata": {
  "kernelspec": {
   "display_name": "Python 3 (ipykernel)",
   "language": "python",
   "name": "python3"
  },
  "language_info": {
   "codemirror_mode": {
    "name": "ipython",
    "version": 3
   },
   "file_extension": ".py",
   "mimetype": "text/x-python",
   "name": "python",
   "nbconvert_exporter": "python",
   "pygments_lexer": "ipython3",
   "version": "3.11.4"
  }
 },
 "nbformat": 4,
 "nbformat_minor": 5
}
