{
 "cells": [
  {
   "cell_type": "code",
   "execution_count": 1,
   "id": "b797745d-3b9a-4364-8cfe-8fb976427e38",
   "metadata": {},
   "outputs": [],
   "source": [
    "import tensorflow as tf"
   ]
  },
  {
   "cell_type": "code",
   "execution_count": 2,
   "id": "09e3e2d5-af56-4502-b04d-c88488b4598b",
   "metadata": {},
   "outputs": [],
   "source": [
    "daily_sales_data = [21,22,-108,9,40,53,-1,31]"
   ]
  },
  {
   "cell_type": "code",
   "execution_count": 3,
   "id": "28b48213-bd88-467a-b548-97c90465ee64",
   "metadata": {},
   "outputs": [
    {
     "data": {
      "text/plain": [
       "<_TensorSliceDataset element_spec=TensorSpec(shape=(), dtype=tf.int32, name=None)>"
      ]
     },
     "execution_count": 3,
     "metadata": {},
     "output_type": "execute_result"
    }
   ],
   "source": [
    "# convert the data into tensorflow dataset\n",
    "tf_dataset = tf.data.Dataset.from_tensor_slices(daily_sales_data)\n",
    "tf_dataset"
   ]
  },
  {
   "cell_type": "code",
   "execution_count": 4,
   "id": "c03fe0f4-d9da-43bc-9813-54325619a131",
   "metadata": {},
   "outputs": [
    {
     "name": "stdout",
     "output_type": "stream",
     "text": [
      "21\n",
      "22\n",
      "-108\n",
      "9\n",
      "40\n",
      "53\n",
      "-1\n",
      "31\n"
     ]
    }
   ],
   "source": [
    "for sales_nums in tf_dataset.as_numpy_iterator():\n",
    "    print(sales_nums)"
   ]
  },
  {
   "cell_type": "code",
   "execution_count": 5,
   "id": "4069f479-38f0-443a-ac9d-01b0fd60d8ab",
   "metadata": {},
   "outputs": [
    {
     "name": "stdout",
     "output_type": "stream",
     "text": [
      "21\n",
      "22\n",
      "-108\n"
     ]
    }
   ],
   "source": [
    "for sales in tf_dataset.take(3):\n",
    "    print(sales.numpy())"
   ]
  },
  {
   "cell_type": "code",
   "execution_count": 6,
   "id": "e9d119f2-ed7a-4ebd-aac5-208b107c0b89",
   "metadata": {},
   "outputs": [
    {
     "name": "stdout",
     "output_type": "stream",
     "text": [
      "21\n",
      "22\n",
      "9\n",
      "40\n",
      "53\n",
      "31\n"
     ]
    }
   ],
   "source": [
    "# filtering -ve values as the sales cannot be -ve\n",
    "tf_dataset = tf_dataset.filter(lambda x: x>0)\n",
    "for sales in tf_dataset.as_numpy_iterator():\n",
    "    print(sales)"
   ]
  },
  {
   "cell_type": "code",
   "execution_count": 7,
   "id": "3947df86-ff4f-40cd-b37c-c306d297d2f7",
   "metadata": {},
   "outputs": [
    {
     "name": "stdout",
     "output_type": "stream",
     "text": [
      "1785\n",
      "1870\n",
      "765\n",
      "3400\n",
      "4505\n",
      "2635\n"
     ]
    }
   ],
   "source": [
    "# convert sales in USD to INR\n",
    "tf_dataset = tf_dataset.map(lambda x: x*85)\n",
    "for sales in tf_dataset.as_numpy_iterator():\n",
    "    print(sales)"
   ]
  },
  {
   "cell_type": "code",
   "execution_count": 8,
   "id": "93e0fa05-9992-4c26-b8f5-8f03cc379746",
   "metadata": {},
   "outputs": [
    {
     "name": "stdout",
     "output_type": "stream",
     "text": [
      "1870\n",
      "1785\n",
      "765\n",
      "4505\n",
      "2635\n",
      "3400\n"
     ]
    }
   ],
   "source": [
    "# shuffle the tf dataset\n",
    "tf_dataset = tf_dataset.shuffle(buffer_size=3)\n",
    "for sales in tf_dataset.as_numpy_iterator():\n",
    "    print(sales)"
   ]
  },
  {
   "cell_type": "code",
   "execution_count": 9,
   "id": "2b0adcbe-bed5-49d8-b715-af70f4720fb9",
   "metadata": {},
   "outputs": [
    {
     "name": "stdout",
     "output_type": "stream",
     "text": [
      "[1870  765 4505 1785]\n",
      "[2635 3400]\n"
     ]
    }
   ],
   "source": [
    "# batching\n",
    "for sales_batch in tf_dataset.batch(4):\n",
    "    print(sales_batch.numpy())"
   ]
  },
  {
   "cell_type": "code",
   "execution_count": 10,
   "id": "8a1b5b63-69a0-4866-8958-71756ce86fdf",
   "metadata": {},
   "outputs": [
    {
     "name": "stdout",
     "output_type": "stream",
     "text": [
      "[1870  765]\n",
      "[1785 2635]\n",
      "[4505 3400]\n"
     ]
    }
   ],
   "source": [
    "tf_dataset = tf.data.Dataset.from_tensor_slices(daily_sales_data)\n",
    "\n",
    "tf_dataset = tf_dataset.filter(lambda x: x>0).map(lambda y: y*85).shuffle(3).batch(2)\n",
    "for sales in tf_dataset.as_numpy_iterator():\n",
    "    print(sales)"
   ]
  },
  {
   "cell_type": "markdown",
   "id": "e64a2648-3807-4e07-8f96-f128aa1495bc",
   "metadata": {},
   "source": [
    "# Images\n",
    "we are not doing any training or building model, we are just building a tensorflow input pipeline that we will be using for later works"
   ]
  },
  {
   "cell_type": "code",
   "execution_count": 12,
   "id": "b99236d4-8ccb-491f-966d-030abe7119ed",
   "metadata": {},
   "outputs": [
    {
     "name": "stdout",
     "output_type": "stream",
     "text": [
      "tf.Tensor(b'images\\\\cat\\\\DE_Egypt5843MW_0.jpg', shape=(), dtype=string)\n",
      "tf.Tensor(b'images\\\\cat\\\\FELV-cat.jpg', shape=(), dtype=string)\n",
      "tf.Tensor(b'images\\\\cat\\\\Facts-About-Ginger-CatsHERO.jpg', shape=(), dtype=string)\n",
      "tf.Tensor(b'images\\\\cat\\\\cat-quotes-1543599392.jpg', shape=(), dtype=string)\n",
      "tf.Tensor(b'images\\\\cat\\\\cool_cat.jpg', shape=(), dtype=string)\n"
     ]
    }
   ],
   "source": [
    "images_ds = tf.data.Dataset.list_files(\"images/*/*\",shuffle=False)\n",
    "for files in images_ds.take(5):\n",
    "    print(files)"
   ]
  },
  {
   "cell_type": "code",
   "execution_count": 13,
   "id": "3f9437f8-c91c-4c7e-9018-29189ace3979",
   "metadata": {},
   "outputs": [
    {
     "name": "stdout",
     "output_type": "stream",
     "text": [
      "b'images\\\\cat\\\\cool_cat.jpg'\n",
      "b'images\\\\cat\\\\DE_Egypt5843MW_0.jpg'\n",
      "b'images\\\\cat\\\\hq720.jpg'\n"
     ]
    }
   ],
   "source": [
    "images_ds = images_ds.shuffle(20)\n",
    "\n",
    "for file in images_ds.take(3):\n",
    "    print(file.numpy())"
   ]
  },
  {
   "cell_type": "code",
   "execution_count": 14,
   "id": "f5ce9620-ccfa-4fab-919b-db09a9eb8bdb",
   "metadata": {},
   "outputs": [
    {
     "data": {
      "text/plain": [
       "117"
      ]
     },
     "execution_count": 14,
     "metadata": {},
     "output_type": "execute_result"
    }
   ],
   "source": [
    "image_count = len(images_ds)\n",
    "image_count"
   ]
  },
  {
   "cell_type": "code",
   "execution_count": 15,
   "id": "ce9b712d-eec0-484f-aec7-ad6e8e53442e",
   "metadata": {},
   "outputs": [],
   "source": [
    "train_size = int(image_count*0.8) # take 80% of images for training\n",
    "\n",
    "train_ds = images_ds.take(train_size)\n",
    "test_ds = images_ds.skip(train_size)"
   ]
  },
  {
   "cell_type": "code",
   "execution_count": 16,
   "id": "4da81698-a35c-41fd-a128-d7a04c7eccb3",
   "metadata": {},
   "outputs": [
    {
     "data": {
      "text/plain": [
       "93"
      ]
     },
     "execution_count": 16,
     "metadata": {},
     "output_type": "execute_result"
    }
   ],
   "source": [
    "len(train_ds)"
   ]
  },
  {
   "cell_type": "code",
   "execution_count": 17,
   "id": "5936ce09-2dc2-4763-8afd-507b10842f3e",
   "metadata": {},
   "outputs": [
    {
     "data": {
      "text/plain": [
       "24"
      ]
     },
     "execution_count": 17,
     "metadata": {},
     "output_type": "execute_result"
    }
   ],
   "source": [
    "len(test_ds)"
   ]
  },
  {
   "cell_type": "code",
   "execution_count": 18,
   "id": "ec0e9131-fc99-4e1f-afc1-600a8d7a4e4d",
   "metadata": {},
   "outputs": [
    {
     "data": {
      "text/plain": [
       "'cat'"
      ]
     },
     "execution_count": 18,
     "metadata": {},
     "output_type": "execute_result"
    }
   ],
   "source": [
    "s = 'images\\\\cat\\\\hq7202.jpg'\n",
    "\n",
    "s.split(\"\\\\\")[-2]"
   ]
  },
  {
   "cell_type": "code",
   "execution_count": 19,
   "id": "55eca296-001a-403f-8b0e-ae494b61b33c",
   "metadata": {},
   "outputs": [],
   "source": [
    "import os\n",
    "def get_label(filepath):\n",
    "    # return filepath.split('\\\\')[-2], split does not work for tensor objects\n",
    "    return tf.strings.split(filepath,os.path.sep)[-2]"
   ]
  },
  {
   "cell_type": "code",
   "execution_count": 20,
   "id": "f7eb616b-ba6a-4472-bb45-5a7345943048",
   "metadata": {},
   "outputs": [],
   "source": [
    "def process_image(filepath):\n",
    "    label = get_label(filepath)\n",
    "    img = tf.io.read_file(filepath)\n",
    "    img = tf.image.decode_jpeg(img)\n",
    "    img = tf.image.resize(img,[128,128])\n",
    "    \n",
    "    return img,label"
   ]
  },
  {
   "cell_type": "code",
   "execution_count": 21,
   "id": "162e9149-8f2b-45c8-aa97-7bc36f4285ad",
   "metadata": {},
   "outputs": [
    {
     "name": "stdout",
     "output_type": "stream",
     "text": [
      "tf.Tensor(b'images\\\\cat\\\\essay-wood-cats-149626371.jpg', shape=(), dtype=string)\n",
      "tf.Tensor(b'images\\\\cat\\\\european-shorthair-8601492_640.jpg', shape=(), dtype=string)\n",
      "tf.Tensor(b'images\\\\cat\\\\Facts-About-Ginger-CatsHERO.jpg', shape=(), dtype=string)\n",
      "tf.Tensor(b'images\\\\cat\\\\gettyimages-1067956982.jpg', shape=(), dtype=string)\n",
      "tf.Tensor(b'images\\\\cat\\\\image13.jpeg', shape=(), dtype=string)\n"
     ]
    }
   ],
   "source": [
    "for i in train_ds.take(5):\n",
    "    print(i)"
   ]
  },
  {
   "cell_type": "code",
   "execution_count": 22,
   "id": "01049e65-1aa6-422e-bb52-03b140db8fa6",
   "metadata": {
    "scrolled": true
   },
   "outputs": [
    {
     "name": "stdout",
     "output_type": "stream",
     "text": [
      "Image:  tf.Tensor(\n",
      "[[[ 33.       53.       62.     ]\n",
      "  [ 33.       53.       62.     ]\n",
      "  [ 33.       53.       62.     ]\n",
      "  ...\n",
      "  [112.      105.       95.     ]\n",
      "  [112.      105.       95.     ]\n",
      "  [112.      105.       95.     ]]\n",
      "\n",
      " [[ 33.       52.       66.     ]\n",
      "  [ 33.       52.       66.     ]\n",
      "  [ 33.       52.21875  65.5625 ]\n",
      "  ...\n",
      "  [110.      104.       98.     ]\n",
      "  [110.      104.       98.     ]\n",
      "  [111.      104.       98.     ]]\n",
      "\n",
      " [[ 32.       51.       66.     ]\n",
      "  [ 32.9375   52.875    64.0625 ]\n",
      "  [ 33.       53.       62.     ]\n",
      "  ...\n",
      "  [105.      106.      100.     ]\n",
      "  [106.125   105.      100.     ]\n",
      "  [109.      104.      100.     ]]\n",
      "\n",
      " ...\n",
      "\n",
      " [[  3.       15.       39.     ]\n",
      "  [  7.28125  14.46875  40.40625]\n",
      "  [ 16.5625   22.5625   48.5625 ]\n",
      "  ...\n",
      "  [ 28.9375   34.9375   50.9375 ]\n",
      "  [ 36.21875  40.09375  52.09375]\n",
      "  [ 49.65625  50.       56.96875]]\n",
      "\n",
      " [[  3.3125   14.3125   36.3125 ]\n",
      "  [  3.625    14.625    36.625  ]\n",
      "  [  6.34375  16.5      38.78125]\n",
      "  ...\n",
      "  [ 29.71875  31.28125  49.     ]\n",
      "  [ 31.25     33.25     48.25   ]\n",
      "  [ 37.       39.       54.     ]]\n",
      "\n",
      " [[  0.       10.       32.     ]\n",
      "  [  0.46875  11.40625  33.40625]\n",
      "  [  4.0625   15.0625   37.0625 ]\n",
      "  ...\n",
      "  [ 48.5625   52.5625   55.     ]\n",
      "  [ 42.34375  45.34375  51.40625]\n",
      "  [ 39.15625  41.15625  53.15625]]], shape=(128, 128, 3), dtype=float32)\n",
      "Label:  tf.Tensor(b'cat', shape=(), dtype=string)\n",
      "Image:  tf.Tensor(\n",
      "[[[ 81.38107   66.2908    47.245667]\n",
      "  [ 87.897125  72.57681   50.665375]\n",
      "  [ 81.50958   68.548645  44.868958]\n",
      "  ...\n",
      "  [121.75604  102.75604   70.076355]\n",
      "  [130.4414   110.08203   80.76172 ]\n",
      "  [129.5408   107.13629   76.2717  ]]\n",
      "\n",
      " [[ 79.28778   67.28778   45.28778 ]\n",
      "  [117.660095 100.660095  83.05853 ]\n",
      "  [ 92.97      80.30594   55.641876]\n",
      "  ...\n",
      "  [108.72      92.38406   65.38797 ]\n",
      "  [128.       107.39844   78.19922 ]\n",
      "  [112.790344  92.790344  67.790344]]\n",
      "\n",
      " [[103.04385   87.07031   63.      ]\n",
      "  [100.08719   84.29031   65.29031 ]\n",
      "  [ 98.06302   82.06302   57.19635 ]\n",
      "  ...\n",
      "  [108.52734   88.52734   62.191406]\n",
      "  [ 84.63422   69.99609   44.195312]\n",
      "  [103.66797   86.66797   60.66797 ]]\n",
      "\n",
      " ...\n",
      "\n",
      " [[181.89755  155.89755  120.89755 ]\n",
      "  [178.11984  152.11984  117.11984 ]\n",
      "  [172.60156  146.60156  111.60156 ]\n",
      "  ...\n",
      "  [156.1987   134.1987   110.1987  ]\n",
      "  [175.91672  154.91672  126.1564  ]\n",
      "  [177.30557  156.56161  130.73047 ]]\n",
      "\n",
      " [[180.13281  154.26562  118.99347 ]\n",
      "  [186.07034  160.0859   125.078125]\n",
      "  [179.66797  153.66797  116.72015 ]\n",
      "  ...\n",
      "  [165.       144.       115.      ]\n",
      "  [165.64062  145.28125  118.76172 ]\n",
      "  [177.92706  156.96353  129.96353 ]]\n",
      "\n",
      " [[183.61328  157.61328  124.48047 ]\n",
      "  [183.71222  159.0716   122.87891 ]\n",
      "  [183.87802  157.87802  122.66531 ]\n",
      "  ...\n",
      "  [173.45401  149.56036  121.2413  ]\n",
      "  [174.00778  153.55206  126.28125 ]\n",
      "  [180.3229   160.38672  135.23264 ]]], shape=(128, 128, 3), dtype=float32)\n",
      "Label:  tf.Tensor(b'cat', shape=(), dtype=string)\n",
      "Image:  tf.Tensor(\n",
      "[[[230.      239.      246.     ]\n",
      "  [229.      238.      245.     ]\n",
      "  [232.      241.      248.     ]\n",
      "  ...\n",
      "  [144.65625  73.1875    8.96875]\n",
      "  [136.15625  68.375     9.1875 ]\n",
      "  [ 97.9375   50.       12.53125]]\n",
      "\n",
      " [[229.      238.      245.     ]\n",
      "  [230.875   239.875   246.875  ]\n",
      "  [232.      241.      248.     ]\n",
      "  ...\n",
      "  [151.71875  71.25     23.     ]\n",
      "  [156.71875  76.84375  21.28125]\n",
      "  [139.9375   71.6875   19.3125 ]]\n",
      "\n",
      " [[229.      238.      245.     ]\n",
      "  [231.      240.      247.     ]\n",
      "  [232.      241.      248.     ]\n",
      "  ...\n",
      "  [148.28125  77.1875   36.125  ]\n",
      "  [173.78125  84.15625  31.4375 ]\n",
      "  [172.9375   88.09375  20.46875]]\n",
      "\n",
      " ...\n",
      "\n",
      " [[239.125   241.125   253.125  ]\n",
      "  [236.28125 238.28125 250.28125]\n",
      "  [235.      237.      249.     ]\n",
      "  ...\n",
      "  [245.21875 239.21875 241.21875]\n",
      "  [245.28125 239.28125 239.28125]\n",
      "  [247.28125 241.28125 241.28125]]\n",
      "\n",
      " [[237.875   239.875   251.875  ]\n",
      "  [235.0625  237.0625  249.0625 ]\n",
      "  [236.      238.      250.     ]\n",
      "  ...\n",
      "  [248.1875  242.1875  244.1875 ]\n",
      "  [240.78125 234.78125 234.90625]\n",
      "  [244.3125  238.3125  238.4375 ]]\n",
      "\n",
      " [[236.      238.      250.     ]\n",
      "  [236.      238.      250.     ]\n",
      "  [236.      238.      250.     ]\n",
      "  ...\n",
      "  [249.      243.      245.     ]\n",
      "  [247.34375 241.34375 243.34375]\n",
      "  [241.      235.      237.     ]]], shape=(128, 128, 3), dtype=float32)\n",
      "Label:  tf.Tensor(b'cat', shape=(), dtype=string)\n",
      "Image:  tf.Tensor(\n",
      "[[[255. 255. 255.]\n",
      "  [255. 255. 255.]\n",
      "  [255. 255. 255.]\n",
      "  ...\n",
      "  [255. 255. 255.]\n",
      "  [255. 255. 255.]\n",
      "  [255. 255. 255.]]\n",
      "\n",
      " [[255. 255. 255.]\n",
      "  [255. 255. 255.]\n",
      "  [255. 255. 255.]\n",
      "  ...\n",
      "  [255. 255. 255.]\n",
      "  [255. 255. 255.]\n",
      "  [255. 255. 255.]]\n",
      "\n",
      " [[255. 255. 255.]\n",
      "  [255. 255. 255.]\n",
      "  [255. 255. 255.]\n",
      "  ...\n",
      "  [255. 255. 255.]\n",
      "  [255. 255. 255.]\n",
      "  [255. 255. 255.]]\n",
      "\n",
      " ...\n",
      "\n",
      " [[255. 255. 255.]\n",
      "  [255. 255. 255.]\n",
      "  [255. 255. 255.]\n",
      "  ...\n",
      "  [255. 255. 255.]\n",
      "  [255. 255. 255.]\n",
      "  [255. 255. 255.]]\n",
      "\n",
      " [[255. 255. 255.]\n",
      "  [255. 255. 255.]\n",
      "  [255. 255. 255.]\n",
      "  ...\n",
      "  [255. 255. 255.]\n",
      "  [255. 255. 255.]\n",
      "  [255. 255. 255.]]\n",
      "\n",
      " [[255. 255. 255.]\n",
      "  [255. 255. 255.]\n",
      "  [255. 255. 255.]\n",
      "  ...\n",
      "  [255. 255. 255.]\n",
      "  [255. 255. 255.]\n",
      "  [255. 255. 255.]]], shape=(128, 128, 3), dtype=float32)\n",
      "Label:  tf.Tensor(b'cat', shape=(), dtype=string)\n",
      "Image:  tf.Tensor(\n",
      "[[[104.353516 119.353516  49.703125]\n",
      "  [ 60.25586   83.6582     0.      ]\n",
      "  [112.95703  112.22461   73.42969 ]\n",
      "  ...\n",
      "  [124.       112.74805   91.24414 ]\n",
      "  [116.09766  105.5       67.3418  ]\n",
      "  [106.146484 101.04883   49.34961 ]]\n",
      "\n",
      " [[ 75.99219   78.44336   22.695312]\n",
      "  [119.328125 108.365234  78.23047 ]\n",
      "  [ 71.7207    89.23242    9.220703]\n",
      "  ...\n",
      "  [124.77539  117.2793    93.759766]\n",
      "  [145.53711  141.74414   97.37891 ]\n",
      "  [126.8457   124.09766   59.04883 ]]\n",
      "\n",
      " [[ 80.60156   63.601562  35.902344]\n",
      "  [114.98828  102.43945   74.646484]\n",
      "  [121.76367  104.01172   70.25586 ]\n",
      "  ...\n",
      "  [175.75586  175.75195  161.9961  ]\n",
      "  [166.79297  162.79297  131.63477 ]\n",
      "  [133.69531  135.59766   65.79297 ]]\n",
      "\n",
      " ...\n",
      "\n",
      " [[ 33.507812  51.410156  17.109375]\n",
      "  [ 61.96289   73.865234  88.25586 ]\n",
      "  [ 57.976562  68.97656   88.97656 ]\n",
      "  ...\n",
      "  [ 86.49609   98.50391  116.      ]\n",
      "  [ 88.45117   98.45117  115.95117 ]\n",
      "  [ 88.5      100.19922  117.84961 ]]\n",
      "\n",
      " [[ 36.007812  52.458984  26.007812]\n",
      "  [ 59.51172   71.51172   85.70703 ]\n",
      "  [ 58.960938  69.44141   88.44141 ]\n",
      "  ...\n",
      "  [ 87.49219   97.50781  116.759766]\n",
      "  [ 87.59766   96.95117  117.5     ]\n",
      "  [ 88.74805   97.95117  116.04883 ]]\n",
      "\n",
      " [[ 59.29297   75.24414   40.24414 ]\n",
      "  [ 62.353516  75.353516  88.04883 ]\n",
      "  [ 64.22461   72.96875   94.728516]\n",
      "  ...\n",
      "  [ 88.49609   99.49609  118.      ]\n",
      "  [ 88.69531   98.04883  116.59766 ]\n",
      "  [ 90.69922  101.84961  119.54883 ]]], shape=(128, 128, 3), dtype=float32)\n",
      "Label:  tf.Tensor(b'cat', shape=(), dtype=string)\n"
     ]
    }
   ],
   "source": [
    "train_ds = train_ds.map(process_image)\n",
    "for img,label in train_ds.take(5):\n",
    "    print(\"Image: \",img)\n",
    "    print(\"Label: \",label)"
   ]
  },
  {
   "cell_type": "code",
   "execution_count": 23,
   "id": "8ad8cd76-6791-4b82-ba8b-455743a9e78c",
   "metadata": {},
   "outputs": [],
   "source": [
    "def scale(image,label):\n",
    "    return image/255,label"
   ]
  },
  {
   "cell_type": "code",
   "execution_count": 24,
   "id": "42ae5072-1030-48c4-b17d-caa83acc5d14",
   "metadata": {
    "scrolled": true
   },
   "outputs": [
    {
     "name": "stdout",
     "output_type": "stream",
     "text": [
      "Image:  [[[0.6039216  0.7894148  0.9613741 ]\n",
      "  [0.6019608  0.7921569  0.96666664]\n",
      "  [0.5931296  0.7931296  0.96175706]\n",
      "  ...\n",
      "  [0.2891927  0.45292586 0.17745864]\n",
      "  [0.2647059  0.46413144 0.21004136]\n",
      "  [0.35922182 0.57412684 0.4715916 ]]\n",
      "\n",
      " [[0.6051011  0.79725796 0.95804226]\n",
      "  [0.6099954  0.79430914 0.96685815]\n",
      "  [0.6098039  0.80196077 0.9666973 ]\n",
      "  ...\n",
      "  [0.26174173 0.42054993 0.20193015]\n",
      "  [0.26059282 0.41707262 0.20846353]\n",
      "  [0.24018842 0.46666667 0.3221737 ]]\n",
      "\n",
      " [[0.60706186 0.7952972  0.95804226]\n",
      "  [0.6101869  0.8015778  0.9609758 ]\n",
      "  [0.61179537 0.8019761  0.9657246 ]\n",
      "  ...\n",
      "  [0.28037685 0.44705883 0.26570925]\n",
      "  [0.26489738 0.4855086  0.34944853]\n",
      "  [0.26489738 0.5476486  0.49765626]]\n",
      "\n",
      " ...\n",
      "\n",
      " [[0.36373314 0.36000305 0.3764859 ]\n",
      "  [0.2684819  0.27240348 0.2096584 ]\n",
      "  [0.23426011 0.23920037 0.16371784]\n",
      "  ...\n",
      "  [0.59396446 0.524349   0.35280332]\n",
      "  [0.6827359  0.60234374 0.4199908 ]\n",
      "  [0.57372856 0.5158931  0.3463082 ]]\n",
      "\n",
      " [[0.4917739  0.5286458  0.63041514]\n",
      "  [0.24265471 0.24949448 0.23265931]\n",
      "  [0.16963083 0.18528646 0.15683211]\n",
      "  ...\n",
      "  [0.5073836  0.45646447 0.3153952 ]\n",
      "  [0.05193781 0.06590074 0.06943934]\n",
      "  [0.05333946 0.06059283 0.07352176]]\n",
      "\n",
      " [[0.44964    0.49905792 0.5777114 ]\n",
      "  [0.18082108 0.18866421 0.18005514]\n",
      "  [0.2264323  0.24208793 0.22047335]\n",
      "  ...\n",
      "  [0.05392923 0.05392923 0.06177237]\n",
      "  [0.0645144  0.06843597 0.0762791 ]\n",
      "  [0.09921875 0.10098805 0.09509038]]]\n",
      "Label:  b'cat'\n",
      "Image:  [[[0.4092295  0.468053   0.19491422]\n",
      "  [0.23629749 0.3280714  0.        ]\n",
      "  [0.44296876 0.4400965  0.28795955]\n",
      "  ...\n",
      "  [0.4862745  0.4421492  0.35782015]\n",
      "  [0.45528492 0.4137255  0.26408547]\n",
      "  [0.41626072 0.39626992 0.19352788]]\n",
      "\n",
      " [[0.2980086  0.30762103 0.08900122]\n",
      "  [0.46795344 0.42496172 0.30678615]\n",
      "  [0.28125766 0.34993106 0.03615962]\n",
      "  ...\n",
      "  [0.48931527 0.4599188  0.36768535]\n",
      "  [0.5707338  0.5558594  0.38187808]\n",
      "  [0.49743414 0.48665747 0.23156403]]\n",
      "\n",
      " [[0.31608456 0.24941789 0.1407935 ]\n",
      "  [0.45093444 0.40172336 0.2927313 ]\n",
      "  [0.47750458 0.4078891  0.27551317]\n",
      "  ...\n",
      "  [0.68923867 0.68922335 0.6352788 ]\n",
      "  [0.65409005 0.6384038  0.5162148 ]\n",
      "  [0.52429533 0.5317555  0.25801164]]\n",
      "\n",
      " ...\n",
      "\n",
      " [[0.1314032  0.20160845 0.06709559]\n",
      "  [0.24299173 0.28966758 0.3461014 ]\n",
      "  [0.22735907 0.2704963  0.3489277 ]\n",
      "  ...\n",
      "  [0.33920038 0.38628983 0.45490196]\n",
      "  [0.34686735 0.38608304 0.45471048]\n",
      "  [0.34705883 0.3929381  0.46215534]]\n",
      "\n",
      " [[0.14120711 0.20572151 0.10199142]\n",
      "  [0.23337929 0.28043813 0.336106  ]\n",
      "  [0.23121937 0.27231923 0.34682906]\n",
      "  ...\n",
      "  [0.34310663 0.38238358 0.45788142]\n",
      "  [0.34352022 0.38020068 0.46078432]\n",
      "  [0.34803155 0.38412225 0.45509344]]\n",
      "\n",
      " [[0.23252144 0.29507506 0.15782017]\n",
      "  [0.24452358 0.29550397 0.34528953]\n",
      "  [0.2518612  0.28615198 0.37148437]\n",
      "  ...\n",
      "  [0.3470435  0.39018077 0.4627451 ]\n",
      "  [0.34782475 0.3845052  0.4572457 ]\n",
      "  [0.3556832  0.39941022 0.46881893]]]\n",
      "Label:  b'cat'\n",
      "Image:  [[[0.00392157 0.02352941 0.        ]\n",
      "  [0.00392157 0.02352941 0.        ]\n",
      "  [0.00392157 0.02352941 0.        ]\n",
      "  ...\n",
      "  [0.00421262 0.04734988 0.0316636 ]\n",
      "  [0.00252757 0.0364277  0.02466299]\n",
      "  [0.         0.03137255 0.01960784]]\n",
      "\n",
      " [[0.00392157 0.02352941 0.        ]\n",
      "  [0.00392157 0.02352941 0.        ]\n",
      "  [0.00392157 0.02352941 0.        ]\n",
      "  ...\n",
      "  [0.00421262 0.04734988 0.0316636 ]\n",
      "  [0.00252757 0.0364277  0.02466299]\n",
      "  [0.         0.03137255 0.01960784]]\n",
      "\n",
      " [[0.00392157 0.02352941 0.00784314]\n",
      "  [0.00392157 0.02352941 0.00784314]\n",
      "  [0.00392157 0.02352941 0.00784314]\n",
      "  ...\n",
      "  [0.00813419 0.04342831 0.0316636 ]\n",
      "  [0.00252757 0.0364277  0.02466299]\n",
      "  [0.00307904 0.02829351 0.01960784]]\n",
      "\n",
      " ...\n",
      "\n",
      " [[0.09548238 0.12293336 0.09156081]\n",
      "  [0.1470158  0.17446677 0.14309423]\n",
      "  [0.12975566 0.1580798  0.12641619]\n",
      "  ...\n",
      "  [0.09703662 0.15636566 0.14460096]\n",
      "  [0.02580483 0.08513387 0.07336917]\n",
      "  [0.02112163 0.08045068 0.06868597]]\n",
      "\n",
      " [[0.07722048 0.10381751 0.07831953]\n",
      "  [0.11205576 0.13950674 0.10922182]\n",
      "  [0.08971827 0.11780024 0.08730499]\n",
      "  ...\n",
      "  [0.13167067 0.19287564 0.18119165]\n",
      "  [0.05603632 0.11878142 0.10701671]\n",
      "  [0.04681516 0.11212212 0.10121137]]\n",
      "\n",
      " [[0.05574448 0.07927389 0.06358762]\n",
      "  [0.06387868 0.08993566 0.06666667]\n",
      "  [0.07930453 0.10675552 0.07930453]\n",
      "  ...\n",
      "  [0.05325994 0.1106282  0.0994456 ]\n",
      "  [0.07104827 0.13544779 0.12228908]\n",
      "  [0.04576679 0.1202766  0.11074841]]]\n",
      "Label:  b'cat'\n",
      "Image:  [[[0.12941177 0.20784314 0.24313726]\n",
      "  [0.12941177 0.20784314 0.24313726]\n",
      "  [0.12941177 0.20784314 0.24313726]\n",
      "  ...\n",
      "  [0.4392157  0.4117647  0.37254903]\n",
      "  [0.4392157  0.4117647  0.37254903]\n",
      "  [0.4392157  0.4117647  0.37254903]]\n",
      "\n",
      " [[0.12941177 0.20392157 0.25882354]\n",
      "  [0.12941177 0.20392157 0.25882354]\n",
      "  [0.12941177 0.20477942 0.25710785]\n",
      "  ...\n",
      "  [0.43137255 0.40784314 0.38431373]\n",
      "  [0.43137255 0.40784314 0.38431373]\n",
      "  [0.43529412 0.40784314 0.38431373]]\n",
      "\n",
      " [[0.1254902  0.2        0.25882354]\n",
      "  [0.12916666 0.20735294 0.2512255 ]\n",
      "  [0.12941177 0.20784314 0.24313726]\n",
      "  ...\n",
      "  [0.4117647  0.41568628 0.39215687]\n",
      "  [0.41617647 0.4117647  0.39215687]\n",
      "  [0.42745098 0.40784314 0.39215687]]\n",
      "\n",
      " ...\n",
      "\n",
      " [[0.01176471 0.05882353 0.15294118]\n",
      "  [0.02855392 0.05674019 0.15845588]\n",
      "  [0.06495098 0.08848039 0.19044118]\n",
      "  ...\n",
      "  [0.11348039 0.1370098  0.19975491]\n",
      "  [0.1420343  0.15723039 0.20428921]\n",
      "  [0.19473039 0.19607843 0.22340687]]\n",
      "\n",
      " [[0.0129902  0.05612745 0.14240196]\n",
      "  [0.01421569 0.05735294 0.14362745]\n",
      "  [0.02487745 0.06470589 0.15208334]\n",
      "  ...\n",
      "  [0.11654412 0.12267157 0.19215687]\n",
      "  [0.12254902 0.13039216 0.18921569]\n",
      "  [0.14509805 0.15294118 0.21176471]]\n",
      "\n",
      " [[0.         0.03921569 0.1254902 ]\n",
      "  [0.00183824 0.04473039 0.1310049 ]\n",
      "  [0.01593137 0.05906863 0.14534314]\n",
      "  ...\n",
      "  [0.19044118 0.20612745 0.21568628]\n",
      "  [0.16605392 0.17781863 0.20159313]\n",
      "  [0.15355392 0.16139705 0.20845588]]]\n",
      "Label:  b'cat'\n",
      "Image:  [[[2.2745098e-01 1.6078432e-01 9.0196081e-02]\n",
      "  [2.3014706e-01 1.6348039e-01 9.2892155e-02]\n",
      "  [2.3137255e-01 1.6470589e-01 9.4117649e-02]\n",
      "  ...\n",
      "  [2.9019609e-01 2.5490198e-01 2.2745098e-01]\n",
      "  [2.9019609e-01 2.5490198e-01 2.2745098e-01]\n",
      "  [2.9411766e-01 2.5882354e-01 2.3137255e-01]]\n",
      "\n",
      " [[2.2745098e-01 1.6078432e-01 9.0196081e-02]\n",
      "  [2.3529412e-01 1.6862746e-01 9.8039217e-02]\n",
      "  [2.3137255e-01 1.6470589e-01 9.4117649e-02]\n",
      "  ...\n",
      "  [2.9019609e-01 2.5490198e-01 2.2745098e-01]\n",
      "  [2.9019609e-01 2.5490198e-01 2.2745098e-01]\n",
      "  [2.9411766e-01 2.5882354e-01 2.3137255e-01]]\n",
      "\n",
      " [[2.3480392e-01 1.6813725e-01 9.7549021e-02]\n",
      "  [2.2745098e-01 1.6078432e-01 9.0196081e-02]\n",
      "  [2.3529412e-01 1.6862746e-01 9.8039217e-02]\n",
      "  ...\n",
      "  [2.9549631e-01 2.6020220e-01 2.3275122e-01]\n",
      "  [2.9411766e-01 2.5882354e-01 2.3137255e-01]\n",
      "  [2.9803923e-01 2.6274511e-01 2.3529412e-01]]\n",
      "\n",
      " ...\n",
      "\n",
      " [[4.6467525e-01 4.4898897e-01 4.0193015e-01]\n",
      "  [5.5343139e-01 5.2205884e-01 4.7107843e-01]\n",
      "  [7.2892159e-01 6.8186277e-01 6.2401962e-01]\n",
      "  ...\n",
      "  [4.7058824e-02 1.9607844e-02 0.0000000e+00]\n",
      "  [5.8823530e-02 2.3529412e-02 3.9215689e-03]\n",
      "  [5.5392157e-02 2.0098040e-02 4.9019611e-04]]\n",
      "\n",
      " [[4.5955881e-01 4.3602940e-01 3.8897058e-01]\n",
      "  [5.5327821e-01 5.2190566e-01 4.7092524e-01]\n",
      "  [7.4843752e-01 6.9500613e-01 6.3961399e-01]\n",
      "  ...\n",
      "  [4.7058824e-02 1.9607844e-02 0.0000000e+00]\n",
      "  [5.8731619e-02 2.3437500e-02 3.8296569e-03]\n",
      "  [5.8823530e-02 2.3529412e-02 3.9215689e-03]]\n",
      "\n",
      " [[4.5211396e-01 4.2827818e-01 3.8137254e-01]\n",
      "  [5.7965684e-01 5.4044116e-01 4.9338236e-01]\n",
      "  [7.4779409e-01 6.8995100e-01 6.3602942e-01]\n",
      "  ...\n",
      "  [5.2205883e-02 2.4754902e-02 1.2254902e-03]\n",
      "  [6.2745102e-02 2.7450981e-02 7.8431377e-03]\n",
      "  [5.8823530e-02 2.3529412e-02 3.9215689e-03]]]\n",
      "Label:  b'cat'\n"
     ]
    }
   ],
   "source": [
    "train_ds = train_ds.map(scale)\n",
    "for image,label in train_ds.take(5):\n",
    "    print(\"Image: \",image.numpy())\n",
    "    print(\"Label: \",label.numpy())"
   ]
  },
  {
   "cell_type": "markdown",
   "id": "ea70b4ae-bf87-47a3-bf10-c51ad708d332",
   "metadata": {},
   "source": [
    "# Excercise"
   ]
  },
  {
   "cell_type": "code",
   "execution_count": 26,
   "id": "d79b5585-07fa-466a-87af-e74adfad9773",
   "metadata": {},
   "outputs": [
    {
     "data": {
      "text/plain": [
       "<_TensorSliceDataset element_spec=TensorSpec(shape=(), dtype=tf.string, name=None)>"
      ]
     },
     "execution_count": 26,
     "metadata": {},
     "output_type": "execute_result"
    }
   ],
   "source": [
    "data = tf.data.Dataset.list_files('reviews/*/*',shuffle=False)\n",
    "data"
   ]
  },
  {
   "cell_type": "code",
   "execution_count": 27,
   "id": "362f00ef-3506-43fd-be7c-f9f190968df9",
   "metadata": {},
   "outputs": [
    {
     "name": "stdout",
     "output_type": "stream",
     "text": [
      "tf.Tensor(b'reviews\\\\negative\\\\neg_1.txt', shape=(), dtype=string)\n",
      "tf.Tensor(b'reviews\\\\negative\\\\neg_2.txt', shape=(), dtype=string)\n",
      "tf.Tensor(b'reviews\\\\negative\\\\neg_3.txt', shape=(), dtype=string)\n",
      "tf.Tensor(b'reviews\\\\positive\\\\pos_1.txt', shape=(), dtype=string)\n",
      "tf.Tensor(b'reviews\\\\positive\\\\pos_2.txt', shape=(), dtype=string)\n",
      "tf.Tensor(b'reviews\\\\positive\\\\pos_3.txt', shape=(), dtype=string)\n"
     ]
    }
   ],
   "source": [
    "for text in data:\n",
    "    print(text)"
   ]
  },
  {
   "cell_type": "markdown",
   "id": "d4ab0bb0-78ea-4716-a899-d9920afe9a2f",
   "metadata": {},
   "source": [
    "<h3>Reading text and labels from file</h3>"
   ]
  },
  {
   "cell_type": "code",
   "execution_count": 29,
   "id": "adb84444-20fb-4822-a25f-3f0a45cc5eeb",
   "metadata": {},
   "outputs": [],
   "source": [
    "def getLabel(file_path):\n",
    "    return tf.strings.split(file_path,os.path.sep)[-2]"
   ]
  },
  {
   "cell_type": "code",
   "execution_count": 30,
   "id": "7ff5666d-ee51-4592-810e-347ee9955f59",
   "metadata": {},
   "outputs": [],
   "source": [
    "def read_text(file_path):\n",
    "    label = getLabel(file_path)\n",
    "    text = tf.io.read_file(file_path)\n",
    "    return text,label"
   ]
  },
  {
   "cell_type": "code",
   "execution_count": 31,
   "id": "6044b2ce-3f81-418d-9762-d31216ffb254",
   "metadata": {},
   "outputs": [],
   "source": [
    "data = data.map(read_text)"
   ]
  },
  {
   "cell_type": "code",
   "execution_count": 32,
   "id": "28345cb8-ff62-4953-a0ee-fa001589c703",
   "metadata": {},
   "outputs": [
    {
     "name": "stdout",
     "output_type": "stream",
     "text": [
      "Review:  b\"Basically there's a family where a little boy (Jake) thinks there's a zombie in his closet & his parents are fighting all the time.<br /><br />This movie is slower than a soap opera... and suddenly, Jake decides to become Rambo and kill the zombie.<br /><br />OK, first of all when you're going to make a film you must Decide if its a thriller or a drama! As a drama the movie is watchable. Parents are divorcing & arguing like in real life. And then we have Jake with his closet which totally ruins all the film! I expected to see a BOOGEYMAN similar movie, and instead i watched a drama with some meaningless thriller spots.<br /><br />3 out of 10 just for the well playing parents & descent dialogs. As for the shots with Jake: just ignore them.\\n\"\n",
      "Label:  b'negative'\n",
      "Review:  b\"This show was an amazing, fresh & innovative idea in the 70's when it first aired. The first 7 or 8 years were brilliant, but things dropped off after that. By 1990, the show was not really funny anymore, and it's continued its decline further to the complete waste of time it is today.<br /><br />It's truly disgraceful how far this show has fallen. The writing is painfully bad, the performances are almost as bad - if not for the mildly entertaining respite of the guest-hosts, this show probably wouldn't still be on the air. I find it so hard to believe that the same creator that hand-selected the original cast also chose the band of hacks that followed. How can one recognize such brilliance and then see fit to replace it with such mediocrity? I felt I must give 2 stars out of respect for the original cast that made this show such a huge success. As it is now, the show is just awful. I can't believe it's still on the air.\\n\"\n",
      "Label:  b'negative'\n",
      "Review:  b''\n",
      "Label:  b'negative'\n",
      "Review:  b\"One of the other reviewers has mentioned that after watching just 1 Oz episode you'll be hooked. They are right, as this is exactly what happened with me.<br /><br />The first thing that struck me about Oz was its brutality and unflinching scenes of violence, which set in right from the word GO. Trust me, this is not a show for the faint hearted or timid. This show pulls no punches with regards to drugs, sex or violence. Its is hardcore, in the classic use of the word.<br /><br />It is called OZ as that is the nickname given to the Oswald Maximum Security State Penitentary. It focuses mainly on Emerald City, an experimental section of the prison where all the cells have glass fronts and face inwards, so privacy is not high on the agenda. Em City is home to many..Aryans, Muslims, gangstas, Latinos, Christians, Italians, Irish and more....so scuffles, death stares, dodgy dealings and shady agreements are never far away.<br /><br />I would say the main appeal of the show is due to the fact that it goes where other shows wouldn't dare. Forget pretty pictures painted for mainstream audiences, forget charm, forget romance...OZ doesn't mess around. The first episode I ever saw struck me as so nasty it was surreal, I couldn't say I was ready for it, but as I watched more, I developed a taste for Oz, and got accustomed to the high levels of graphic violence. Not just violence, but injustice (crooked guards who'll be sold out for a nickel, inmates who'll kill on order and get away with it, well mannered, middle class inmates being turned into prison bitches due to their lack of street skills or prison experience) Watching Oz, you may become comfortable with what is uncomfortable viewing....thats if you can get in touch with your darker side.\\n\"\n",
      "Label:  b'positive'\n",
      "Review:  b'A wonderful little production. <br /><br />The filming technique is very unassuming- very old-time-BBC fashion and gives a comforting, and sometimes discomforting, sense of realism to the entire piece. <br /><br />The actors are extremely well chosen- Michael Sheen not only \"has got all the polari\" but he has all the voices down pat too! You can truly see the seamless editing guided by the references to Williams\\' diary entries, not only is it well worth the watching but it is a terrificly written and performed piece. A masterful production about one of the great master\\'s of comedy and his life. <br /><br />The realism really comes home with the little things: the fantasy of the guard which, rather than use the traditional \\'dream\\' techniques remains solid then disappears. It plays on our knowledge and our senses, particularly with the scenes concerning Orton and Halliwell and the sets (particularly of their flat with Halliwell\\'s murals decorating every surface) are terribly well done.\\n'\n",
      "Label:  b'positive'\n",
      "Review:  b''\n",
      "Label:  b'positive'\n"
     ]
    }
   ],
   "source": [
    "for text,label in data:\n",
    "    print(\"Review: \",text.numpy())\n",
    "    print(\"Label: \",label.numpy())"
   ]
  },
  {
   "cell_type": "markdown",
   "id": "33ac9d7e-4682-4045-8f22-59d4e678436e",
   "metadata": {},
   "source": [
    "<h3>Removing blank revies from the file</h3>"
   ]
  },
  {
   "cell_type": "code",
   "execution_count": 34,
   "id": "b4fb059c-d75b-4842-8e28-c22bd6cef2b6",
   "metadata": {},
   "outputs": [],
   "source": [
    "data = data.filter(lambda review,label: review != '')"
   ]
  },
  {
   "cell_type": "code",
   "execution_count": 72,
   "id": "985b02f0-2366-400b-b2f4-9f9f5adc6c45",
   "metadata": {},
   "outputs": [
    {
     "name": "stdout",
     "output_type": "stream",
     "text": [
      "Review:  b\"One of the other reviewers has mentioned that after watching just 1 Oz episode you'll be hooked. They are right, as this is exactly what happened with me.<br /><br />The first thing that struck me about Oz was its brutality and unflinching scenes of violence, which set in right from the word GO. Trust me, this is not a show for the faint hearted or timid. This show pulls no punches with regards to drugs, sex or violence. Its is hardcore, in the classic use of the word.<br /><br />It is called OZ as that is the nickname given to the Oswald Maximum Security State Penitentary. It focuses mainly on Emerald City, an experimental section of the prison where all the cells have glass fronts and face inwards, so privacy is not high on the agenda. Em City is home to many..Aryans, Muslims, gangstas, Latinos, Christians, Italians, Irish and more....so scuffles, death stares, dodgy dealings and shady agreements are never far away.<br /><br />I would say the main appeal of the show is due to the fact that it goes where other shows wouldn't dare. Forget pretty pictures painted for mainstream audiences, forget charm, forget romance...OZ doesn't mess around. The first episode I ever saw struck me as so nasty it was surreal, I couldn't say I was ready for it, but as I watched more, I developed a taste for Oz, and got accustomed to the high levels of graphic violence. Not just violence, but injustice (crooked guards who'll be sold out for a nickel, inmates who'll kill on order and get away with it, well mannered, middle class inmates being turned into prison bitches due to their lack of street skills or prison experience) Watching Oz, you may become comfortable with what is uncomfortable viewing....thats if you can get in touch with your darker side.\\n\"\n",
      "Label:  b'positive'\n",
      "Review:  b\"Basically there's a family where a little boy (Jake) thinks there's a zombie in his closet & his parents are fighting all the time.<br /><br />This movie is slower than a soap opera... and suddenly, Jake decides to become Rambo and kill the zombie.<br /><br />OK, first of all when you're going to make a film you must Decide if its a thriller or a drama! As a drama the movie is watchable. Parents are divorcing & arguing like in real life. And then we have Jake with his closet which totally ruins all the film! I expected to see a BOOGEYMAN similar movie, and instead i watched a drama with some meaningless thriller spots.<br /><br />3 out of 10 just for the well playing parents & descent dialogs. As for the shots with Jake: just ignore them.\\n\"\n",
      "Label:  b'negative'\n",
      "Review:  b'A wonderful little production. <br /><br />The filming technique is very unassuming- very old-time-BBC fashion and gives a comforting, and sometimes discomforting, sense of realism to the entire piece. <br /><br />The actors are extremely well chosen- Michael Sheen not only \"has got all the polari\" but he has all the voices down pat too! You can truly see the seamless editing guided by the references to Williams\\' diary entries, not only is it well worth the watching but it is a terrificly written and performed piece. A masterful production about one of the great master\\'s of comedy and his life. <br /><br />The realism really comes home with the little things: the fantasy of the guard which, rather than use the traditional \\'dream\\' techniques remains solid then disappears. It plays on our knowledge and our senses, particularly with the scenes concerning Orton and Halliwell and the sets (particularly of their flat with Halliwell\\'s murals decorating every surface) are terribly well done.\\n'\n",
      "Label:  b'positive'\n",
      "Review:  b\"This show was an amazing, fresh & innovative idea in the 70's when it first aired. The first 7 or 8 years were brilliant, but things dropped off after that. By 1990, the show was not really funny anymore, and it's continued its decline further to the complete waste of time it is today.<br /><br />It's truly disgraceful how far this show has fallen. The writing is painfully bad, the performances are almost as bad - if not for the mildly entertaining respite of the guest-hosts, this show probably wouldn't still be on the air. I find it so hard to believe that the same creator that hand-selected the original cast also chose the band of hacks that followed. How can one recognize such brilliance and then see fit to replace it with such mediocrity? I felt I must give 2 stars out of respect for the original cast that made this show such a huge success. As it is now, the show is just awful. I can't believe it's still on the air.\\n\"\n",
      "Label:  b'negative'\n"
     ]
    }
   ],
   "source": [
    "for text,label in data.as_numpy_iterator():\n",
    "    print(\"Review: \",text)\n",
    "    print(\"Label: \",label)"
   ]
  },
  {
   "cell_type": "code",
   "execution_count": 74,
   "id": "9caedd29-45de-4ab0-8d0c-94bf7a0c4810",
   "metadata": {},
   "outputs": [],
   "source": [
    "data = tf.data.Dataset.list_files(\"reviews/*/*\",shuffle=False)"
   ]
  },
  {
   "cell_type": "code",
   "execution_count": 76,
   "id": "3d8c394a-e2ae-4c55-bff7-9c127b73c0ad",
   "metadata": {},
   "outputs": [],
   "source": [
    "data = data.map(read_text).filter(lambda r,l: r!= \"\").shuffle(3)"
   ]
  },
  {
   "cell_type": "code",
   "execution_count": 80,
   "id": "9af0c9f1-3412-4a3f-bf0f-cf884e2b665e",
   "metadata": {},
   "outputs": [
    {
     "name": "stdout",
     "output_type": "stream",
     "text": [
      "Review:  b'One of the other reviewers has mentioned that afte'\n",
      "Label:  b'positive'\n",
      "Review:  b'This show was an amazing, fresh & innovative idea '\n",
      "Label:  b'negative'\n",
      "Review:  b'A wonderful little production. <br /><br />The fil'\n",
      "Label:  b'positive'\n",
      "Review:  b\"Basically there's a family where a little boy (Jak\"\n",
      "Label:  b'negative'\n"
     ]
    }
   ],
   "source": [
    "for text,label in data.as_numpy_iterator():\n",
    "    print(\"Review: \",text[:50])\n",
    "    print(\"Label: \",label)"
   ]
  },
  {
   "cell_type": "code",
   "execution_count": null,
   "id": "9b02e722-d6d9-4d90-a142-98e51494c24b",
   "metadata": {},
   "outputs": [],
   "source": []
  }
 ],
 "metadata": {
  "kernelspec": {
   "display_name": "Python 3 (ipykernel)",
   "language": "python",
   "name": "python3"
  },
  "language_info": {
   "codemirror_mode": {
    "name": "ipython",
    "version": 3
   },
   "file_extension": ".py",
   "mimetype": "text/x-python",
   "name": "python",
   "nbconvert_exporter": "python",
   "pygments_lexer": "ipython3",
   "version": "3.12.3"
  }
 },
 "nbformat": 4,
 "nbformat_minor": 5
}
