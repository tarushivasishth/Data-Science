{
 "cells": [
  {
   "cell_type": "code",
   "execution_count": 1,
   "id": "b1d58be3-8343-479a-9c85-f609d74f7e0c",
   "metadata": {},
   "outputs": [],
   "source": [
    "import math,copy\n",
    "import numpy as np\n",
    "import matplotlib.pyplot as plt\n",
    "np.set_printoptions(precision = 2)\n",
    "plt.style.use('dark_background')"
   ]
  },
  {
   "cell_type": "code",
   "execution_count": 2,
   "id": "e2cb5824-a8c6-49a8-857e-5f21d826305f",
   "metadata": {},
   "outputs": [],
   "source": [
    "arr = np.array([1,2,3,4])\n",
    "cst = np.zeros_like(arr)"
   ]
  },
  {
   "cell_type": "code",
   "execution_count": 3,
   "id": "231dd1c2-dcd3-40db-8eb9-a738aac3871d",
   "metadata": {},
   "outputs": [
    {
     "data": {
      "text/plain": [
       "array([0, 0, 0, 0])"
      ]
     },
     "execution_count": 3,
     "metadata": {},
     "output_type": "execute_result"
    }
   ],
   "source": [
    "cst"
   ]
  },
  {
   "cell_type": "code",
   "execution_count": 4,
   "id": "9a6d94f7-89ec-4482-b20a-ccb82008d906",
   "metadata": {},
   "outputs": [],
   "source": [
    "X_train = np.array([1.0,2.0])\n",
    "Y_train = np.array([300.0,500.0])"
   ]
  },
  {
   "cell_type": "code",
   "execution_count": 5,
   "id": "291e1318-2c71-42fa-982e-5f11a96feaa9",
   "metadata": {},
   "outputs": [
    {
     "data": {
      "text/plain": [
       "array([  0,   5,  10,  15,  20,  25,  30,  35,  40,  45,  50,  55,  60,\n",
       "        65,  70,  75,  80,  85,  90,  95, 100, 105, 110, 115, 120, 125,\n",
       "       130, 135, 140, 145, 150, 155, 160, 165, 170, 175, 180, 185, 190,\n",
       "       195, 200, 205, 210, 215, 220, 225, 230, 235, 240, 245, 250, 255,\n",
       "       260, 265, 270, 275, 280, 285, 290, 295, 300, 305, 310, 315, 320,\n",
       "       325, 330, 335, 340, 345, 350, 355, 360, 365, 370, 375, 380, 385,\n",
       "       390, 395])"
      ]
     },
     "execution_count": 5,
     "metadata": {},
     "output_type": "execute_result"
    }
   ],
   "source": [
    "w_range = np.array([0,400])\n",
    "tmp_b = 100\n",
    "w_array = np.arange(*w_range,5)\n",
    "w_array"
   ]
  },
  {
   "cell_type": "code",
   "execution_count": 6,
   "id": "a9a10b40-a2ab-4586-bb03-38a25e6ffcb8",
   "metadata": {},
   "outputs": [],
   "source": [
    "from lab_utils_common import compute_cost"
   ]
  },
  {
   "cell_type": "code",
   "execution_count": 7,
   "id": "d6da3888-7b87-4396-a6fb-6d8193f086b7",
   "metadata": {},
   "outputs": [],
   "source": [
    "cost = np.zeros_like(w_array)\n",
    "for i in range(len(w_array)):\n",
    "    tmp_w = w_array[i]\n",
    "    cost[i] = compute_cost(X_train,Y_train,tmp_w,tmp_b)"
   ]
  },
  {
   "cell_type": "code",
   "execution_count": 8,
   "id": "2bb13f38-76dc-46bc-a52d-042aff283689",
   "metadata": {},
   "outputs": [
    {
     "data": {
      "text/plain": [
       "array([50000, 47531, 45125, 42781, 40500, 38281, 36125, 34031, 32000,\n",
       "       30031, 28125, 26281, 24500, 22781, 21125, 19531, 18000, 16531,\n",
       "       15125, 13781, 12500, 11281, 10125,  9031,  8000,  7031,  6125,\n",
       "        5281,  4500,  3781,  3125,  2531,  2000,  1531,  1125,   781,\n",
       "         500,   281,   125,    31,     0,    31,   125,   281,   500,\n",
       "         781,  1125,  1531,  2000,  2531,  3125,  3781,  4500,  5281,\n",
       "        6125,  7031,  8000,  9031, 10125, 11281, 12500, 13781, 15125,\n",
       "       16531, 18000, 19531, 21125, 22781, 24500, 26281, 28125, 30031,\n",
       "       32000, 34031, 36125, 38281, 40500, 42781, 45125, 47531])"
      ]
     },
     "execution_count": 8,
     "metadata": {},
     "output_type": "execute_result"
    }
   ],
   "source": [
    "cost"
   ]
  },
  {
   "cell_type": "code",
   "execution_count": 9,
   "id": "9353fc6a-86d0-4cfa-a3df-c131bdd29e6a",
   "metadata": {},
   "outputs": [],
   "source": [
    "X_train = np.array([[2104,5,1,45],[1416,3,2,40],[852,2,1,35]])\n",
    "y_train = np.array([460,282,178])"
   ]
  },
  {
   "cell_type": "code",
   "execution_count": 10,
   "id": "a01231c8-bd8b-4942-b6c1-eae48c11b55d",
   "metadata": {},
   "outputs": [],
   "source": [
    "b_init = 785.1811367994083\n",
    "w_init = np.array([ 0.39133535, 18.75376741, -53.36032453, -26.42131618])"
   ]
  },
  {
   "cell_type": "code",
   "execution_count": 11,
   "id": "b4cdf138-c62a-4ee1-a082-469f9407d919",
   "metadata": {},
   "outputs": [],
   "source": [
    "def predict_single_loop(X,y,w,b):\n",
    "    n = X.shape[0]\n",
    "    p = 0\n",
    "    for i in range(n):\n",
    "        p += X[i] * w[i]\n",
    "    p += b\n",
    "    return p"
   ]
  },
  {
   "cell_type": "code",
   "execution_count": 12,
   "id": "00be7072-684d-4a4c-9d7c-f7ed14b3f3d6",
   "metadata": {},
   "outputs": [
    {
     "data": {
      "text/plain": [
       "459.9999976194083"
      ]
     },
     "execution_count": 12,
     "metadata": {},
     "output_type": "execute_result"
    }
   ],
   "source": [
    "x_vec = X_train[0]\n",
    "f_wb = predict_single_loop(x_vec,y_train,w_init,b_init)\n",
    "f_wb"
   ]
  },
  {
   "cell_type": "code",
   "execution_count": 13,
   "id": "352b9a54-a773-4aa2-b703-a53e3383a040",
   "metadata": {},
   "outputs": [
    {
     "data": {
      "text/plain": [
       "459.9999976194083"
      ]
     },
     "execution_count": 13,
     "metadata": {},
     "output_type": "execute_result"
    }
   ],
   "source": [
    "x_vec = X_train[0]\n",
    "f_wb = np.dot(x_vec,w_init) + b_init\n",
    "f_wb"
   ]
  },
  {
   "cell_type": "code",
   "execution_count": 14,
   "id": "20627bb8-0589-420e-bb74-093eddd4aeb8",
   "metadata": {},
   "outputs": [],
   "source": [
    "def compute_cost(x,y,w,b):\n",
    "    m = x.shape[0]\n",
    "    cost = 0\n",
    "    for i in range(m):\n",
    "        f_wb_i = np.dot(x[i],w) + b\n",
    "        cost = cost + (f_wb_i - y[i])**2\n",
    "    total_cost = cost / (2 * m)\n",
    "    return total_cost"
   ]
  },
  {
   "cell_type": "code",
   "execution_count": 15,
   "id": "1abdb03f-2a49-4e64-9472-9b4627ead874",
   "metadata": {},
   "outputs": [
    {
     "name": "stdout",
     "output_type": "stream",
     "text": [
      "cost at optimal w: 416.666694\n"
     ]
    }
   ],
   "source": [
    "cost = compute_cost(X_train,y_train,w_init,b_init)\n",
    "print(f\"cost at optimal w: {cost:2f}\")"
   ]
  },
  {
   "cell_type": "code",
   "execution_count": 16,
   "id": "52356b83-6a4d-4f2a-866d-cc89c244be03",
   "metadata": {},
   "outputs": [],
   "source": [
    "def compute_gradient(x,y,w,b):\n",
    "    m,n = x.shape\n",
    "    dj_dw = np.zeros_like(w)\n",
    "    dj_db = 0.\n",
    "    for i in range(m):\n",
    "        f_wb = np.dot(x[i],w) + b\n",
    "        err = f_wb - y[i]\n",
    "        for j in range(n):\n",
    "            dj_dw[j] = dj_dw[j] + (err * x[i,j])\n",
    "        dj_db += err\n",
    "    dj_dw = dj_dw/m\n",
    "    dj_db = dj_db/m\n",
    "    return dj_dw,dj_db"
   ]
  },
  {
   "cell_type": "code",
   "execution_count": 17,
   "id": "c346e016-1035-4b39-bd31-0297688a591f",
   "metadata": {},
   "outputs": [
    {
     "name": "stdout",
     "output_type": "stream",
     "text": [
      "dj_dw: [-23600.      -50.      -33.33   -666.67]\n",
      "dj_db: -16.66666834059178\n"
     ]
    }
   ],
   "source": [
    "tmp_dj_dw,tmp_dj_db = compute_gradient(X_train,y_train,w_init,b_init)\n",
    "print(f\"dj_dw: {tmp_dj_dw}\")\n",
    "print(f\"dj_db: {tmp_dj_db}\")"
   ]
  },
  {
   "cell_type": "code",
   "execution_count": 18,
   "id": "62fd8cff-a904-401e-8102-4d5e181db14b",
   "metadata": {},
   "outputs": [],
   "source": [
    "def gradient_descent(X, y, w_in, b_in, cost_function, gradient_function, alpha, num_iters): \n",
    "    \"\"\"\n",
    "    Performs batch gradient descent to learn w and b. Updates w and b by taking \n",
    "    num_iters gradient steps with learning rate alpha\n",
    "    \n",
    "    Args:\n",
    "      X (ndarray (m,n))   : Data, m examples with n features\n",
    "      y (ndarray (m,))    : target values\n",
    "      w_in (ndarray (n,)) : initial model parameters  \n",
    "      b_in (scalar)       : initial model parameter\n",
    "      cost_function       : function to compute cost\n",
    "      gradient_function   : function to compute the gradient\n",
    "      alpha (float)       : Learning rate\n",
    "      num_iters (int)     : number of iterations to run gradient descent\n",
    "      \n",
    "    Returns:\n",
    "      w (ndarray (n,)) : Updated values of parameters \n",
    "      b (scalar)       : Updated value of parameter \n",
    "      \"\"\"\n",
    "    \n",
    "    # An array to store cost J and w's at each iteration primarily for graphing later\n",
    "    J_history = []\n",
    "    w = np.zeros_like(w_in)  #avoid modifying global w within function\n",
    "    b = b_in\n",
    "    \n",
    "    for i in range(num_iters):\n",
    "\n",
    "        # Calculate the gradient and update the parameters\n",
    "        dj_dw,dj_db = gradient_function(X, y, w, b)   ##None\n",
    "\n",
    "        # Update Parameters using w, b, alpha and gradient\n",
    "        w = w - alpha * dj_dw               ##None\n",
    "        b = b - alpha * dj_db               ##None\n",
    "      \n",
    "        # Save cost J at each iteration\n",
    "        if i<100000:      # prevent resource exhaustion \n",
    "            J_history.append( cost_function(X, y, w, b))\n",
    "\n",
    "        # Print cost every at intervals 10 times or as many iterations if < 10\n",
    "        if i% math.ceil(num_iters / 10) == 0:\n",
    "            print(f\"Iteration {i}: Cost {J_history[-1]}   \")\n",
    "        \n",
    "    return w, b, J_history"
   ]
  },
  {
   "cell_type": "code",
   "execution_count": 19,
   "id": "04afb2f9-d1ed-40a2-80c1-1f0fa8d2b92c",
   "metadata": {},
   "outputs": [
    {
     "name": "stdout",
     "output_type": "stream",
     "text": [
      "Iteration 0: Cost 2105.0878366551265   \n",
      "Iteration 100: Cost 88.81874522742669   \n",
      "Iteration 200: Cost 88.53081395598822   \n",
      "Iteration 300: Cost 88.24542022306088   \n",
      "Iteration 400: Cost 87.96254156151308   \n",
      "Iteration 500: Cost 87.68215570313492   \n",
      "Iteration 600: Cost 87.40424057688176   \n",
      "Iteration 700: Cost 87.12877430712626   \n",
      "Iteration 800: Cost 86.85573521192713   \n",
      "Iteration 900: Cost 86.58510180131645   \n",
      "b,w found by gradient descent: -0.00,[ 0.21  0.   -0.   -0.03] \n",
      "prediction: 446.71, target value: 460\n",
      "prediction: 300.32, target value: 282\n",
      "prediction: 180.36, target value: 178\n"
     ]
    }
   ],
   "source": [
    "initial_w = w_init\n",
    "initial_b = 0.\n",
    "# some gradient descent settings\n",
    "iterations = 1000\n",
    "alpha = 5.0e-7\n",
    "# run gradient descent \n",
    "w_final, b_final, J_hist = gradient_descent(X_train, y_train, initial_w, initial_b,\n",
    "                                                    compute_cost, compute_gradient, \n",
    "                                                    alpha, iterations)\n",
    "print(f\"b,w found by gradient descent: {b_final:0.2f},{w_final} \")\n",
    "m,_ = X_train.shape\n",
    "for i in range(m):\n",
    "    print(f\"prediction: {np.dot(X_train[i], w_final) + b_final:0.2f}, target value: {y_train[i]}\")"
   ]
  },
  {
   "cell_type": "code",
   "execution_count": 20,
   "id": "883b3393-7e77-45b3-b640-707e061171f3",
   "metadata": {},
   "outputs": [
    {
     "data": {
      "image/png": "[encoded data removed]",
      "text/plain": [
       "<Figure size 1200x400 with 2 Axes>"
      ]
     },
     "metadata": {},
     "output_type": "display_data"
    }
   ],
   "source": [
    "fig, (ax1, ax2) = plt.subplots(2, 1, constrained_layout=True, figsize=(12, 4))\n",
    "ax1.plot(J_hist)\n",
    "ax2.plot(100 + np.arange(len(J_hist[100:])), J_hist[100:])\n",
    "ax1.set_title(\"Cost vs. iteration\");  ax2.set_title(\"Cost vs. iteration (tail)\")\n",
    "ax1.set_ylabel('Cost')             ;  ax2.set_ylabel('Cost') \n",
    "ax1.set_xlabel('iteration step')   ;  ax2.set_xlabel('iteration step') \n",
    "plt.show()"
   ]
  },
  {
   "cell_type": "code",
   "execution_count": null,
   "id": "7ae0d00d-90ce-468b-8db6-18d05cf0b4ce",
   "metadata": {},
   "outputs": [],
   "source": []
  }
 ],
 "metadata": {
  "kernelspec": {
   "display_name": "Python 3 (ipykernel)",
   "language": "python",
   "name": "python3"
  },
  "language_info": {
   "codemirror_mode": {
    "name": "ipython",
    "version": 3
   },
   "file_extension": ".py",
   "mimetype": "text/x-python",
   "name": "python",
   "nbconvert_exporter": "python",
   "pygments_lexer": "ipython3",
   "version": "3.11.4"
  }
 },
 "nbformat": 4,
 "nbformat_minor": 5
}
