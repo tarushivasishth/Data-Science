{
 "cells": [
  {
   "cell_type": "code",
   "execution_count": 1,
   "id": "23baffe4-02b5-4407-a8a5-4d725c80d1a3",
   "metadata": {},
   "outputs": [],
   "source": [
    "# !pip install gensim"
   ]
  },
  {
   "cell_type": "code",
   "execution_count": 2,
   "id": "37aedc1f-a021-4ff0-8c0b-d83542588131",
   "metadata": {},
   "outputs": [],
   "source": [
    "# !pip install python-levenshtein"
   ]
  },
  {
   "cell_type": "code",
   "execution_count": 3,
   "id": "8f02610c-b24b-46dc-82b4-d0bbcf509e3e",
   "metadata": {},
   "outputs": [
    {
     "data": {
      "text/html": [
       "<div>\n",
       "<style scoped>\n",
       "    .dataframe tbody tr th:only-of-type {\n",
       "        vertical-align: middle;\n",
       "    }\n",
       "\n",
       "    .dataframe tbody tr th {\n",
       "        vertical-align: top;\n",
       "    }\n",
       "\n",
       "    .dataframe thead th {\n",
       "        text-align: right;\n",
       "    }\n",
       "</style>\n",
       "<table border=\"1\" class=\"dataframe\">\n",
       "  <thead>\n",
       "    <tr style=\"text-align: right;\">\n",
       "      <th></th>\n",
       "      <th>reviewerID</th>\n",
       "      <th>asin</th>\n",
       "      <th>reviewerName</th>\n",
       "      <th>helpful</th>\n",
       "      <th>reviewText</th>\n",
       "      <th>overall</th>\n",
       "      <th>summary</th>\n",
       "      <th>unixReviewTime</th>\n",
       "      <th>reviewTime</th>\n",
       "    </tr>\n",
       "  </thead>\n",
       "  <tbody>\n",
       "    <tr>\n",
       "      <th>0</th>\n",
       "      <td>A30TL5EWN6DFXT</td>\n",
       "      <td>120401325X</td>\n",
       "      <td>christina</td>\n",
       "      <td>[0, 0]</td>\n",
       "      <td>They look good and stick good! I just don't li...</td>\n",
       "      <td>4</td>\n",
       "      <td>Looks Good</td>\n",
       "      <td>1400630400</td>\n",
       "      <td>05 21, 2014</td>\n",
       "    </tr>\n",
       "    <tr>\n",
       "      <th>1</th>\n",
       "      <td>ASY55RVNIL0UD</td>\n",
       "      <td>120401325X</td>\n",
       "      <td>emily l.</td>\n",
       "      <td>[0, 0]</td>\n",
       "      <td>These stickers work like the review says they ...</td>\n",
       "      <td>5</td>\n",
       "      <td>Really great product.</td>\n",
       "      <td>1389657600</td>\n",
       "      <td>01 14, 2014</td>\n",
       "    </tr>\n",
       "    <tr>\n",
       "      <th>2</th>\n",
       "      <td>A2TMXE2AFO7ONB</td>\n",
       "      <td>120401325X</td>\n",
       "      <td>Erica</td>\n",
       "      <td>[0, 0]</td>\n",
       "      <td>These are awesome and make my phone look so st...</td>\n",
       "      <td>5</td>\n",
       "      <td>LOVE LOVE LOVE</td>\n",
       "      <td>1403740800</td>\n",
       "      <td>06 26, 2014</td>\n",
       "    </tr>\n",
       "    <tr>\n",
       "      <th>3</th>\n",
       "      <td>AWJ0WZQYMYFQ4</td>\n",
       "      <td>120401325X</td>\n",
       "      <td>JM</td>\n",
       "      <td>[4, 4]</td>\n",
       "      <td>Item arrived in great time and was in perfect ...</td>\n",
       "      <td>4</td>\n",
       "      <td>Cute!</td>\n",
       "      <td>1382313600</td>\n",
       "      <td>10 21, 2013</td>\n",
       "    </tr>\n",
       "    <tr>\n",
       "      <th>4</th>\n",
       "      <td>ATX7CZYFXI1KW</td>\n",
       "      <td>120401325X</td>\n",
       "      <td>patrice m rogoza</td>\n",
       "      <td>[2, 3]</td>\n",
       "      <td>awesome! stays on, and looks great. can be use...</td>\n",
       "      <td>5</td>\n",
       "      <td>leopard home button sticker for iphone 4s</td>\n",
       "      <td>1359849600</td>\n",
       "      <td>02 3, 2013</td>\n",
       "    </tr>\n",
       "  </tbody>\n",
       "</table>\n",
       "</div>"
      ],
      "text/plain": [
       "       reviewerID        asin      reviewerName helpful  \\\n",
       "0  A30TL5EWN6DFXT  120401325X         christina  [0, 0]   \n",
       "1   ASY55RVNIL0UD  120401325X          emily l.  [0, 0]   \n",
       "2  A2TMXE2AFO7ONB  120401325X             Erica  [0, 0]   \n",
       "3   AWJ0WZQYMYFQ4  120401325X                JM  [4, 4]   \n",
       "4   ATX7CZYFXI1KW  120401325X  patrice m rogoza  [2, 3]   \n",
       "\n",
       "                                          reviewText  overall  \\\n",
       "0  They look good and stick good! I just don't li...        4   \n",
       "1  These stickers work like the review says they ...        5   \n",
       "2  These are awesome and make my phone look so st...        5   \n",
       "3  Item arrived in great time and was in perfect ...        4   \n",
       "4  awesome! stays on, and looks great. can be use...        5   \n",
       "\n",
       "                                     summary  unixReviewTime   reviewTime  \n",
       "0                                 Looks Good      1400630400  05 21, 2014  \n",
       "1                      Really great product.      1389657600  01 14, 2014  \n",
       "2                             LOVE LOVE LOVE      1403740800  06 26, 2014  \n",
       "3                                      Cute!      1382313600  10 21, 2013  \n",
       "4  leopard home button sticker for iphone 4s      1359849600   02 3, 2013  "
      ]
     },
     "execution_count": 3,
     "metadata": {},
     "output_type": "execute_result"
    }
   ],
   "source": [
    "import gensim\n",
    "import pandas as pd\n",
    "\n",
    "df = pd.read_json(r\"Cell_Phones_and_Accessories_5.json\",lines=True) # lines=True means that it reads each line as a json object i.e., 1 line represents 1 json object\n",
    "df.head()"
   ]
  },
  {
   "cell_type": "code",
   "execution_count": 4,
   "id": "0a176894-5122-4c87-9a69-819771e91a7d",
   "metadata": {},
   "outputs": [
    {
     "data": {
      "text/plain": [
       "\"They look good and stick good! I just don't like the rounded shape because I was always bumping it and Siri kept popping up and it was irritating. I just won't buy a product like this again\""
      ]
     },
     "execution_count": 4,
     "metadata": {},
     "output_type": "execute_result"
    }
   ],
   "source": [
    "df.reviewText[0]"
   ]
  },
  {
   "cell_type": "code",
   "execution_count": 5,
   "id": "847c8d36-109e-430a-9ccf-cad7a7fc37ee",
   "metadata": {},
   "outputs": [
    {
     "data": {
      "text/plain": [
       "['they',\n",
       " 'look',\n",
       " 'good',\n",
       " 'and',\n",
       " 'stick',\n",
       " 'good',\n",
       " 'just',\n",
       " 'don',\n",
       " 'like',\n",
       " 'the',\n",
       " 'rounded',\n",
       " 'shape',\n",
       " 'because',\n",
       " 'was',\n",
       " 'always',\n",
       " 'bumping',\n",
       " 'it',\n",
       " 'and',\n",
       " 'siri',\n",
       " 'kept',\n",
       " 'popping',\n",
       " 'up',\n",
       " 'and',\n",
       " 'it',\n",
       " 'was',\n",
       " 'irritating',\n",
       " 'just',\n",
       " 'won',\n",
       " 'buy',\n",
       " 'product',\n",
       " 'like',\n",
       " 'this',\n",
       " 'again']"
      ]
     },
     "execution_count": 5,
     "metadata": {},
     "output_type": "execute_result"
    }
   ],
   "source": [
    "gensim.utils.simple_preprocess(df.reviewText[0])"
   ]
  },
  {
   "cell_type": "markdown",
   "id": "c5fed1ce-0ac4-4b19-9268-7fa2b8ec1ea4",
   "metadata": {},
   "source": [
    "<h2 style=\"color:darkblue;\"> Simple Preprocessing</h2>\n",
    "<p style = \"color: blue;\">It is important for an NLP problem. Text preprocessing involves removing stop wods like to,the,a,an,I,etc., removing punctuation marks, trimming spaces and converting words to lower case.</style>"
   ]
  },
  {
   "cell_type": "code",
   "execution_count": 6,
   "id": "49588d97-0646-4903-a522-4a88fb4f366e",
   "metadata": {},
   "outputs": [
    {
     "data": {
      "text/plain": [
       "(194439, 9)"
      ]
     },
     "execution_count": 6,
     "metadata": {},
     "output_type": "execute_result"
    }
   ],
   "source": [
    "df.shape"
   ]
  },
  {
   "cell_type": "code",
   "execution_count": 7,
   "id": "505b22b8-b6d3-44d6-af96-1963c50d47f9",
   "metadata": {},
   "outputs": [
    {
     "data": {
      "text/plain": [
       "0         [they, look, good, and, stick, good, just, don...\n",
       "1         [these, stickers, work, like, the, review, say...\n",
       "2         [these, are, awesome, and, make, my, phone, lo...\n",
       "3         [item, arrived, in, great, time, and, was, in,...\n",
       "4         [awesome, stays, on, and, looks, great, can, b...\n",
       "                                ...                        \n",
       "194434    [works, great, just, like, my, original, one, ...\n",
       "194435    [great, product, great, packaging, high, quali...\n",
       "194436    [this, is, great, cable, just, as, good, as, t...\n",
       "194437    [really, like, it, becasue, it, works, well, w...\n",
       "194438    [product, as, described, have, wasted, lot, of...\n",
       "Name: reviewText, Length: 194439, dtype: object"
      ]
     },
     "execution_count": 7,
     "metadata": {},
     "output_type": "execute_result"
    }
   ],
   "source": [
    "reviewText = df.reviewText.apply(gensim.utils.simple_preprocess)\n",
    "reviewText"
   ]
  },
  {
   "cell_type": "code",
   "execution_count": 8,
   "id": "dc610de8-92ef-4ffa-b475-230b518bbc27",
   "metadata": {},
   "outputs": [
    {
     "data": {
      "text/plain": [
       "['they',\n",
       " 'look',\n",
       " 'good',\n",
       " 'and',\n",
       " 'stick',\n",
       " 'good',\n",
       " 'just',\n",
       " 'don',\n",
       " 'like',\n",
       " 'the',\n",
       " 'rounded',\n",
       " 'shape',\n",
       " 'because',\n",
       " 'was',\n",
       " 'always',\n",
       " 'bumping',\n",
       " 'it',\n",
       " 'and',\n",
       " 'siri',\n",
       " 'kept',\n",
       " 'popping',\n",
       " 'up',\n",
       " 'and',\n",
       " 'it',\n",
       " 'was',\n",
       " 'irritating',\n",
       " 'just',\n",
       " 'won',\n",
       " 'buy',\n",
       " 'product',\n",
       " 'like',\n",
       " 'this',\n",
       " 'again']"
      ]
     },
     "execution_count": 8,
     "metadata": {},
     "output_type": "execute_result"
    }
   ],
   "source": [
    "reviewText[0]"
   ]
  },
  {
   "cell_type": "markdown",
   "id": "e9f20000-6179-45fc-8602-41b22eb228ce",
   "metadata": {},
   "source": [
    "<h2 style=\"color:darkblue;\">Training the Word2Vec model</h2>"
   ]
  },
  {
   "cell_type": "code",
   "execution_count": 9,
   "id": "ae740b45-490f-4c25-b7da-58cb96bf1985",
   "metadata": {},
   "outputs": [],
   "source": [
    "model = gensim.models.Word2Vec(\n",
    "    window=10, # selecting window size of surrounding words\n",
    "    min_count=2, # there should be minimum 2 words in a statement to apply model\n",
    "    workers=4, # no. of threads working at the same time to run the code\n",
    ")"
   ]
  },
  {
   "cell_type": "code",
   "execution_count": 10,
   "id": "c8bebfc7-ebdc-4f60-a51d-5a88f96fcb07",
   "metadata": {},
   "outputs": [],
   "source": [
    "model.build_vocab(reviewText,progress_per=1000)"
   ]
  },
  {
   "cell_type": "code",
   "execution_count": 12,
   "id": "27f3522f-38f5-4f15-99ac-9ab2313dbdeb",
   "metadata": {},
   "outputs": [
    {
     "data": {
      "text/plain": [
       "5"
      ]
     },
     "execution_count": 12,
     "metadata": {},
     "output_type": "execute_result"
    }
   ],
   "source": [
    "model.epochs"
   ]
  },
  {
   "cell_type": "code",
   "execution_count": 13,
   "id": "7da9be8d-72b1-4bbc-a678-de4a390a4f2d",
   "metadata": {},
   "outputs": [
    {
     "data": {
      "text/plain": [
       "194439"
      ]
     },
     "execution_count": 13,
     "metadata": {},
     "output_type": "execute_result"
    }
   ],
   "source": [
    "model.corpus_count"
   ]
  },
  {
   "cell_type": "code",
   "execution_count": 14,
   "id": "c02e349c-8d91-4e50-9bb6-68522f3d09ff",
   "metadata": {},
   "outputs": [
    {
     "data": {
      "text/plain": [
       "(61512622, 83868975)"
      ]
     },
     "execution_count": 14,
     "metadata": {},
     "output_type": "execute_result"
    }
   ],
   "source": [
    "model.train(reviewText,total_examples=model.corpus_count,epochs=model.epochs)"
   ]
  },
  {
   "cell_type": "code",
   "execution_count": 15,
   "id": "16faa235-c5ad-4f60-83b2-a78b4acfb8f5",
   "metadata": {},
   "outputs": [],
   "source": [
    "model.save(\"./word2vec-amazon-cell-accessories-reviews-short.model\")"
   ]
  },
  {
   "cell_type": "markdown",
   "id": "c510c76c-e3d4-4d29-b73d-2faaeb3baefc",
   "metadata": {},
   "source": [
    "<h2 style=\"color:darkblue;\">Finding similar words and similarity between words</h2>"
   ]
  },
  {
   "cell_type": "code",
   "execution_count": 16,
   "id": "17a39b56-0e38-4b0a-9d80-be5f08033219",
   "metadata": {},
   "outputs": [
    {
     "data": {
      "text/plain": [
       "[('terrible', 0.6558495163917542),\n",
       " ('shabby', 0.6464138627052307),\n",
       " ('good', 0.6000820994377136),\n",
       " ('horrible', 0.5973426103591919),\n",
       " ('awful', 0.5644568800926208),\n",
       " ('legit', 0.5478417873382568),\n",
       " ('mad', 0.5300626158714294),\n",
       " ('disappointing', 0.5297746658325195),\n",
       " ('okay', 0.5265395045280457),\n",
       " ('crappy', 0.5143276453018188)]"
      ]
     },
     "execution_count": 16,
     "metadata": {},
     "output_type": "execute_result"
    }
   ],
   "source": [
    "model.wv.most_similar('bad')"
   ]
  },
  {
   "cell_type": "code",
   "execution_count": 18,
   "id": "e716e7c5-6fd2-4dbb-9401-1379ae3ce4ba",
   "metadata": {},
   "outputs": [
    {
     "data": {
      "text/plain": [
       "0.5315012"
      ]
     },
     "execution_count": 18,
     "metadata": {},
     "output_type": "execute_result"
    }
   ],
   "source": [
    "model.wv.similarity(w1 = 'cheap',w2 = 'inexpensive')"
   ]
  },
  {
   "cell_type": "code",
   "execution_count": 20,
   "id": "973270a9-5dfb-4fab-8cbc-f7f6ea113e1a",
   "metadata": {},
   "outputs": [
    {
     "data": {
      "text/plain": [
       "0.76794505"
      ]
     },
     "execution_count": 20,
     "metadata": {},
     "output_type": "execute_result"
    }
   ],
   "source": [
    "model.wv.similarity(w1='good',w2='great')"
   ]
  },
  {
   "cell_type": "markdown",
   "id": "186be118-848f-457f-b7e6-af865bb4a54b",
   "metadata": {},
   "source": [
    "<h3>Further Reading</h3>\n",
    "<p>You can read about gensim more at https://radimrehurek.com/gensim/models/word2vec.html</p>\n",
    "\n",
    "<p>Explore other Datasets related to Amazon Reviews: http://jmcauley.ucsd.edu/data/amazon/</p>"
   ]
  },
  {
   "cell_type": "markdown",
   "id": "bec272d0-cfe6-4a8e-9029-cdf415ed184a",
   "metadata": {},
   "source": [
    "<h1>Excercise</h1>"
   ]
  },
  {
   "cell_type": "code",
   "execution_count": 23,
   "id": "b11bf859-c46c-4a2e-aece-f56386231217",
   "metadata": {},
   "outputs": [
    {
     "data": {
      "text/html": [
       "<div>\n",
       "<style scoped>\n",
       "    .dataframe tbody tr th:only-of-type {\n",
       "        vertical-align: middle;\n",
       "    }\n",
       "\n",
       "    .dataframe tbody tr th {\n",
       "        vertical-align: top;\n",
       "    }\n",
       "\n",
       "    .dataframe thead th {\n",
       "        text-align: right;\n",
       "    }\n",
       "</style>\n",
       "<table border=\"1\" class=\"dataframe\">\n",
       "  <thead>\n",
       "    <tr style=\"text-align: right;\">\n",
       "      <th></th>\n",
       "      <th>reviewerID</th>\n",
       "      <th>asin</th>\n",
       "      <th>reviewerName</th>\n",
       "      <th>helpful</th>\n",
       "      <th>reviewText</th>\n",
       "      <th>overall</th>\n",
       "      <th>summary</th>\n",
       "      <th>unixReviewTime</th>\n",
       "      <th>reviewTime</th>\n",
       "    </tr>\n",
       "  </thead>\n",
       "  <tbody>\n",
       "    <tr>\n",
       "      <th>0</th>\n",
       "      <td>AIXZKN4ACSKI</td>\n",
       "      <td>1881509818</td>\n",
       "      <td>David Briner</td>\n",
       "      <td>[0, 0]</td>\n",
       "      <td>This came in on time and I am veru happy with ...</td>\n",
       "      <td>5</td>\n",
       "      <td>Woks very good</td>\n",
       "      <td>1390694400</td>\n",
       "      <td>01 26, 2014</td>\n",
       "    </tr>\n",
       "    <tr>\n",
       "      <th>1</th>\n",
       "      <td>A1L5P841VIO02V</td>\n",
       "      <td>1881509818</td>\n",
       "      <td>Jason A. Kramer</td>\n",
       "      <td>[1, 1]</td>\n",
       "      <td>I had a factory Glock tool that I was using fo...</td>\n",
       "      <td>5</td>\n",
       "      <td>Works as well as the factory tool</td>\n",
       "      <td>1328140800</td>\n",
       "      <td>02 2, 2012</td>\n",
       "    </tr>\n",
       "    <tr>\n",
       "      <th>2</th>\n",
       "      <td>AB2W04NI4OEAD</td>\n",
       "      <td>1881509818</td>\n",
       "      <td>J. Fernald</td>\n",
       "      <td>[2, 2]</td>\n",
       "      <td>If you don't have a 3/32 punch or would like t...</td>\n",
       "      <td>4</td>\n",
       "      <td>It's a punch, that's all.</td>\n",
       "      <td>1330387200</td>\n",
       "      <td>02 28, 2012</td>\n",
       "    </tr>\n",
       "    <tr>\n",
       "      <th>3</th>\n",
       "      <td>A148SVSWKTJKU6</td>\n",
       "      <td>1881509818</td>\n",
       "      <td>Jusitn A. Watts \"Maverick9614\"</td>\n",
       "      <td>[0, 0]</td>\n",
       "      <td>This works no better than any 3/32 punch you w...</td>\n",
       "      <td>4</td>\n",
       "      <td>It's a punch with a Glock logo.</td>\n",
       "      <td>1328400000</td>\n",
       "      <td>02 5, 2012</td>\n",
       "    </tr>\n",
       "    <tr>\n",
       "      <th>4</th>\n",
       "      <td>AAAWJ6LW9WMOO</td>\n",
       "      <td>1881509818</td>\n",
       "      <td>Material Man</td>\n",
       "      <td>[0, 0]</td>\n",
       "      <td>I purchased this thinking maybe I need a speci...</td>\n",
       "      <td>4</td>\n",
       "      <td>Ok,tool does what a regular punch does.</td>\n",
       "      <td>1366675200</td>\n",
       "      <td>04 23, 2013</td>\n",
       "    </tr>\n",
       "    <tr>\n",
       "      <th>...</th>\n",
       "      <td>...</td>\n",
       "      <td>...</td>\n",
       "      <td>...</td>\n",
       "      <td>...</td>\n",
       "      <td>...</td>\n",
       "      <td>...</td>\n",
       "      <td>...</td>\n",
       "      <td>...</td>\n",
       "      <td>...</td>\n",
       "    </tr>\n",
       "    <tr>\n",
       "      <th>296332</th>\n",
       "      <td>A2XX2A4OJCDNLZ</td>\n",
       "      <td>B00LFPS0CY</td>\n",
       "      <td>RatherLiveInKeyWest</td>\n",
       "      <td>[2, 3]</td>\n",
       "      <td>This is a water bottle done right. It is a ver...</td>\n",
       "      <td>5</td>\n",
       "      <td>Hydracentials Sporty 25 Oz Stainless Steel Wat...</td>\n",
       "      <td>1405036800</td>\n",
       "      <td>07 11, 2014</td>\n",
       "    </tr>\n",
       "    <tr>\n",
       "      <th>296333</th>\n",
       "      <td>A3LGT6UZL99IW1</td>\n",
       "      <td>B00LFPS0CY</td>\n",
       "      <td>Richard C. Drew \"Anaal Nathra/Uthe vas Bethod...</td>\n",
       "      <td>[0, 0]</td>\n",
       "      <td>If you're looking for an insulated water bottl...</td>\n",
       "      <td>5</td>\n",
       "      <td>Large, incredibly well made water bottle!</td>\n",
       "      <td>1405641600</td>\n",
       "      <td>07 18, 2014</td>\n",
       "    </tr>\n",
       "    <tr>\n",
       "      <th>296334</th>\n",
       "      <td>ASKZO80Z1RKTR</td>\n",
       "      <td>B00LFPS0CY</td>\n",
       "      <td>Robin Lee</td>\n",
       "      <td>[0, 0]</td>\n",
       "      <td>This Hydracentials Sporty 25 OZ, double insula...</td>\n",
       "      <td>5</td>\n",
       "      <td>\"Great Water Bottle For Hot Day\"......</td>\n",
       "      <td>1405900800</td>\n",
       "      <td>07 21, 2014</td>\n",
       "    </tr>\n",
       "    <tr>\n",
       "      <th>296335</th>\n",
       "      <td>APRNS6DB68LLV</td>\n",
       "      <td>B00LFPS0CY</td>\n",
       "      <td>Rob Slaven \"slavenrm@gmail. com\"</td>\n",
       "      <td>[1, 1]</td>\n",
       "      <td>As usual I received this item free in exchange...</td>\n",
       "      <td>5</td>\n",
       "      <td>A pretty impressive water bottle.  Best I've s...</td>\n",
       "      <td>1405900800</td>\n",
       "      <td>07 21, 2014</td>\n",
       "    </tr>\n",
       "    <tr>\n",
       "      <th>296336</th>\n",
       "      <td>A3UJRNI8UR4871</td>\n",
       "      <td>B00LFPS0CY</td>\n",
       "      <td>Wulfstan \"wulfstan\"</td>\n",
       "      <td>[2, 2]</td>\n",
       "      <td>Hydracentials insulated 25 oz water bottle.Thi...</td>\n",
       "      <td>5</td>\n",
       "      <td>\"Cool\" Bottle!</td>\n",
       "      <td>1405382400</td>\n",
       "      <td>07 15, 2014</td>\n",
       "    </tr>\n",
       "  </tbody>\n",
       "</table>\n",
       "<p>296337 rows × 9 columns</p>\n",
       "</div>"
      ],
      "text/plain": [
       "            reviewerID        asin  \\\n",
       "0         AIXZKN4ACSKI  1881509818   \n",
       "1       A1L5P841VIO02V  1881509818   \n",
       "2        AB2W04NI4OEAD  1881509818   \n",
       "3       A148SVSWKTJKU6  1881509818   \n",
       "4        AAAWJ6LW9WMOO  1881509818   \n",
       "...                ...         ...   \n",
       "296332  A2XX2A4OJCDNLZ  B00LFPS0CY   \n",
       "296333  A3LGT6UZL99IW1  B00LFPS0CY   \n",
       "296334   ASKZO80Z1RKTR  B00LFPS0CY   \n",
       "296335   APRNS6DB68LLV  B00LFPS0CY   \n",
       "296336  A3UJRNI8UR4871  B00LFPS0CY   \n",
       "\n",
       "                                            reviewerName helpful  \\\n",
       "0                                           David Briner  [0, 0]   \n",
       "1                                        Jason A. Kramer  [1, 1]   \n",
       "2                                             J. Fernald  [2, 2]   \n",
       "3                         Jusitn A. Watts \"Maverick9614\"  [0, 0]   \n",
       "4                                           Material Man  [0, 0]   \n",
       "...                                                  ...     ...   \n",
       "296332                               RatherLiveInKeyWest  [2, 3]   \n",
       "296333  Richard C. Drew \"Anaal Nathra/Uthe vas Bethod...  [0, 0]   \n",
       "296334                                         Robin Lee  [0, 0]   \n",
       "296335                  Rob Slaven \"slavenrm@gmail. com\"  [1, 1]   \n",
       "296336                               Wulfstan \"wulfstan\"  [2, 2]   \n",
       "\n",
       "                                               reviewText  overall  \\\n",
       "0       This came in on time and I am veru happy with ...        5   \n",
       "1       I had a factory Glock tool that I was using fo...        5   \n",
       "2       If you don't have a 3/32 punch or would like t...        4   \n",
       "3       This works no better than any 3/32 punch you w...        4   \n",
       "4       I purchased this thinking maybe I need a speci...        4   \n",
       "...                                                   ...      ...   \n",
       "296332  This is a water bottle done right. It is a ver...        5   \n",
       "296333  If you're looking for an insulated water bottl...        5   \n",
       "296334  This Hydracentials Sporty 25 OZ, double insula...        5   \n",
       "296335  As usual I received this item free in exchange...        5   \n",
       "296336  Hydracentials insulated 25 oz water bottle.Thi...        5   \n",
       "\n",
       "                                                  summary  unixReviewTime  \\\n",
       "0                                          Woks very good      1390694400   \n",
       "1                       Works as well as the factory tool      1328140800   \n",
       "2                               It's a punch, that's all.      1330387200   \n",
       "3                         It's a punch with a Glock logo.      1328400000   \n",
       "4                 Ok,tool does what a regular punch does.      1366675200   \n",
       "...                                                   ...             ...   \n",
       "296332  Hydracentials Sporty 25 Oz Stainless Steel Wat...      1405036800   \n",
       "296333          Large, incredibly well made water bottle!      1405641600   \n",
       "296334             \"Great Water Bottle For Hot Day\"......      1405900800   \n",
       "296335  A pretty impressive water bottle.  Best I've s...      1405900800   \n",
       "296336                                     \"Cool\" Bottle!      1405382400   \n",
       "\n",
       "         reviewTime  \n",
       "0       01 26, 2014  \n",
       "1        02 2, 2012  \n",
       "2       02 28, 2012  \n",
       "3        02 5, 2012  \n",
       "4       04 23, 2013  \n",
       "...             ...  \n",
       "296332  07 11, 2014  \n",
       "296333  07 18, 2014  \n",
       "296334  07 21, 2014  \n",
       "296335  07 21, 2014  \n",
       "296336  07 15, 2014  \n",
       "\n",
       "[296337 rows x 9 columns]"
      ]
     },
     "execution_count": 23,
     "metadata": {},
     "output_type": "execute_result"
    }
   ],
   "source": [
    "data = pd.read_json(r\"Sports_and_Outdoors_5.json\",lines=True)\n",
    "data"
   ]
  },
  {
   "cell_type": "code",
   "execution_count": 25,
   "id": "3cbe85a2-512c-480d-961e-837abaa96a5f",
   "metadata": {},
   "outputs": [
    {
     "data": {
      "text/plain": [
       "'This came in on time and I am veru happy with it, I haved used it already and it makes taking out the pins in my glock 32 very easy'"
      ]
     },
     "execution_count": 25,
     "metadata": {},
     "output_type": "execute_result"
    }
   ],
   "source": [
    "data.reviewText[0]"
   ]
  },
  {
   "cell_type": "code",
   "execution_count": 26,
   "id": "1b63b68b-00ef-4e1f-a0ef-25b9b4cdbe12",
   "metadata": {},
   "outputs": [
    {
     "data": {
      "text/plain": [
       "['this',\n",
       " 'came',\n",
       " 'in',\n",
       " 'on',\n",
       " 'time',\n",
       " 'and',\n",
       " 'am',\n",
       " 'veru',\n",
       " 'happy',\n",
       " 'with',\n",
       " 'it',\n",
       " 'haved',\n",
       " 'used',\n",
       " 'it',\n",
       " 'already',\n",
       " 'and',\n",
       " 'it',\n",
       " 'makes',\n",
       " 'taking',\n",
       " 'out',\n",
       " 'the',\n",
       " 'pins',\n",
       " 'in',\n",
       " 'my',\n",
       " 'glock',\n",
       " 'very',\n",
       " 'easy']"
      ]
     },
     "execution_count": 26,
     "metadata": {},
     "output_type": "execute_result"
    }
   ],
   "source": [
    "gensim.utils.simple_preprocess(data.reviewText[0])"
   ]
  },
  {
   "cell_type": "code",
   "execution_count": 28,
   "id": "5be1e171-f767-4ccc-bad4-9c0ec4634de0",
   "metadata": {},
   "outputs": [
    {
     "data": {
      "text/plain": [
       "0         [this, came, in, on, time, and, am, veru, happ...\n",
       "1         [had, factory, glock, tool, that, was, using, ...\n",
       "2         [if, you, don, have, punch, or, would, like, t...\n",
       "3         [this, works, no, better, than, any, punch, yo...\n",
       "4         [purchased, this, thinking, maybe, need, speci...\n",
       "                                ...                        \n",
       "296332    [this, is, water, bottle, done, right, it, is,...\n",
       "296333    [if, you, re, looking, for, an, insulated, wat...\n",
       "296334    [this, hydracentials, sporty, oz, double, insu...\n",
       "296335    [as, usual, received, this, item, free, in, ex...\n",
       "296336    [hydracentials, insulated, oz, water, bottle, ...\n",
       "Name: reviewText, Length: 296337, dtype: object"
      ]
     },
     "execution_count": 28,
     "metadata": {},
     "output_type": "execute_result"
    }
   ],
   "source": [
    "reviewText_1 = data.reviewText.apply(gensim.utils.simple_preprocess)\n",
    "reviewText_1"
   ]
  },
  {
   "cell_type": "code",
   "execution_count": 29,
   "id": "574a13fb-b195-41e9-a503-32efdfb98b14",
   "metadata": {},
   "outputs": [],
   "source": [
    "model = gensim.models.Word2Vec(\n",
    "    window=10,\n",
    "    min_count=2,\n",
    "    workers=4\n",
    ")"
   ]
  },
  {
   "cell_type": "code",
   "execution_count": 30,
   "id": "e299e8bc-5ac4-46ae-a805-e29ac19de910",
   "metadata": {},
   "outputs": [],
   "source": [
    "model.build_vocab(reviewText,progress_per=100)"
   ]
  },
  {
   "cell_type": "code",
   "execution_count": 31,
   "id": "35484c2a-b20e-4f1b-8b41-dd0f41c1fc2b",
   "metadata": {},
   "outputs": [
    {
     "data": {
      "text/plain": [
       "194439"
      ]
     },
     "execution_count": 31,
     "metadata": {},
     "output_type": "execute_result"
    }
   ],
   "source": [
    "model.corpus_count"
   ]
  },
  {
   "cell_type": "code",
   "execution_count": 32,
   "id": "aaa51f02-93c0-4f9a-82ad-59cd63cff713",
   "metadata": {},
   "outputs": [
    {
     "data": {
      "text/plain": [
       "5"
      ]
     },
     "execution_count": 32,
     "metadata": {},
     "output_type": "execute_result"
    }
   ],
   "source": [
    "model.epochs"
   ]
  },
  {
   "cell_type": "code",
   "execution_count": 33,
   "id": "4b17cf5f-9f7b-4f7c-9d2e-e911639a3c4a",
   "metadata": {},
   "outputs": [
    {
     "data": {
      "text/plain": [
       "(61503612, 83868975)"
      ]
     },
     "execution_count": 33,
     "metadata": {},
     "output_type": "execute_result"
    }
   ],
   "source": [
    "model.train(reviewText,total_examples=model.corpus_count,epochs=model.epochs)"
   ]
  },
  {
   "cell_type": "code",
   "execution_count": 34,
   "id": "258757ae-0937-44e3-aed9-812086df1007",
   "metadata": {},
   "outputs": [],
   "source": [
    "model.save('./Sports_and_Outdoors_5.model')"
   ]
  },
  {
   "cell_type": "code",
   "execution_count": 35,
   "id": "e090d9c7-fdc7-41b5-817e-168fdc4b20b1",
   "metadata": {},
   "outputs": [
    {
     "data": {
      "text/plain": [
       "[('horrible', 0.8219799995422363),\n",
       " ('terrible', 0.8087835311889648),\n",
       " ('crappy', 0.60399329662323),\n",
       " ('poor', 0.5983189344406128),\n",
       " ('atrocious', 0.571763813495636),\n",
       " ('amazing', 0.5637309551239014),\n",
       " ('pathetic', 0.549805760383606),\n",
       " ('mediocre', 0.5488786697387695),\n",
       " ('bad', 0.5483220815658569),\n",
       " ('horrendous', 0.5478130578994751)]"
      ]
     },
     "execution_count": 35,
     "metadata": {},
     "output_type": "execute_result"
    }
   ],
   "source": [
    "model.wv.most_similar('awful')"
   ]
  },
  {
   "cell_type": "code",
   "execution_count": 36,
   "id": "24f92fe5-721e-4205-ba39-eee0186b10ec",
   "metadata": {},
   "outputs": [
    {
     "data": {
      "text/plain": [
       "0.7827706"
      ]
     },
     "execution_count": 36,
     "metadata": {},
     "output_type": "execute_result"
    }
   ],
   "source": [
    "model.wv.similarity(w1='good',w2='great')"
   ]
  },
  {
   "cell_type": "code",
   "execution_count": 37,
   "id": "5516dad6-6990-4678-81d7-10cc88828417",
   "metadata": {},
   "outputs": [
    {
     "data": {
      "text/plain": [
       "0.15797198"
      ]
     },
     "execution_count": 37,
     "metadata": {},
     "output_type": "execute_result"
    }
   ],
   "source": [
    "model.wv.similarity(w1='slow',w2='steady')"
   ]
  },
  {
   "cell_type": "code",
   "execution_count": null,
   "id": "17225e07-12bc-4132-812f-1c30313890d7",
   "metadata": {},
   "outputs": [],
   "source": []
  }
 ],
 "metadata": {
  "kernelspec": {
   "display_name": "Python 3 (ipykernel)",
   "language": "python",
   "name": "python3"
  },
  "language_info": {
   "codemirror_mode": {
    "name": "ipython",
    "version": 3
   },
   "file_extension": ".py",
   "mimetype": "text/x-python",
   "name": "python",
   "nbconvert_exporter": "python",
   "pygments_lexer": "ipython3",
   "version": "3.9.20"
  }
 },
 "nbformat": 4,
 "nbformat_minor": 5
}
