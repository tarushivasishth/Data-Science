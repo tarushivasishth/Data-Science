{
 "cells": [
  {
   "cell_type": "code",
   "execution_count": 13,
   "id": "a478c3d2-9233-4426-819f-1e5d52e9df2f",
   "metadata": {},
   "outputs": [],
   "source": [
    "import tensorflow as tf"
   ]
  },
  {
   "cell_type": "code",
   "execution_count": 14,
   "id": "c4924173-5e91-4bfe-be70-a8f48cfd72be",
   "metadata": {},
   "outputs": [
    {
     "data": {
      "text/plain": [
       "'2.10.0'"
      ]
     },
     "execution_count": 14,
     "metadata": {},
     "output_type": "execute_result"
    }
   ],
   "source": [
    "tf.__version__"
   ]
  },
  {
   "cell_type": "code",
   "execution_count": 15,
   "id": "c51e12d3-98be-4093-85b9-c97ddae6f177",
   "metadata": {},
   "outputs": [],
   "source": [
    "class FileDataset(tf.data.Dataset):\n",
    "    def read_files_in_batches(num_samples):\n",
    "        # open file\n",
    "        time.sleep(0.03) # opening file time\n",
    "        for sample_idx in range(num_samples):\n",
    "            time.sleep(0.015) # reading file time\n",
    "            yield (sample_idx,) # python generator that does not save the entire data in the the memory but saves only the useful part and generates one value at a time\n",
    "\n",
    "    def __new__(cls,num_samples=3):\n",
    "        return tf.data.Dataset.from_generator(\n",
    "            cls.read_files_in_batches,\n",
    "            output_signature=tf.TensorSpec(shape = (1,), dtype = tf.int64),\n",
    "            args=(num_samples,)\n",
    "        )   "
   ]
  },
  {
   "cell_type": "code",
   "execution_count": 16,
   "id": "a0abfc06-0ff6-4745-977e-f383c26b6d24",
   "metadata": {},
   "outputs": [],
   "source": [
    "def benchmark(dataset,num_epochs=2):\n",
    "    for epoch in range(num_epochs):\n",
    "        for sample in dataset:\n",
    "            time.sleep(0.01) # training time"
   ]
  },
  {
   "cell_type": "code",
   "execution_count": 17,
   "id": "aeb7e319-b097-406c-8f19-0f55424fffbb",
   "metadata": {},
   "outputs": [],
   "source": [
    "import time\n",
    "import timeit"
   ]
  },
  {
   "cell_type": "code",
   "execution_count": 18,
   "id": "f5190fd6-8b1d-4c50-b65e-3f28c13b7b02",
   "metadata": {},
   "outputs": [
    {
     "name": "stdout",
     "output_type": "stream",
     "text": [
      "403 ms ± 12.3 ms per loop (mean ± std. dev. of 7 runs, 1 loop each)\n"
     ]
    }
   ],
   "source": [
    "%%timeit\n",
    "benchmark(FileDataset())"
   ]
  },
  {
   "cell_type": "markdown",
   "id": "c2418e92-97bf-4682-bafd-310263f9b4d1",
   "metadata": {},
   "source": [
    "<h3>Prefetch API</h3>"
   ]
  },
  {
   "cell_type": "code",
   "execution_count": 19,
   "id": "5cd4af36-41f5-41a1-a1ed-a969a41da5b8",
   "metadata": {},
   "outputs": [
    {
     "name": "stdout",
     "output_type": "stream",
     "text": [
      "377 ms ± 14.5 ms per loop (mean ± std. dev. of 7 runs, 1 loop each)\n"
     ]
    }
   ],
   "source": [
    "%%timeit\n",
    "benchmark(FileDataset().prefetch(1))"
   ]
  },
  {
   "cell_type": "code",
   "execution_count": 21,
   "id": "8a7c2868-5ae0-4805-94e6-029b056a3c5f",
   "metadata": {},
   "outputs": [
    {
     "name": "stdout",
     "output_type": "stream",
     "text": [
      "372 ms ± 20.7 ms per loop (mean ± std. dev. of 7 runs, 1 loop each)\n"
     ]
    }
   ],
   "source": [
    "%%timeit\n",
    "benchmark(FileDataset().prefetch(tf.data.AUTOTUNE))"
   ]
  },
  {
   "cell_type": "markdown",
   "id": "13d7506b-5505-4848-ac53-9f1540c4b220",
   "metadata": {},
   "source": [
    "<h3>Cache API</h3>"
   ]
  },
  {
   "cell_type": "code",
   "execution_count": 24,
   "id": "0c048f82-3789-45e8-a326-c92f8256138b",
   "metadata": {},
   "outputs": [
    {
     "name": "stdout",
     "output_type": "stream",
     "text": [
      "0\n",
      "1\n",
      "2\n",
      "3\n",
      "4\n"
     ]
    }
   ],
   "source": [
    "dataset = tf.data.Dataset.range(5)\n",
    "\n",
    "for d in dataset:\n",
    "    print(d.numpy())"
   ]
  },
  {
   "cell_type": "code",
   "execution_count": 25,
   "id": "a0a4d7db-5457-4cd0-a2ae-472be480bef6",
   "metadata": {},
   "outputs": [
    {
     "data": {
      "text/plain": [
       "[0, 1, 4, 9, 16]"
      ]
     },
     "execution_count": 25,
     "metadata": {},
     "output_type": "execute_result"
    }
   ],
   "source": [
    "dataset = dataset.map(lambda x: x**2)\n",
    "\n",
    "list(dataset.as_numpy_iterator())"
   ]
  },
  {
   "cell_type": "code",
   "execution_count": 27,
   "id": "df1910ea-260c-47f7-b492-a96a417771d2",
   "metadata": {},
   "outputs": [
    {
     "data": {
      "text/plain": [
       "[0, 1, 4, 9, 16]"
      ]
     },
     "execution_count": 27,
     "metadata": {},
     "output_type": "execute_result"
    }
   ],
   "source": [
    "dataset = dataset.cache()\n",
    "# if we don't put this in cache then everytime we call the datset.as_numpy_iterator() function, it has to map to find the square of each number\n",
    "list(dataset.as_numpy_iterator())"
   ]
  },
  {
   "cell_type": "code",
   "execution_count": 30,
   "id": "b4f75c1e-c9bc-4469-9f45-81a15e2a39b2",
   "metadata": {},
   "outputs": [],
   "source": [
    "# applying map function to our original FileDataset\n",
    "def mapped_function(s): # this function is introducing some delay\n",
    "    tf.py_function(lambda: time.sleep(0.03), [], ())\n",
    "    return s"
   ]
  },
  {
   "cell_type": "code",
   "execution_count": 31,
   "id": "8f7106bf-2e3e-41a5-9f75-aebdbcc6053f",
   "metadata": {},
   "outputs": [
    {
     "name": "stdout",
     "output_type": "stream",
     "text": [
      "1.72 s ± 38.4 ms per loop (mean ± std. dev. of 7 runs, 1 loop each)\n"
     ]
    }
   ],
   "source": [
    "%%timeit\n",
    "benchmark(FileDataset().map(mapped_function),5)"
   ]
  },
  {
   "cell_type": "code",
   "execution_count": 34,
   "id": "2b42b483-dd4a-413c-9f5c-bf4827ba0d35",
   "metadata": {},
   "outputs": [
    {
     "name": "stdout",
     "output_type": "stream",
     "text": [
      "626 ms ± 28.3 ms per loop (mean ± std. dev. of 7 runs, 1 loop each)\n"
     ]
    }
   ],
   "source": [
    "%%timeit\n",
    "benchmark(FileDataset().map(mapped_function).cache(),5)\n",
    "# after introducing cache, it takes less than half the original time.\n",
    "# for each epoch, the mapping is done only for one epoch and not for each subsequent epoch as it is cached so it saves time."
   ]
  },
  {
   "cell_type": "code",
   "execution_count": null,
   "id": "ed3d5efc-7406-48d3-8e74-47984a3628fb",
   "metadata": {},
   "outputs": [],
   "source": []
  }
 ],
 "metadata": {
  "kernelspec": {
   "display_name": "Python 3 (ipykernel)",
   "language": "python",
   "name": "python3"
  },
  "language_info": {
   "codemirror_mode": {
    "name": "ipython",
    "version": 3
   },
   "file_extension": ".py",
   "mimetype": "text/x-python",
   "name": "python",
   "nbconvert_exporter": "python",
   "pygments_lexer": "ipython3",
   "version": "3.9.20"
  }
 },
 "nbformat": 4,
 "nbformat_minor": 5
}
