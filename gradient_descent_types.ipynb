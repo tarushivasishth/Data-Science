{
 "cells": [
  {
   "cell_type": "code",
   "execution_count": 1,
   "id": "2bf4a9cb-057c-4d93-82e1-a05c21e72585",
   "metadata": {},
   "outputs": [],
   "source": [
    "import numpy as np\n",
    "import pandas as pd\n",
    "import matplotlib.pyplot as plt"
   ]
  },
  {
   "cell_type": "code",
   "execution_count": 3,
   "id": "22ddfb8d-a7ca-4da4-be3f-f554b0875d1d",
   "metadata": {},
   "outputs": [
    {
     "data": {
      "text/html": [
       "<div>\n",
       "<style scoped>\n",
       "    .dataframe tbody tr th:only-of-type {\n",
       "        vertical-align: middle;\n",
       "    }\n",
       "\n",
       "    .dataframe tbody tr th {\n",
       "        vertical-align: top;\n",
       "    }\n",
       "\n",
       "    .dataframe thead th {\n",
       "        text-align: right;\n",
       "    }\n",
       "</style>\n",
       "<table border=\"1\" class=\"dataframe\">\n",
       "  <thead>\n",
       "    <tr style=\"text-align: right;\">\n",
       "      <th></th>\n",
       "      <th>area</th>\n",
       "      <th>bedrooms</th>\n",
       "      <th>price</th>\n",
       "    </tr>\n",
       "  </thead>\n",
       "  <tbody>\n",
       "    <tr>\n",
       "      <th>0</th>\n",
       "      <td>1056</td>\n",
       "      <td>2</td>\n",
       "      <td>39.07</td>\n",
       "    </tr>\n",
       "    <tr>\n",
       "      <th>1</th>\n",
       "      <td>2600</td>\n",
       "      <td>4</td>\n",
       "      <td>120.00</td>\n",
       "    </tr>\n",
       "    <tr>\n",
       "      <th>2</th>\n",
       "      <td>1440</td>\n",
       "      <td>3</td>\n",
       "      <td>62.00</td>\n",
       "    </tr>\n",
       "    <tr>\n",
       "      <th>3</th>\n",
       "      <td>1521</td>\n",
       "      <td>3</td>\n",
       "      <td>75.00</td>\n",
       "    </tr>\n",
       "    <tr>\n",
       "      <th>4</th>\n",
       "      <td>1200</td>\n",
       "      <td>2</td>\n",
       "      <td>51.00</td>\n",
       "    </tr>\n",
       "  </tbody>\n",
       "</table>\n",
       "</div>"
      ],
      "text/plain": [
       "   area  bedrooms   price\n",
       "0  1056         2   39.07\n",
       "1  2600         4  120.00\n",
       "2  1440         3   62.00\n",
       "3  1521         3   75.00\n",
       "4  1200         2   51.00"
      ]
     },
     "execution_count": 3,
     "metadata": {},
     "output_type": "execute_result"
    }
   ],
   "source": [
    "df = pd.read_csv(r\"C:\\Users\\DeveshNarain\\deep_learning_codebasics\\datasets\\homeprices_banglore.csv\")\n",
    "df.head()"
   ]
  },
  {
   "cell_type": "code",
   "execution_count": 4,
   "id": "a074783b-62d1-446b-8a0f-88ef43eeedc5",
   "metadata": {},
   "outputs": [],
   "source": [
    "X = df.drop([\"price\"],axis=1)\n",
    "y = df[\"price\"]"
   ]
  },
  {
   "cell_type": "code",
   "execution_count": 14,
   "id": "d2d4d619-ef15-4422-919d-7b38a9960a7a",
   "metadata": {},
   "outputs": [
    {
     "data": {
      "text/plain": [
       "(array([[0.08827586, 0.25      ],\n",
       "        [0.62068966, 0.75      ],\n",
       "        [0.22068966, 0.5       ],\n",
       "        [0.24862069, 0.5       ],\n",
       "        [0.13793103, 0.25      ],\n",
       "        [0.12758621, 0.25      ],\n",
       "        [0.6662069 , 0.75      ],\n",
       "        [0.86206897, 0.75      ],\n",
       "        [0.17586207, 0.5       ],\n",
       "        [1.        , 1.        ],\n",
       "        [0.34482759, 0.5       ],\n",
       "        [0.68448276, 0.75      ],\n",
       "        [0.06896552, 0.25      ],\n",
       "        [0.10344828, 0.25      ],\n",
       "        [0.5       , 0.5       ],\n",
       "        [0.12931034, 0.25      ],\n",
       "        [0.13103448, 0.5       ],\n",
       "        [0.25517241, 0.5       ],\n",
       "        [0.67931034, 0.5       ],\n",
       "        [0.        , 0.        ]]),\n",
       " array([[0.05237037],\n",
       "        [0.65185185],\n",
       "        [0.22222222],\n",
       "        [0.31851852],\n",
       "        [0.14074074],\n",
       "        [0.04444444],\n",
       "        [0.76296296],\n",
       "        [0.91111111],\n",
       "        [0.13333333],\n",
       "        [1.        ],\n",
       "        [0.37037037],\n",
       "        [0.8       ],\n",
       "        [0.04444444],\n",
       "        [0.05925926],\n",
       "        [0.51111111],\n",
       "        [0.07407407],\n",
       "        [0.11851852],\n",
       "        [0.20740741],\n",
       "        [0.51851852],\n",
       "        [0.        ]]))"
      ]
     },
     "execution_count": 14,
     "metadata": {},
     "output_type": "execute_result"
    }
   ],
   "source": [
    "from sklearn.preprocessing import MinMaxScaler\n",
    "sx = MinMaxScaler()\n",
    "sy = MinMaxScaler()\n",
    "\n",
    "scaled_X = sx.fit_transform(X)\n",
    "scaled_y = sy.fit_transform(y.values.reshape(df.shape[0],1))\n",
    "\n",
    "scaled_X,scaled_y"
   ]
  },
  {
   "cell_type": "code",
   "execution_count": 32,
   "id": "b16696c1-e55a-4371-8fef-5ba2efd1ca9f",
   "metadata": {},
   "outputs": [
    {
     "data": {
      "text/plain": [
       "array([0.05237037, 0.65185185, 0.22222222, 0.31851852, 0.14074074,\n",
       "       0.04444444, 0.76296296, 0.91111111, 0.13333333, 1.        ,\n",
       "       0.37037037, 0.8       , 0.04444444, 0.05925926, 0.51111111,\n",
       "       0.07407407, 0.11851852, 0.20740741, 0.51851852, 0.        ])"
      ]
     },
     "execution_count": 32,
     "metadata": {},
     "output_type": "execute_result"
    }
   ],
   "source": [
    "scaled_y.reshape(y.shape[0],)"
   ]
  },
  {
   "cell_type": "code",
   "execution_count": 38,
   "id": "d71567b3-143a-464e-8b91-c8f2f78c8c88",
   "metadata": {},
   "outputs": [
    {
     "data": {
      "text/plain": [
       "(array([0.70712464, 0.67456527]), -0.23034857438407422, 0.0068641890429808105)"
      ]
     },
     "execution_count": 38,
     "metadata": {},
     "output_type": "execute_result"
    }
   ],
   "source": [
    "def batch_gradient_descent(X,y_true,epochs,learning_rate=0.01):\n",
    "    num_features = X.shape[1]\n",
    "    m = X.shape[0]\n",
    "    w = np.ones(num_features)\n",
    "    b = 0\n",
    "\n",
    "    cost_list = []\n",
    "    epoch_list = []\n",
    "    for i in range(epochs):\n",
    "        y_pred = np.dot(w,X.T) + b\n",
    "        w_grad = -(2/m)*(np.dot(X.T,(y_true - y_pred)))\n",
    "        b_grad = -(2/m)*np.sum(y_true - y_pred)\n",
    "        \n",
    "        w = w - learning_rate * w_grad\n",
    "        b = b - learning_rate * b_grad\n",
    "        cost = (1/m)*np.sum((y_true - y_pred)**2)\n",
    "        \n",
    "        if i%10 == 0:\n",
    "            cost_list.append(cost)\n",
    "            epoch_list.append(i)\n",
    "            \n",
    "    return w,b,cost,cost_list,epoch_list\n",
    "\n",
    "w,b,cost,cost_list,epoch_list = batch_gradient_descent(scaled_X,scaled_y.reshape(scaled_y.shape[0],),500)\n",
    "w, b, cost"
   ]
  },
  {
   "cell_type": "code",
   "execution_count": 61,
   "id": "cfd95bab-84a4-406b-8555-95b9d6c443e9",
   "metadata": {},
   "outputs": [
    {
     "data": {
      "text/plain": [
       "array([[128.45484403]])"
      ]
     },
     "execution_count": 61,
     "metadata": {},
     "output_type": "execute_result"
    }
   ],
   "source": [
    "def predict(X,w,b):\n",
    "    scaled_price = np.dot(w,X.reshape(-1,1)) + b\n",
    "    return sy.inverse_transform(scaled_price.reshape(-1,1))\n",
    "\n",
    "predict(scaled_X[1],w,b)"
   ]
  },
  {
   "cell_type": "code",
   "execution_count": 97,
   "id": "11717a3d-1ff8-4ca4-a791-3dd9f3d56a64",
   "metadata": {},
   "outputs": [
    {
     "data": {
      "text/plain": [
       "array([[32.09649526]])"
      ]
     },
     "execution_count": 97,
     "metadata": {},
     "output_type": "execute_result"
    }
   ],
   "source": [
    "predict(scaled_X[0],w,b)"
   ]
  },
  {
   "cell_type": "code",
   "execution_count": 62,
   "id": "c7868a80-4432-4743-a66d-e40be6fcdd74",
   "metadata": {},
   "outputs": [
    {
     "data": {
      "text/plain": [
       "area        2600\n",
       "bedrooms       4\n",
       "Name: 1, dtype: int64"
      ]
     },
     "execution_count": 62,
     "metadata": {},
     "output_type": "execute_result"
    }
   ],
   "source": [
    "X.loc[1]"
   ]
  },
  {
   "cell_type": "code",
   "execution_count": 63,
   "id": "37fa4064-dad4-469d-8c7e-4a3fa2b50fa5",
   "metadata": {},
   "outputs": [
    {
     "data": {
      "text/plain": [
       "120.0"
      ]
     },
     "execution_count": 63,
     "metadata": {},
     "output_type": "execute_result"
    }
   ],
   "source": [
    "y[1]"
   ]
  },
  {
   "cell_type": "code",
   "execution_count": 100,
   "id": "07b8daa9-d52f-4be7-ba84-6f1dd9956480",
   "metadata": {},
   "outputs": [
    {
     "data": {
      "text/plain": [
       "[<matplotlib.lines.Line2D at 0x1c0d8edfad0>]"
      ]
     },
     "execution_count": 100,
     "metadata": {},
     "output_type": "execute_result"
    },
    {
     "data": {
      "image/png": "[encoded data removed]",
      "text/plain": [
       "<Figure size 640x480 with 1 Axes>"
      ]
     },
     "metadata": {},
     "output_type": "display_data"
    }
   ],
   "source": [
    "plt.xlabel(\"epochs\")\n",
    "plt.ylabel(\"cost\")\n",
    "plt.plot(epoch_list,cost_list)"
   ]
  },
  {
   "cell_type": "code",
   "execution_count": 64,
   "id": "f3c9e071-409b-4bba-ab29-1ff28e4f26ee",
   "metadata": {},
   "outputs": [],
   "source": [
    "import random"
   ]
  },
  {
   "cell_type": "code",
   "execution_count": 93,
   "id": "9d0ba030-d3ba-4b6a-bead-571a45eb4679",
   "metadata": {},
   "outputs": [
    {
     "data": {
      "text/plain": [
       "(array([0.70250256, 0.67347198]), -0.22745614428029803, 0.00019370990514165436)"
      ]
     },
     "execution_count": 93,
     "metadata": {},
     "output_type": "execute_result"
    }
   ],
   "source": [
    "def stochastic_gradient_descent(X,y_true,epochs,learning_rate=0.01):\n",
    "    num_features = X.shape[1]\n",
    "    m = X.shape[0]\n",
    "    w = np.ones(num_features)\n",
    "    b = 0\n",
    "    \n",
    "    cost_list = []\n",
    "    epoch_list = []\n",
    "    \n",
    "    for i in range(epochs):\n",
    "        sample = random.randint(0,m-1)\n",
    "        sample_X = X[sample]\n",
    "        sample_y = y_true[sample]\n",
    "        \n",
    "        y_pred = np.dot(w,sample_X.T) + b\n",
    "        w_grad = -(2/m)*np.dot(sample_X.T,(sample_y - y_pred))\n",
    "        b_grad = -(2/m)*np.sum((sample_y - y_pred))\n",
    "        w = w - learning_rate * w_grad\n",
    "        b = b - learning_rate * b_grad\n",
    "        cost = np.square(sample_y - y_pred)\n",
    "        if i%100 == 0:\n",
    "            cost_list.append(cost)\n",
    "            epoch_list.append(i)\n",
    "    return w,b,cost,cost_list,epoch_list\n",
    "\n",
    "w_sgd, b_sgd, cost_sgd, cost_list_sgd, epoch_list_sgd = stochastic_gradient_descent(scaled_X,scaled_y.reshape(y.shape[0],),10000)\n",
    "w_sgd,b_sgd,cost_sgd"
   ]
  },
  {
   "cell_type": "code",
   "execution_count": 95,
   "id": "f8724117-19c9-4344-89dc-9d47657d7272",
   "metadata": {},
   "outputs": [
    {
     "data": {
      "text/plain": [
       "(array([0.70712464, 0.67456527]), -0.23034857438407422, 0.0068641890429808105)"
      ]
     },
     "execution_count": 95,
     "metadata": {},
     "output_type": "execute_result"
    }
   ],
   "source": [
    "w,b,cost"
   ]
  },
  {
   "cell_type": "code",
   "execution_count": 96,
   "id": "f8ffdfa4-23d5-4f7b-a227-fe91239a22c7",
   "metadata": {},
   "outputs": [
    {
     "data": {
      "text/plain": [
       "array([[32.61568714]])"
      ]
     },
     "execution_count": 96,
     "metadata": {},
     "output_type": "execute_result"
    }
   ],
   "source": [
    "predict(scaled_X[0],w_sgd,b_sgd)"
   ]
  },
  {
   "cell_type": "code",
   "execution_count": 98,
   "id": "791e5ae5-5343-497a-8398-adb1365d35fc",
   "metadata": {},
   "outputs": [
    {
     "data": {
      "text/plain": [
       "39.07"
      ]
     },
     "execution_count": 98,
     "metadata": {},
     "output_type": "execute_result"
    }
   ],
   "source": [
    "y[0]"
   ]
  },
  {
   "cell_type": "code",
   "execution_count": 99,
   "id": "64a9774c-1f2d-4e04-8c88-13bc51ff657f",
   "metadata": {},
   "outputs": [
    {
     "data": {
      "text/plain": [
       "[<matplotlib.lines.Line2D at 0x1c0e0b2e0d0>]"
      ]
     },
     "execution_count": 99,
     "metadata": {},
     "output_type": "execute_result"
    },
    {
     "data": {
      "image/png": "[encoded data removed]",
      "text/plain": [
       "<Figure size 640x480 with 1 Axes>"
      ]
     },
     "metadata": {},
     "output_type": "display_data"
    }
   ],
   "source": [
    "plt.xlabel(\"epochs\")\n",
    "plt.ylabel(\"cost\")\n",
    "plt.plot(epoch_list_sgd,cost_list_sgd)\n",
    "# sgd requires more epochs for getting optimal values of w and b"
   ]
  },
  {
   "cell_type": "code",
   "execution_count": null,
   "id": "67b1c80b-c03d-4d8b-9818-08737dbdab7f",
   "metadata": {},
   "outputs": [],
   "source": [
    "Exercise\n",
    "Implement mini batch gradient descent in python and plot cost vs epoch graph. Mini batch is intermediate version of batch GD and stochastic GD.\n",
    "In stochastic we used one randomly picked training sample, In mini gradient descent you will use a batch of samples in each iterations. \n",
    "For example if you have total 50 training samples, you can take a batch of 10 samples, calculate cumulitive error for those 10 samples and\n",
    "then adjust weights. In SGD we adjust weights after every one sample. In Batch we adjust weights after going through all samples but in mini batch \n",
    "we do after every m samples (where m is batch size and it is 0 < m < n, where n is total number of samples."
   ]
  },
  {
   "cell_type": "code",
   "execution_count": 120,
   "id": "86981cf5-8e16-4885-836c-3cf949a68ee4",
   "metadata": {},
   "outputs": [
    {
     "data": {
      "text/plain": [
       "[47, 29, 75, 78, 9, 68, 52, 65, 10, 42]"
      ]
     },
     "execution_count": 120,
     "metadata": {},
     "output_type": "execute_result"
    }
   ],
   "source": [
    "random.sample(range(0,100),10)"
   ]
  },
  {
   "cell_type": "code",
   "execution_count": 135,
   "id": "4e81dad2-5ee0-47cc-89c5-4cea1ccc8c7a",
   "metadata": {},
   "outputs": [
    {
     "data": {
      "text/plain": [
       "(array([0.68661546, 0.65315077]), -0.21146632687914846, 0.006891680842497599)"
      ]
     },
     "execution_count": 135,
     "metadata": {},
     "output_type": "execute_result"
    }
   ],
   "source": [
    "def mini_batch_gradient_descent(X,y_true,epochs,learning_rate=0.01):\n",
    "    num_features = X.shape[1]\n",
    "    m = X.shape[0]\n",
    "    w = np.ones(num_features)\n",
    "    b = 0\n",
    "    \n",
    "    cost_list = []\n",
    "    epoch_list = []\n",
    "    \n",
    "    for i in range(epochs):\n",
    "        sample = random.sample(range(0,m-1),10)\n",
    "        sample_X = X[sample]\n",
    "        sample_y = y_true[sample]\n",
    "        \n",
    "        y_pred = np.dot(w,sample_X.T) + b\n",
    "        w_grad = -(2/m)*np.dot(sample_X.T,(sample_y - y_pred))\n",
    "        b_grad = -(2/m)*np.sum((sample_y - y_pred))\n",
    "        w = w - learning_rate * w_grad\n",
    "        b = b - learning_rate * b_grad\n",
    "        cost = np.square(sample_y - y_pred)\n",
    "        if i%100 == 0:\n",
    "            cost_list.append(cost)\n",
    "            epoch_list.append(i)\n",
    "    return w,b,cost,cost_list,epoch_list\n",
    "\n",
    "w_mb, b_mb, cost_mb, cost_list_mb, epoch_list_mb = stochastic_gradient_descent(scaled_X,scaled_y.reshape(y.shape[0],),12000)\n",
    "w_mb,b_mb,cost_mb"
   ]
  },
  {
   "cell_type": "code",
   "execution_count": 136,
   "id": "882d9673-cc51-4916-a7f9-c00b99a75b09",
   "metadata": {},
   "outputs": [
    {
     "data": {
      "text/plain": [
       "array([[33.67844638]])"
      ]
     },
     "execution_count": 136,
     "metadata": {},
     "output_type": "execute_result"
    }
   ],
   "source": [
    "predict(scaled_X[0],w_mb,b_mb)"
   ]
  },
  {
   "cell_type": "code",
   "execution_count": 137,
   "id": "d9bf384c-6986-4c96-890d-aea5b0620f93",
   "metadata": {},
   "outputs": [
    {
     "data": {
      "text/plain": [
       "[<matplotlib.lines.Line2D at 0x1c0e0b90d90>]"
      ]
     },
     "execution_count": 137,
     "metadata": {},
     "output_type": "execute_result"
    },
    {
     "data": {
      "image/png": "[encoded data removed]",
      "text/plain": [
       "<Figure size 640x480 with 1 Axes>"
      ]
     },
     "metadata": {},
     "output_type": "display_data"
    }
   ],
   "source": [
    "plt.xlabel(\"epochs\")\n",
    "plt.ylabel(\"cost\")\n",
    "plt.plot(epoch_list_mb,cost_list_mb)"
   ]
  },
  {
   "cell_type": "code",
   "execution_count": null,
   "id": "6f85a491-95e7-4b34-ace8-ac516f3ff6ee",
   "metadata": {},
   "outputs": [],
   "source": []
  }
 ],
 "metadata": {
  "kernelspec": {
   "display_name": "Python 3 (ipykernel)",
   "language": "python",
   "name": "python3"
  },
  "language_info": {
   "codemirror_mode": {
    "name": "ipython",
    "version": 3
   },
   "file_extension": ".py",
   "mimetype": "text/x-python",
   "name": "python",
   "nbconvert_exporter": "python",
   "pygments_lexer": "ipython3",
   "version": "3.11.4"
  }
 },
 "nbformat": 4,
 "nbformat_minor": 5
}
