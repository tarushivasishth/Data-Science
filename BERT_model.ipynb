{
 "cells": [
  {
   "cell_type": "code",
   "execution_count": 1,
   "id": "af624b90-a83f-4680-b70c-597683cca05a",
   "metadata": {},
   "outputs": [],
   "source": [
    "# !pip install --user tensorflow_hub"
   ]
  },
  {
   "cell_type": "code",
   "execution_count": 2,
   "id": "8f04187d-26e2-4c20-9d17-4e5cc037cd60",
   "metadata": {},
   "outputs": [],
   "source": [
    "# !pip install --user tensorflow_text"
   ]
  },
  {
   "cell_type": "code",
   "execution_count": 20,
   "id": "52bec458-a34a-426c-8f79-ee0a9f3cf647",
   "metadata": {},
   "outputs": [],
   "source": [
    "import tensorflow as tf\n",
    "import tensorflow_hub as hub\n",
    "import tensorflow_text as text"
   ]
  },
  {
   "cell_type": "code",
   "execution_count": 4,
   "id": "38fc3591-ffc8-45b9-98ed-1950dd89ac51",
   "metadata": {},
   "outputs": [],
   "source": [
    "preprocess_url = \"https://kaggle.com/models/tensorflow/bert/TensorFlow2/en-uncased-preprocess/3\"\n",
    "encoder_url = \"https://www.kaggle.com/models/tensorflow/bert/TensorFlow2/en-uncased-l-12-h-768-a-12/4\""
   ]
  },
  {
   "cell_type": "code",
   "execution_count": 12,
   "id": "47e1afc1-07e1-4758-8214-1e258bf20fa3",
   "metadata": {},
   "outputs": [],
   "source": [
    "bert_preprocess_model = hub.KerasLayer(preprocess_url)"
   ]
  },
  {
   "cell_type": "code",
   "execution_count": 13,
   "id": "fd637e3b-c4a0-41ec-810d-05b7e023a0eb",
   "metadata": {},
   "outputs": [
    {
     "data": {
      "text/plain": [
       "dict_keys(['input_mask', 'input_word_ids', 'input_type_ids'])"
      ]
     },
     "execution_count": 13,
     "metadata": {},
     "output_type": "execute_result"
    }
   ],
   "source": [
    "test_text = [\"nice movie indeed\", \"I love python programming\"]\n",
    "test_text_preprocessed = bert_preprocess_model(test_text) # creates a dictionary\n",
    "test_text_preprocessed.keys()"
   ]
  },
  {
   "cell_type": "code",
   "execution_count": 15,
   "id": "d55eac11-344a-464d-ad62-5254ffd6380f",
   "metadata": {},
   "outputs": [
    {
     "data": {
      "text/plain": [
       "<tf.Tensor: shape=(2, 128), dtype=int32, numpy=\n",
       "array([[1, 1, 1, 1, 1, 0, 0, 0, 0, 0, 0, 0, 0, 0, 0, 0, 0, 0, 0, 0, 0, 0,\n",
       "        0, 0, 0, 0, 0, 0, 0, 0, 0, 0, 0, 0, 0, 0, 0, 0, 0, 0, 0, 0, 0, 0,\n",
       "        0, 0, 0, 0, 0, 0, 0, 0, 0, 0, 0, 0, 0, 0, 0, 0, 0, 0, 0, 0, 0, 0,\n",
       "        0, 0, 0, 0, 0, 0, 0, 0, 0, 0, 0, 0, 0, 0, 0, 0, 0, 0, 0, 0, 0, 0,\n",
       "        0, 0, 0, 0, 0, 0, 0, 0, 0, 0, 0, 0, 0, 0, 0, 0, 0, 0, 0, 0, 0, 0,\n",
       "        0, 0, 0, 0, 0, 0, 0, 0, 0, 0, 0, 0, 0, 0, 0, 0, 0, 0],\n",
       "       [1, 1, 1, 1, 1, 1, 0, 0, 0, 0, 0, 0, 0, 0, 0, 0, 0, 0, 0, 0, 0, 0,\n",
       "        0, 0, 0, 0, 0, 0, 0, 0, 0, 0, 0, 0, 0, 0, 0, 0, 0, 0, 0, 0, 0, 0,\n",
       "        0, 0, 0, 0, 0, 0, 0, 0, 0, 0, 0, 0, 0, 0, 0, 0, 0, 0, 0, 0, 0, 0,\n",
       "        0, 0, 0, 0, 0, 0, 0, 0, 0, 0, 0, 0, 0, 0, 0, 0, 0, 0, 0, 0, 0, 0,\n",
       "        0, 0, 0, 0, 0, 0, 0, 0, 0, 0, 0, 0, 0, 0, 0, 0, 0, 0, 0, 0, 0, 0,\n",
       "        0, 0, 0, 0, 0, 0, 0, 0, 0, 0, 0, 0, 0, 0, 0, 0, 0, 0]])>"
      ]
     },
     "execution_count": 15,
     "metadata": {},
     "output_type": "execute_result"
    }
   ],
   "source": [
    "test_text_preprocessed['input_mask']\n",
    "# shape = (2,128) where 2 are the number of sentences adnd 128 is the max length of a sentence it can take and the 0s represent padding\n",
    "# CLS nice movie indeed SEP"
   ]
  },
  {
   "cell_type": "code",
   "execution_count": 16,
   "id": "71b47f5c-db75-49d2-988c-9edca1ba710f",
   "metadata": {},
   "outputs": [
    {
     "data": {
      "text/plain": [
       "<tf.Tensor: shape=(2, 128), dtype=int32, numpy=\n",
       "array([[  101,  3835,  3185,  5262,   102,     0,     0,     0,     0,\n",
       "            0,     0,     0,     0,     0,     0,     0,     0,     0,\n",
       "            0,     0,     0,     0,     0,     0,     0,     0,     0,\n",
       "            0,     0,     0,     0,     0,     0,     0,     0,     0,\n",
       "            0,     0,     0,     0,     0,     0,     0,     0,     0,\n",
       "            0,     0,     0,     0,     0,     0,     0,     0,     0,\n",
       "            0,     0,     0,     0,     0,     0,     0,     0,     0,\n",
       "            0,     0,     0,     0,     0,     0,     0,     0,     0,\n",
       "            0,     0,     0,     0,     0,     0,     0,     0,     0,\n",
       "            0,     0,     0,     0,     0,     0,     0,     0,     0,\n",
       "            0,     0,     0,     0,     0,     0,     0,     0,     0,\n",
       "            0,     0,     0,     0,     0,     0,     0,     0,     0,\n",
       "            0,     0,     0,     0,     0,     0,     0,     0,     0,\n",
       "            0,     0,     0,     0,     0,     0,     0,     0,     0,\n",
       "            0,     0],\n",
       "       [  101,  1045,  2293, 18750,  4730,   102,     0,     0,     0,\n",
       "            0,     0,     0,     0,     0,     0,     0,     0,     0,\n",
       "            0,     0,     0,     0,     0,     0,     0,     0,     0,\n",
       "            0,     0,     0,     0,     0,     0,     0,     0,     0,\n",
       "            0,     0,     0,     0,     0,     0,     0,     0,     0,\n",
       "            0,     0,     0,     0,     0,     0,     0,     0,     0,\n",
       "            0,     0,     0,     0,     0,     0,     0,     0,     0,\n",
       "            0,     0,     0,     0,     0,     0,     0,     0,     0,\n",
       "            0,     0,     0,     0,     0,     0,     0,     0,     0,\n",
       "            0,     0,     0,     0,     0,     0,     0,     0,     0,\n",
       "            0,     0,     0,     0,     0,     0,     0,     0,     0,\n",
       "            0,     0,     0,     0,     0,     0,     0,     0,     0,\n",
       "            0,     0,     0,     0,     0,     0,     0,     0,     0,\n",
       "            0,     0,     0,     0,     0,     0,     0,     0,     0,\n",
       "            0,     0]])>"
      ]
     },
     "execution_count": 16,
     "metadata": {},
     "output_type": "execute_result"
    }
   ],
   "source": [
    "test_text_preprocessed['input_word_ids']\n",
    "# CLS-101, SEP-102"
   ]
  },
  {
   "cell_type": "code",
   "execution_count": 17,
   "id": "a5931b2c-d2e5-4cb5-85cc-f44ab104a66b",
   "metadata": {},
   "outputs": [],
   "source": [
    "bert_model = hub.KerasLayer(encoder_url)"
   ]
  },
  {
   "cell_type": "code",
   "execution_count": 18,
   "id": "7266ab05-1fa6-45ea-b63f-b4eead7d138b",
   "metadata": {},
   "outputs": [
    {
     "data": {
      "text/plain": [
       "dict_keys(['pooled_output', 'encoder_outputs', 'sequence_output', 'default'])"
      ]
     },
     "execution_count": 18,
     "metadata": {},
     "output_type": "execute_result"
    }
   ],
   "source": [
    "bert_results = bert_model(test_text_preprocessed)\n",
    "bert_results.keys()"
   ]
  },
  {
   "cell_type": "code",
   "execution_count": 23,
   "id": "9b0a717f-77b5-401b-a838-4c6333d12166",
   "metadata": {},
   "outputs": [
    {
     "data": {
      "text/plain": [
       "<tf.Tensor: shape=(2, 768), dtype=float32, numpy=\n",
       "array([[-0.79188013, -0.21425518,  0.49721304, ...,  0.24413648,\n",
       "        -0.4734776 ,  0.817745  ],\n",
       "       [-0.91704917, -0.47915408, -0.7862837 , ..., -0.61722946,\n",
       "        -0.7100538 ,  0.92182994]], dtype=float32)>"
      ]
     },
     "execution_count": 23,
     "metadata": {},
     "output_type": "execute_result"
    }
   ],
   "source": [
    "bert_results['pooled_output']\n",
    "# provides embedding for each word in a sentence"
   ]
  },
  {
   "cell_type": "code",
   "execution_count": 24,
   "id": "68f3dab0-0849-453f-83bf-f3eaf28c8b3d",
   "metadata": {},
   "outputs": [
    {
     "data": {
      "text/plain": [
       "<tf.Tensor: shape=(2, 128, 768), dtype=float32, numpy=\n",
       "array([[[ 0.07285099,  0.08559467,  0.14486243, ..., -0.09696241,\n",
       "          0.0874363 ,  0.07722519],\n",
       "        [ 0.17854919, -0.19033203,  0.50342715, ..., -0.0592822 ,\n",
       "          0.3274933 , -0.15570705],\n",
       "        [ 0.18721128, -0.43419477, -0.48869985, ..., -0.15485501,\n",
       "          0.00191848, -0.24450247],\n",
       "        ...,\n",
       "        [ 0.12076025,  0.12861368,  0.46467674, ...,  0.07385493,\n",
       "          0.17424011,  0.16553491],\n",
       "        [ 0.07972652, -0.01200814,  0.50237304, ...,  0.13797873,\n",
       "          0.20989522,  0.00605734],\n",
       "        [-0.07173504, -0.28292355,  0.59035784, ...,  0.4754444 ,\n",
       "          0.16631758, -0.08909762]],\n",
       "\n",
       "       [[-0.0785742 ,  0.3630514 , -0.2108549 , ..., -0.17174137,\n",
       "          0.16314858,  0.6722267 ],\n",
       "        [ 0.27904755,  0.4371235 , -0.3576929 , ..., -0.04426212,\n",
       "          0.3837821 ,  0.5884484 ],\n",
       "        [ 1.2049179 ,  1.072629  ,  0.48469776, ...,  0.2488006 ,\n",
       "          0.40683615,  0.4054135 ],\n",
       "        ...,\n",
       "        [ 0.08660904,  0.19359234,  0.47544312, ...,  0.18901831,\n",
       "         -0.06512898,  0.31297037],\n",
       "        [ 0.1591101 ,  0.28584114,  0.37345648, ...,  0.09324126,\n",
       "         -0.05006269,  0.38748693],\n",
       "        [-0.08053069, -0.095408  ,  0.26825017, ...,  0.14010948,\n",
       "         -0.06347641,  0.27281147]]], dtype=float32)>"
      ]
     },
     "execution_count": 24,
     "metadata": {},
     "output_type": "execute_result"
    }
   ],
   "source": [
    "bert_results['sequence_output']\n",
    "# 2 repesents the nummber of statements\n",
    "# 128 represents the maximum permissible words in a sentence and the remaining are considered as padding\n",
    "# padding does not always contain 0s but here the padding contains some values that represent the contextual embedding\n",
    "# 768 is the feature vector for a complete word"
   ]
  },
  {
   "cell_type": "code",
   "execution_count": 26,
   "id": "728d82d7-5f33-4afc-9125-31dce8bff6c4",
   "metadata": {},
   "outputs": [
    {
     "data": {
      "text/plain": [
       "12"
      ]
     },
     "execution_count": 26,
     "metadata": {},
     "output_type": "execute_result"
    }
   ],
   "source": [
    "len(bert_results['encoder_outputs'])\n",
    "# length is 12 as in the BERT base model, there are upto 12 encoders whereas in BERT large model, there are upto 24 encoders"
   ]
  },
  {
   "cell_type": "code",
   "execution_count": 31,
   "id": "61ab8346-a073-4687-b24c-f6de5d414b1c",
   "metadata": {},
   "outputs": [
    {
     "data": {
      "text/plain": [
       "<tf.Tensor: shape=(2, 128, 768), dtype=bool, numpy=\n",
       "array([[[ True,  True,  True, ...,  True,  True,  True],\n",
       "        [ True,  True,  True, ...,  True,  True,  True],\n",
       "        [ True,  True,  True, ...,  True,  True,  True],\n",
       "        ...,\n",
       "        [ True,  True,  True, ...,  True,  True,  True],\n",
       "        [ True,  True,  True, ...,  True,  True,  True],\n",
       "        [ True,  True,  True, ...,  True,  True,  True]],\n",
       "\n",
       "       [[ True,  True,  True, ...,  True,  True,  True],\n",
       "        [ True,  True,  True, ...,  True,  True,  True],\n",
       "        [ True,  True,  True, ...,  True,  True,  True],\n",
       "        ...,\n",
       "        [ True,  True,  True, ...,  True,  True,  True],\n",
       "        [ True,  True,  True, ...,  True,  True,  True],\n",
       "        [ True,  True,  True, ...,  True,  True,  True]]])>"
      ]
     },
     "execution_count": 31,
     "metadata": {},
     "output_type": "execute_result"
    }
   ],
   "source": [
    "bert_results['encoder_outputs'][-1] == bert_results['sequence_output']\n",
    "# here the result of the last encoder is considered to be the output of the model i.e. why the last encoder_output = sequence_output"
   ]
  },
  {
   "cell_type": "code",
   "execution_count": null,
   "id": "873b4f28-cfd7-4dfd-b186-9867f47e45f3",
   "metadata": {},
   "outputs": [],
   "source": []
  }
 ],
 "metadata": {
  "kernelspec": {
   "display_name": "Python 3 (ipykernel)",
   "language": "python",
   "name": "python3"
  },
  "language_info": {
   "codemirror_mode": {
    "name": "ipython",
    "version": 3
   },
   "file_extension": ".py",
   "mimetype": "text/x-python",
   "name": "python",
   "nbconvert_exporter": "python",
   "pygments_lexer": "ipython3",
   "version": "3.9.20"
  }
 },
 "nbformat": 4,
 "nbformat_minor": 5
}
