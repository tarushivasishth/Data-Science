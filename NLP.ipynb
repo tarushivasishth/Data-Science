{
 "cells": [
  {
   "cell_type": "code",
   "execution_count": 1,
   "id": "6d644a4f-9846-420a-bd34-55c661cadbce",
   "metadata": {},
   "outputs": [
    {
     "name": "stdout",
     "output_type": "stream",
     "text": [
      "Defaulting to user installation because normal site-packages is not writeable\n",
      "Requirement already satisfied: nltk in c:\\programdata\\anaconda3\\lib\\site-packages (3.8.1)\n",
      "Requirement already satisfied: click in c:\\programdata\\anaconda3\\lib\\site-packages (from nltk) (8.0.4)\n",
      "Requirement already satisfied: joblib in c:\\programdata\\anaconda3\\lib\\site-packages (from nltk) (1.2.0)\n",
      "Requirement already satisfied: regex>=2021.8.3 in c:\\programdata\\anaconda3\\lib\\site-packages (from nltk) (2022.7.9)\n",
      "Requirement already satisfied: tqdm in c:\\programdata\\anaconda3\\lib\\site-packages (from nltk) (4.65.0)\n",
      "Requirement already satisfied: colorama in c:\\users\\deveshnarain\\appdata\\roaming\\python\\python311\\site-packages (from click->nltk) (0.4.6)\n",
      "Note: you may need to restart the kernel to use updated packages.\n"
     ]
    }
   ],
   "source": [
    "pip install nltk"
   ]
  },
  {
   "cell_type": "code",
   "execution_count": 14,
   "id": "15630aed-abf1-4f4c-aee5-5b499982a47a",
   "metadata": {},
   "outputs": [],
   "source": [
    "x = \"The meaning of NLP is Natural Language Processing (NLP) which is a fascinating and rapidly evolving field that intersects computer science, artificial intelligence, and linguistics. NLP focuses on the interaction between computers and human language, enabling machines to understand, interpret, and generate human language in a way that is both meaningful and useful. With the increasing volume of text data generated every day, from social media posts to research articles, NLP has become an essential tool for extracting valuable insights and automating various tasks.\""
   ]
  },
  {
   "cell_type": "code",
   "execution_count": 15,
   "id": "2144abbb-e2f8-447d-8ed4-5e31c69fdad4",
   "metadata": {},
   "outputs": [],
   "source": [
    "# tokenization\n",
    "from nltk.tokenize import word_tokenize,sent_tokenize"
   ]
  },
  {
   "cell_type": "code",
   "execution_count": 18,
   "id": "305b2c90-50aa-42a5-812d-9d4f8c9d78f8",
   "metadata": {},
   "outputs": [
    {
     "data": {
      "text/plain": [
       "['The meaning of NLP is Natural Language Processing (NLP) which is a fascinating and rapidly evolving field that intersects computer science, artificial intelligence, and linguistics.',\n",
       " 'NLP focuses on the interaction between computers and human language, enabling machines to understand, interpret, and generate human language in a way that is both meaningful and useful.',\n",
       " 'With the increasing volume of text data generated every day, from social media posts to research articles, NLP has become an essential tool for extracting valuable insights and automating various tasks.']"
      ]
     },
     "execution_count": 18,
     "metadata": {},
     "output_type": "execute_result"
    }
   ],
   "source": [
    "sent = sent_tokenize(x)\n",
    "sent"
   ]
  },
  {
   "cell_type": "code",
   "execution_count": 19,
   "id": "2e9290ea-93eb-4d41-8a96-2eb14eab9e32",
   "metadata": {},
   "outputs": [
    {
     "data": {
      "text/plain": [
       "['The',\n",
       " 'meaning',\n",
       " 'of',\n",
       " 'NLP',\n",
       " 'is',\n",
       " 'Natural',\n",
       " 'Language',\n",
       " 'Processing',\n",
       " '(',\n",
       " 'NLP',\n",
       " ')',\n",
       " 'which',\n",
       " 'is',\n",
       " 'a',\n",
       " 'fascinating',\n",
       " 'and',\n",
       " 'rapidly',\n",
       " 'evolving',\n",
       " 'field',\n",
       " 'that',\n",
       " 'intersects',\n",
       " 'computer',\n",
       " 'science',\n",
       " ',',\n",
       " 'artificial',\n",
       " 'intelligence',\n",
       " ',',\n",
       " 'and',\n",
       " 'linguistics',\n",
       " '.',\n",
       " 'NLP',\n",
       " 'focuses',\n",
       " 'on',\n",
       " 'the',\n",
       " 'interaction',\n",
       " 'between',\n",
       " 'computers',\n",
       " 'and',\n",
       " 'human',\n",
       " 'language',\n",
       " ',',\n",
       " 'enabling',\n",
       " 'machines',\n",
       " 'to',\n",
       " 'understand',\n",
       " ',',\n",
       " 'interpret',\n",
       " ',',\n",
       " 'and',\n",
       " 'generate',\n",
       " 'human',\n",
       " 'language',\n",
       " 'in',\n",
       " 'a',\n",
       " 'way',\n",
       " 'that',\n",
       " 'is',\n",
       " 'both',\n",
       " 'meaningful',\n",
       " 'and',\n",
       " 'useful',\n",
       " '.',\n",
       " 'With',\n",
       " 'the',\n",
       " 'increasing',\n",
       " 'volume',\n",
       " 'of',\n",
       " 'text',\n",
       " 'data',\n",
       " 'generated',\n",
       " 'every',\n",
       " 'day',\n",
       " ',',\n",
       " 'from',\n",
       " 'social',\n",
       " 'media',\n",
       " 'posts',\n",
       " 'to',\n",
       " 'research',\n",
       " 'articles',\n",
       " ',',\n",
       " 'NLP',\n",
       " 'has',\n",
       " 'become',\n",
       " 'an',\n",
       " 'essential',\n",
       " 'tool',\n",
       " 'for',\n",
       " 'extracting',\n",
       " 'valuable',\n",
       " 'insights',\n",
       " 'and',\n",
       " 'automating',\n",
       " 'various',\n",
       " 'tasks',\n",
       " '.']"
      ]
     },
     "execution_count": 19,
     "metadata": {},
     "output_type": "execute_result"
    }
   ],
   "source": [
    "w = word_tokenize(x)\n",
    "w"
   ]
  },
  {
   "cell_type": "code",
   "execution_count": 30,
   "id": "974afdcd-42cd-4ba5-abdc-b736e369768d",
   "metadata": {},
   "outputs": [],
   "source": [
    "# stop word removal\n",
    "from nltk.corpus import stopwords"
   ]
  },
  {
   "cell_type": "code",
   "execution_count": 31,
   "id": "3791c97c-f160-4dbb-9cb9-d668f682ff01",
   "metadata": {},
   "outputs": [
    {
     "data": {
      "text/plain": [
       "['i',\n",
       " 'me',\n",
       " 'my',\n",
       " 'myself',\n",
       " 'we',\n",
       " 'our',\n",
       " 'ours',\n",
       " 'ourselves',\n",
       " 'you',\n",
       " \"you're\",\n",
       " \"you've\",\n",
       " \"you'll\",\n",
       " \"you'd\",\n",
       " 'your',\n",
       " 'yours',\n",
       " 'yourself',\n",
       " 'yourselves',\n",
       " 'he',\n",
       " 'him',\n",
       " 'his',\n",
       " 'himself',\n",
       " 'she',\n",
       " \"she's\",\n",
       " 'her',\n",
       " 'hers',\n",
       " 'herself',\n",
       " 'it',\n",
       " \"it's\",\n",
       " 'its',\n",
       " 'itself',\n",
       " 'they',\n",
       " 'them',\n",
       " 'their',\n",
       " 'theirs',\n",
       " 'themselves',\n",
       " 'what',\n",
       " 'which',\n",
       " 'who',\n",
       " 'whom',\n",
       " 'this',\n",
       " 'that',\n",
       " \"that'll\",\n",
       " 'these',\n",
       " 'those',\n",
       " 'am',\n",
       " 'is',\n",
       " 'are',\n",
       " 'was',\n",
       " 'were',\n",
       " 'be',\n",
       " 'been',\n",
       " 'being',\n",
       " 'have',\n",
       " 'has',\n",
       " 'had',\n",
       " 'having',\n",
       " 'do',\n",
       " 'does',\n",
       " 'did',\n",
       " 'doing',\n",
       " 'a',\n",
       " 'an',\n",
       " 'the',\n",
       " 'and',\n",
       " 'but',\n",
       " 'if',\n",
       " 'or',\n",
       " 'because',\n",
       " 'as',\n",
       " 'until',\n",
       " 'while',\n",
       " 'of',\n",
       " 'at',\n",
       " 'by',\n",
       " 'for',\n",
       " 'with',\n",
       " 'about',\n",
       " 'against',\n",
       " 'between',\n",
       " 'into',\n",
       " 'through',\n",
       " 'during',\n",
       " 'before',\n",
       " 'after',\n",
       " 'above',\n",
       " 'below',\n",
       " 'to',\n",
       " 'from',\n",
       " 'up',\n",
       " 'down',\n",
       " 'in',\n",
       " 'out',\n",
       " 'on',\n",
       " 'off',\n",
       " 'over',\n",
       " 'under',\n",
       " 'again',\n",
       " 'further',\n",
       " 'then',\n",
       " 'once',\n",
       " 'here',\n",
       " 'there',\n",
       " 'when',\n",
       " 'where',\n",
       " 'why',\n",
       " 'how',\n",
       " 'all',\n",
       " 'any',\n",
       " 'both',\n",
       " 'each',\n",
       " 'few',\n",
       " 'more',\n",
       " 'most',\n",
       " 'other',\n",
       " 'some',\n",
       " 'such',\n",
       " 'no',\n",
       " 'nor',\n",
       " 'not',\n",
       " 'only',\n",
       " 'own',\n",
       " 'same',\n",
       " 'so',\n",
       " 'than',\n",
       " 'too',\n",
       " 'very',\n",
       " 's',\n",
       " 't',\n",
       " 'can',\n",
       " 'will',\n",
       " 'just',\n",
       " 'don',\n",
       " \"don't\",\n",
       " 'should',\n",
       " \"should've\",\n",
       " 'now',\n",
       " 'd',\n",
       " 'll',\n",
       " 'm',\n",
       " 'o',\n",
       " 're',\n",
       " 've',\n",
       " 'y',\n",
       " 'ain',\n",
       " 'aren',\n",
       " \"aren't\",\n",
       " 'couldn',\n",
       " \"couldn't\",\n",
       " 'didn',\n",
       " \"didn't\",\n",
       " 'doesn',\n",
       " \"doesn't\",\n",
       " 'hadn',\n",
       " \"hadn't\",\n",
       " 'hasn',\n",
       " \"hasn't\",\n",
       " 'haven',\n",
       " \"haven't\",\n",
       " 'isn',\n",
       " \"isn't\",\n",
       " 'ma',\n",
       " 'mightn',\n",
       " \"mightn't\",\n",
       " 'mustn',\n",
       " \"mustn't\",\n",
       " 'needn',\n",
       " \"needn't\",\n",
       " 'shan',\n",
       " \"shan't\",\n",
       " 'shouldn',\n",
       " \"shouldn't\",\n",
       " 'wasn',\n",
       " \"wasn't\",\n",
       " 'weren',\n",
       " \"weren't\",\n",
       " 'won',\n",
       " \"won't\",\n",
       " 'wouldn',\n",
       " \"wouldn't\"]"
      ]
     },
     "execution_count": 31,
     "metadata": {},
     "output_type": "execute_result"
    }
   ],
   "source": [
    "stop = stopwords.words(\"english\")\n",
    "stop # stopwords in english language"
   ]
  },
  {
   "cell_type": "code",
   "execution_count": 35,
   "id": "da349648-535a-4a94-95c4-71b8f78113a4",
   "metadata": {},
   "outputs": [
    {
     "data": {
      "text/plain": [
       "['!',\n",
       " '\"',\n",
       " '#',\n",
       " '$',\n",
       " '%',\n",
       " '&',\n",
       " \"'\",\n",
       " '(',\n",
       " ')',\n",
       " '*',\n",
       " '+',\n",
       " ',',\n",
       " '-',\n",
       " '.',\n",
       " '/',\n",
       " ':',\n",
       " ';',\n",
       " '<',\n",
       " '=',\n",
       " '>',\n",
       " '?',\n",
       " '@',\n",
       " '[',\n",
       " '\\\\',\n",
       " ']',\n",
       " '^',\n",
       " '_',\n",
       " '`',\n",
       " '{',\n",
       " '|',\n",
       " '}',\n",
       " '~',\n",
       " 'i',\n",
       " 'me',\n",
       " 'my',\n",
       " 'myself',\n",
       " 'we',\n",
       " 'our',\n",
       " 'ours',\n",
       " 'ourselves',\n",
       " 'you',\n",
       " \"you're\",\n",
       " \"you've\",\n",
       " \"you'll\",\n",
       " \"you'd\",\n",
       " 'your',\n",
       " 'yours',\n",
       " 'yourself',\n",
       " 'yourselves',\n",
       " 'he',\n",
       " 'him',\n",
       " 'his',\n",
       " 'himself',\n",
       " 'she',\n",
       " \"she's\",\n",
       " 'her',\n",
       " 'hers',\n",
       " 'herself',\n",
       " 'it',\n",
       " \"it's\",\n",
       " 'its',\n",
       " 'itself',\n",
       " 'they',\n",
       " 'them',\n",
       " 'their',\n",
       " 'theirs',\n",
       " 'themselves',\n",
       " 'what',\n",
       " 'which',\n",
       " 'who',\n",
       " 'whom',\n",
       " 'this',\n",
       " 'that',\n",
       " \"that'll\",\n",
       " 'these',\n",
       " 'those',\n",
       " 'am',\n",
       " 'is',\n",
       " 'are',\n",
       " 'was',\n",
       " 'were',\n",
       " 'be',\n",
       " 'been',\n",
       " 'being',\n",
       " 'have',\n",
       " 'has',\n",
       " 'had',\n",
       " 'having',\n",
       " 'do',\n",
       " 'does',\n",
       " 'did',\n",
       " 'doing',\n",
       " 'a',\n",
       " 'an',\n",
       " 'the',\n",
       " 'and',\n",
       " 'but',\n",
       " 'if',\n",
       " 'or',\n",
       " 'because',\n",
       " 'as',\n",
       " 'until',\n",
       " 'while',\n",
       " 'of',\n",
       " 'at',\n",
       " 'by',\n",
       " 'for',\n",
       " 'with',\n",
       " 'about',\n",
       " 'against',\n",
       " 'between',\n",
       " 'into',\n",
       " 'through',\n",
       " 'during',\n",
       " 'before',\n",
       " 'after',\n",
       " 'above',\n",
       " 'below',\n",
       " 'to',\n",
       " 'from',\n",
       " 'up',\n",
       " 'down',\n",
       " 'in',\n",
       " 'out',\n",
       " 'on',\n",
       " 'off',\n",
       " 'over',\n",
       " 'under',\n",
       " 'again',\n",
       " 'further',\n",
       " 'then',\n",
       " 'once',\n",
       " 'here',\n",
       " 'there',\n",
       " 'when',\n",
       " 'where',\n",
       " 'why',\n",
       " 'how',\n",
       " 'all',\n",
       " 'any',\n",
       " 'both',\n",
       " 'each',\n",
       " 'few',\n",
       " 'more',\n",
       " 'most',\n",
       " 'other',\n",
       " 'some',\n",
       " 'such',\n",
       " 'no',\n",
       " 'nor',\n",
       " 'not',\n",
       " 'only',\n",
       " 'own',\n",
       " 'same',\n",
       " 'so',\n",
       " 'than',\n",
       " 'too',\n",
       " 'very',\n",
       " 's',\n",
       " 't',\n",
       " 'can',\n",
       " 'will',\n",
       " 'just',\n",
       " 'don',\n",
       " \"don't\",\n",
       " 'should',\n",
       " \"should've\",\n",
       " 'now',\n",
       " 'd',\n",
       " 'll',\n",
       " 'm',\n",
       " 'o',\n",
       " 're',\n",
       " 've',\n",
       " 'y',\n",
       " 'ain',\n",
       " 'aren',\n",
       " \"aren't\",\n",
       " 'couldn',\n",
       " \"couldn't\",\n",
       " 'didn',\n",
       " \"didn't\",\n",
       " 'doesn',\n",
       " \"doesn't\",\n",
       " 'hadn',\n",
       " \"hadn't\",\n",
       " 'hasn',\n",
       " \"hasn't\",\n",
       " 'haven',\n",
       " \"haven't\",\n",
       " 'isn',\n",
       " \"isn't\",\n",
       " 'ma',\n",
       " 'mightn',\n",
       " \"mightn't\",\n",
       " 'mustn',\n",
       " \"mustn't\",\n",
       " 'needn',\n",
       " \"needn't\",\n",
       " 'shan',\n",
       " \"shan't\",\n",
       " 'shouldn',\n",
       " \"shouldn't\",\n",
       " 'wasn',\n",
       " \"wasn't\",\n",
       " 'weren',\n",
       " \"weren't\",\n",
       " 'won',\n",
       " \"won't\",\n",
       " 'wouldn',\n",
       " \"wouldn't\"]"
      ]
     },
     "execution_count": 35,
     "metadata": {},
     "output_type": "execute_result"
    }
   ],
   "source": [
    "from string import punctuation\n",
    "stop_word_list = list(punctuation) + stopwords.words(\"english\")\n",
    "stop_word_list"
   ]
  },
  {
   "cell_type": "code",
   "execution_count": 37,
   "id": "729fca02-beba-4183-84ee-dc57881be281",
   "metadata": {},
   "outputs": [
    {
     "name": "stdout",
     "output_type": "stream",
     "text": [
      "The\n",
      "<class 'str'>\n",
      "meaning\n",
      "<class 'str'>\n",
      "NLP\n",
      "<class 'str'>\n",
      "Natural\n",
      "<class 'str'>\n",
      "Language\n",
      "<class 'str'>\n",
      "Processing\n",
      "<class 'str'>\n",
      "NLP\n",
      "<class 'str'>\n",
      "fascinating\n",
      "<class 'str'>\n",
      "rapidly\n",
      "<class 'str'>\n",
      "evolving\n",
      "<class 'str'>\n",
      "field\n",
      "<class 'str'>\n",
      "intersects\n",
      "<class 'str'>\n",
      "computer\n",
      "<class 'str'>\n",
      "science\n",
      "<class 'str'>\n",
      "artificial\n",
      "<class 'str'>\n",
      "intelligence\n",
      "<class 'str'>\n",
      "linguistics\n",
      "<class 'str'>\n",
      "NLP\n",
      "<class 'str'>\n",
      "focuses\n",
      "<class 'str'>\n",
      "interaction\n",
      "<class 'str'>\n",
      "computers\n",
      "<class 'str'>\n",
      "human\n",
      "<class 'str'>\n",
      "language\n",
      "<class 'str'>\n",
      "enabling\n",
      "<class 'str'>\n",
      "machines\n",
      "<class 'str'>\n",
      "understand\n",
      "<class 'str'>\n",
      "interpret\n",
      "<class 'str'>\n",
      "generate\n",
      "<class 'str'>\n",
      "human\n",
      "<class 'str'>\n",
      "language\n",
      "<class 'str'>\n",
      "way\n",
      "<class 'str'>\n",
      "meaningful\n",
      "<class 'str'>\n",
      "useful\n",
      "<class 'str'>\n",
      "With\n",
      "<class 'str'>\n",
      "increasing\n",
      "<class 'str'>\n",
      "volume\n",
      "<class 'str'>\n",
      "text\n",
      "<class 'str'>\n",
      "data\n",
      "<class 'str'>\n",
      "generated\n",
      "<class 'str'>\n",
      "every\n",
      "<class 'str'>\n",
      "day\n",
      "<class 'str'>\n",
      "social\n",
      "<class 'str'>\n",
      "media\n",
      "<class 'str'>\n",
      "posts\n",
      "<class 'str'>\n",
      "research\n",
      "<class 'str'>\n",
      "articles\n",
      "<class 'str'>\n",
      "NLP\n",
      "<class 'str'>\n",
      "become\n",
      "<class 'str'>\n",
      "essential\n",
      "<class 'str'>\n",
      "tool\n",
      "<class 'str'>\n",
      "extracting\n",
      "<class 'str'>\n",
      "valuable\n",
      "<class 'str'>\n",
      "insights\n",
      "<class 'str'>\n",
      "automating\n",
      "<class 'str'>\n",
      "various\n",
      "<class 'str'>\n",
      "tasks\n",
      "<class 'str'>\n"
     ]
    }
   ],
   "source": [
    "for i in w:\n",
    "    if i not in stop_word_list:\n",
    "        print(i)\n",
    "        print(type(i))"
   ]
  },
  {
   "cell_type": "code",
   "execution_count": 38,
   "id": "d7a311e4-4f69-41e1-a155-de8971a4cf85",
   "metadata": {},
   "outputs": [],
   "source": [
    "# stemming\n",
    "from nltk.stem import LancasterStemmer, RegexpStemmer, PorterStemmer, SnowballStemmer"
   ]
  },
  {
   "cell_type": "code",
   "execution_count": 39,
   "id": "d8dc6c38-4c08-4ba4-b9c3-b74a3184fc9e",
   "metadata": {},
   "outputs": [],
   "source": [
    "l = LancasterStemmer()\n",
    "r = RegexpStemmer('ing')\n",
    "p = PorterStemmer()\n",
    "s = SnowballStemmer(\"english\") # works on multiple languages"
   ]
  },
  {
   "cell_type": "code",
   "execution_count": 44,
   "id": "a1407dcd-f5ec-476b-a5eb-44d54ae34426",
   "metadata": {},
   "outputs": [
    {
     "data": {
      "text/plain": [
       "'chang'"
      ]
     },
     "execution_count": 44,
     "metadata": {},
     "output_type": "execute_result"
    }
   ],
   "source": [
    "l.stem(\"changed\")"
   ]
  },
  {
   "cell_type": "code",
   "execution_count": 45,
   "id": "f526549f-f84e-4fad-854d-dd832c8f2302",
   "metadata": {},
   "outputs": [
    {
     "data": {
      "text/plain": [
       "'changed'"
      ]
     },
     "execution_count": 45,
     "metadata": {},
     "output_type": "execute_result"
    }
   ],
   "source": [
    "r.stem(\"changed\")"
   ]
  },
  {
   "cell_type": "code",
   "execution_count": 46,
   "id": "76b4b6b8-0713-444d-b20e-22d9793bd6a5",
   "metadata": {},
   "outputs": [
    {
     "data": {
      "text/plain": [
       "'chang'"
      ]
     },
     "execution_count": 46,
     "metadata": {},
     "output_type": "execute_result"
    }
   ],
   "source": [
    "p.stem(\"changed\")"
   ]
  },
  {
   "cell_type": "code",
   "execution_count": 47,
   "id": "ad19b444-38e2-4c57-9b22-3a025f6ffbf2",
   "metadata": {},
   "outputs": [
    {
     "data": {
      "text/plain": [
       "'chang'"
      ]
     },
     "execution_count": 47,
     "metadata": {},
     "output_type": "execute_result"
    }
   ],
   "source": [
    "s.stem(\"changed\")"
   ]
  },
  {
   "cell_type": "code",
   "execution_count": 48,
   "id": "6064e260-681f-45ed-ae03-23665f987f0c",
   "metadata": {},
   "outputs": [],
   "source": [
    "# lemmatization\n",
    "from nltk.stem import WordNetLemmatizer"
   ]
  },
  {
   "cell_type": "code",
   "execution_count": 51,
   "id": "de4a745a-df7d-460c-83e7-96499b4fbf4f",
   "metadata": {},
   "outputs": [
    {
     "name": "stderr",
     "output_type": "stream",
     "text": [
      "[nltk_data] Downloading package wordnet to\n",
      "[nltk_data]     C:\\Users\\DeveshNarain\\AppData\\Roaming\\nltk_data...\n"
     ]
    },
    {
     "data": {
      "text/plain": [
       "True"
      ]
     },
     "execution_count": 51,
     "metadata": {},
     "output_type": "execute_result"
    }
   ],
   "source": [
    "import nltk\n",
    "nltk.download('wordnet')"
   ]
  },
  {
   "cell_type": "code",
   "execution_count": 52,
   "id": "a5b58602-0d9c-45b7-8b50-efc97665e4a9",
   "metadata": {},
   "outputs": [],
   "source": [
    "wl = WordNetLemmatizer()"
   ]
  },
  {
   "cell_type": "code",
   "execution_count": 57,
   "id": "b83b4053-0df4-4abc-a87f-0352138cf337",
   "metadata": {},
   "outputs": [
    {
     "data": {
      "text/plain": [
       "'studying'"
      ]
     },
     "execution_count": 57,
     "metadata": {},
     "output_type": "execute_result"
    }
   ],
   "source": [
    "wl.lemmatize(\"studying\")"
   ]
  },
  {
   "cell_type": "code",
   "execution_count": 60,
   "id": "4aa48149-a856-4e27-9cf5-3714f871b9ba",
   "metadata": {},
   "outputs": [],
   "source": [
    "# n-grams\n",
    "var = \"I am Tarushi Vasishth. I am an AI and ML enthusiast. I am tarushi\""
   ]
  },
  {
   "cell_type": "code",
   "execution_count": 62,
   "id": "fb8a9781-cddc-427e-ad2e-51207c4da123",
   "metadata": {},
   "outputs": [
    {
     "data": {
      "text/plain": [
       "['I',\n",
       " 'am',\n",
       " 'Tarushi',\n",
       " 'Vasishth',\n",
       " '.',\n",
       " 'I',\n",
       " 'am',\n",
       " 'an',\n",
       " 'AI',\n",
       " 'and',\n",
       " 'ML',\n",
       " 'enthusiast',\n",
       " '.',\n",
       " 'I',\n",
       " 'am',\n",
       " 'tarushi']"
      ]
     },
     "execution_count": 62,
     "metadata": {},
     "output_type": "execute_result"
    }
   ],
   "source": [
    "# tokenize\n",
    "word = word_tokenize(var)\n",
    "word"
   ]
  },
  {
   "cell_type": "code",
   "execution_count": 80,
   "id": "b4924ba4-5a07-498c-bf0c-d1edbb33e85e",
   "metadata": {},
   "outputs": [],
   "source": [
    "# stop words removal\n",
    "# words_list = []\n",
    "# for i in word:\n",
    "#     if i not in stop_word_list:\n",
    "#         words_list.append(i)\n",
    "# words_list"
   ]
  },
  {
   "cell_type": "code",
   "execution_count": 81,
   "id": "152a4e3d-e04c-4447-9e1d-36348950045e",
   "metadata": {},
   "outputs": [],
   "source": [
    "# ngrams\n",
    "from nltk.collocations import BigramCollocationFinder,TrigramCollocationFinder,ngrams"
   ]
  },
  {
   "cell_type": "code",
   "execution_count": 89,
   "id": "436bc15f-12dc-4e57-9af5-78c2ec2945d0",
   "metadata": {},
   "outputs": [],
   "source": [
    "b = BigramCollocationFinder.from_words(word)\n",
    "t = TrigramCollocationFinder.from_words(word)\n",
    "n = ngrams(word,4) # n is a zip file so we will have to iterate"
   ]
  },
  {
   "cell_type": "code",
   "execution_count": 83,
   "id": "dcb8f890-e4ab-4897-a26d-3d9dd84b66b0",
   "metadata": {},
   "outputs": [
    {
     "data": {
      "text/plain": [
       "FreqDist({('I', 'am'): 3, ('.', 'I'): 2, ('am', 'Tarushi'): 1, ('Tarushi', 'Vasishth'): 1, ('Vasishth', '.'): 1, ('am', 'an'): 1, ('an', 'AI'): 1, ('AI', 'and'): 1, ('and', 'ML'): 1, ('ML', 'enthusiast'): 1, ...})"
      ]
     },
     "execution_count": 83,
     "metadata": {},
     "output_type": "execute_result"
    }
   ],
   "source": [
    "b.ngram_fd # (word1,word2): no. of times repeated in the sentence"
   ]
  },
  {
   "cell_type": "code",
   "execution_count": 84,
   "id": "33fd62a3-5d90-4768-b2d3-c6ece184dc0c",
   "metadata": {},
   "outputs": [
    {
     "data": {
      "text/plain": [
       "FreqDist({('.', 'I', 'am'): 2, ('I', 'am', 'Tarushi'): 1, ('am', 'Tarushi', 'Vasishth'): 1, ('Tarushi', 'Vasishth', '.'): 1, ('Vasishth', '.', 'I'): 1, ('I', 'am', 'an'): 1, ('am', 'an', 'AI'): 1, ('an', 'AI', 'and'): 1, ('AI', 'and', 'ML'): 1, ('and', 'ML', 'enthusiast'): 1, ...})"
      ]
     },
     "execution_count": 84,
     "metadata": {},
     "output_type": "execute_result"
    }
   ],
   "source": [
    "t.ngram_fd"
   ]
  },
  {
   "cell_type": "code",
   "execution_count": 90,
   "id": "abb3a10f-18c9-4477-8633-8b9eb781d150",
   "metadata": {},
   "outputs": [
    {
     "name": "stdout",
     "output_type": "stream",
     "text": [
      "('I', 'am', 'Tarushi', 'Vasishth')\n",
      "('am', 'Tarushi', 'Vasishth', '.')\n",
      "('Tarushi', 'Vasishth', '.', 'I')\n",
      "('Vasishth', '.', 'I', 'am')\n",
      "('.', 'I', 'am', 'an')\n",
      "('I', 'am', 'an', 'AI')\n",
      "('am', 'an', 'AI', 'and')\n",
      "('an', 'AI', 'and', 'ML')\n",
      "('AI', 'and', 'ML', 'enthusiast')\n",
      "('and', 'ML', 'enthusiast', '.')\n",
      "('ML', 'enthusiast', '.', 'I')\n",
      "('enthusiast', '.', 'I', 'am')\n",
      "('.', 'I', 'am', 'tarushi')\n"
     ]
    }
   ],
   "source": [
    "for i in n:\n",
    "    print(i)"
   ]
  },
  {
   "cell_type": "code",
   "execution_count": 5,
   "id": "063fb19b-6ff1-4842-9f0f-a610eeb49422",
   "metadata": {},
   "outputs": [],
   "source": [
    "from nltk import pos_tag"
   ]
  },
  {
   "cell_type": "code",
   "execution_count": 10,
   "id": "d9571cba-8f59-4038-b42e-aa3787a75a55",
   "metadata": {},
   "outputs": [
    {
     "name": "stderr",
     "output_type": "stream",
     "text": [
      "[nltk_data] Downloading package averaged_perceptron_tagger to\n",
      "[nltk_data]     C:\\Users\\DeveshNarain\\AppData\\Roaming\\nltk_data...\n",
      "[nltk_data]   Unzipping taggers\\averaged_perceptron_tagger.zip.\n"
     ]
    },
    {
     "data": {
      "text/plain": [
       "True"
      ]
     },
     "execution_count": 10,
     "metadata": {},
     "output_type": "execute_result"
    }
   ],
   "source": [
    "import nltk\n",
    "nltk.download('averaged_perceptron_tagger')"
   ]
  },
  {
   "cell_type": "code",
   "execution_count": 12,
   "id": "5b125e99-fb45-4ff7-bdba-44aa583dafcf",
   "metadata": {},
   "outputs": [
    {
     "data": {
      "text/plain": [
       "[('Natural', 'JJ'),\n",
       " ('language', 'NN'),\n",
       " ('processing', 'NN'),\n",
       " ('(', '('),\n",
       " ('NLP', 'NNP'),\n",
       " (')', ')'),\n",
       " ('is', 'VBZ'),\n",
       " ('an', 'DT'),\n",
       " ('interdisciplinary', 'JJ'),\n",
       " ('subfield', 'NN'),\n",
       " ('of', 'IN'),\n",
       " ('computer', 'NN'),\n",
       " ('science', 'NN'),\n",
       " ('and', 'CC'),\n",
       " ('artificial', 'JJ'),\n",
       " ('intelligence', 'NN'),\n",
       " ('.', '.'),\n",
       " ('It', 'PRP'),\n",
       " ('is', 'VBZ'),\n",
       " ('primarily', 'RB'),\n",
       " ('concerned', 'VBN'),\n",
       " ('with', 'IN'),\n",
       " ('providing', 'VBG'),\n",
       " ('computers', 'NNS'),\n",
       " ('with', 'IN'),\n",
       " ('the', 'DT'),\n",
       " ('ability', 'NN'),\n",
       " ('to', 'TO'),\n",
       " ('process', 'VB'),\n",
       " ('data', 'NNS'),\n",
       " ('encoded', 'VBN'),\n",
       " ('in', 'IN'),\n",
       " ('natural', 'JJ'),\n",
       " ('language', 'NN'),\n",
       " ('and', 'CC'),\n",
       " ('is', 'VBZ'),\n",
       " ('thus', 'RB'),\n",
       " ('closely', 'RB'),\n",
       " ('related', 'JJ'),\n",
       " ('to', 'TO'),\n",
       " ('information', 'NN'),\n",
       " ('retrieval', 'NN'),\n",
       " (',', ','),\n",
       " ('knowledge', 'NN'),\n",
       " ('representation', 'NN'),\n",
       " ('and', 'CC'),\n",
       " ('computational', 'JJ'),\n",
       " ('linguistics', 'NNS'),\n",
       " (',', ','),\n",
       " ('a', 'DT'),\n",
       " ('subfield', 'NN'),\n",
       " ('of', 'IN'),\n",
       " ('linguistics', 'NNS'),\n",
       " ('.', '.')]"
      ]
     },
     "execution_count": 12,
     "metadata": {},
     "output_type": "execute_result"
    }
   ],
   "source": [
    "p = pos_tag(w)\n",
    "p # IN: preposition, JJ: adjective"
   ]
  },
  {
   "cell_type": "markdown",
   "id": "06eea531-5941-4934-baf1-407fb47010eb",
   "metadata": {},
   "source": [
    "# Count Vectorizer"
   ]
  },
  {
   "cell_type": "code",
   "execution_count": 91,
   "id": "0dbca139-984f-4122-af7d-d257c388b3d8",
   "metadata": {},
   "outputs": [],
   "source": [
    "li = [\"my name is tarushi\",\"my name is prakriti\"]"
   ]
  },
  {
   "cell_type": "code",
   "execution_count": 93,
   "id": "4f44b537-8539-47ad-a310-86de801b454b",
   "metadata": {},
   "outputs": [],
   "source": [
    "import pandas as pd"
   ]
  },
  {
   "cell_type": "code",
   "execution_count": 94,
   "id": "f0e2f0a1-47d7-4b86-b9a0-230c0726efaf",
   "metadata": {},
   "outputs": [
    {
     "data": {
      "text/html": [
       "<div>\n",
       "<style scoped>\n",
       "    .dataframe tbody tr th:only-of-type {\n",
       "        vertical-align: middle;\n",
       "    }\n",
       "\n",
       "    .dataframe tbody tr th {\n",
       "        vertical-align: top;\n",
       "    }\n",
       "\n",
       "    .dataframe thead th {\n",
       "        text-align: right;\n",
       "    }\n",
       "</style>\n",
       "<table border=\"1\" class=\"dataframe\">\n",
       "  <thead>\n",
       "    <tr style=\"text-align: right;\">\n",
       "      <th></th>\n",
       "      <th>name</th>\n",
       "    </tr>\n",
       "  </thead>\n",
       "  <tbody>\n",
       "    <tr>\n",
       "      <th>0</th>\n",
       "      <td>my name is tarushi</td>\n",
       "    </tr>\n",
       "    <tr>\n",
       "      <th>1</th>\n",
       "      <td>my name is prakriti</td>\n",
       "    </tr>\n",
       "  </tbody>\n",
       "</table>\n",
       "</div>"
      ],
      "text/plain": [
       "                  name\n",
       "0   my name is tarushi\n",
       "1  my name is prakriti"
      ]
     },
     "execution_count": 94,
     "metadata": {},
     "output_type": "execute_result"
    }
   ],
   "source": [
    "df = pd.DataFrame({\"name\": li})\n",
    "df"
   ]
  },
  {
   "cell_type": "code",
   "execution_count": 96,
   "id": "924a0e8d-1de9-4382-a226-1fd700da07a4",
   "metadata": {},
   "outputs": [],
   "source": [
    "from sklearn.feature_extraction.text import CountVectorizer"
   ]
  },
  {
   "cell_type": "code",
   "execution_count": 97,
   "id": "345138e0-0c9d-409a-8502-ba093fba0881",
   "metadata": {},
   "outputs": [],
   "source": [
    "cv = CountVectorizer()"
   ]
  },
  {
   "cell_type": "code",
   "execution_count": 98,
   "id": "34c5c6aa-b83f-4a05-80f7-a088139b3a09",
   "metadata": {},
   "outputs": [
    {
     "data": {
      "text/plain": [
       "<2x5 sparse matrix of type '<class 'numpy.int64'>'\n",
       "\twith 8 stored elements in Compressed Sparse Row format>"
      ]
     },
     "execution_count": 98,
     "metadata": {},
     "output_type": "execute_result"
    }
   ],
   "source": [
    "new_data = cv.fit_transform(df[\"name\"])\n",
    "new_data"
   ]
  },
  {
   "cell_type": "code",
   "execution_count": 100,
   "id": "2af42405-f6ac-499a-9d2e-8f094c09f139",
   "metadata": {},
   "outputs": [
    {
     "data": {
      "text/plain": [
       "array([[1, 1, 1, 0, 1],\n",
       "       [1, 1, 1, 1, 0]], dtype=int64)"
      ]
     },
     "execution_count": 100,
     "metadata": {},
     "output_type": "execute_result"
    }
   ],
   "source": [
    "new_data.toarray()"
   ]
  },
  {
   "cell_type": "code",
   "execution_count": 101,
   "id": "cb948482-0aa7-4b77-a4ad-df11532f0b0e",
   "metadata": {},
   "outputs": [
    {
     "data": {
      "text/plain": [
       "{'my': 1, 'name': 2, 'is': 0, 'tarushi': 4, 'prakriti': 3}"
      ]
     },
     "execution_count": 101,
     "metadata": {},
     "output_type": "execute_result"
    }
   ],
   "source": [
    "cv.vocabulary_"
   ]
  },
  {
   "cell_type": "code",
   "execution_count": null,
   "id": "bf20658d-02b5-4a92-aca2-857a0f396670",
   "metadata": {},
   "outputs": [],
   "source": []
  }
 ],
 "metadata": {
  "kernelspec": {
   "display_name": "Python 3 (ipykernel)",
   "language": "python",
   "name": "python3"
  },
  "language_info": {
   "codemirror_mode": {
    "name": "ipython",
    "version": 3
   },
   "file_extension": ".py",
   "mimetype": "text/x-python",
   "name": "python",
   "nbconvert_exporter": "python",
   "pygments_lexer": "ipython3",
   "version": "3.11.4"
  }
 },
 "nbformat": 4,
 "nbformat_minor": 5
}
